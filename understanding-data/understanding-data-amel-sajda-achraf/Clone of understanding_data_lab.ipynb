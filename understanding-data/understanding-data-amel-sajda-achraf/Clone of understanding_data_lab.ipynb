{
 "cells":[
  {
   "cell_type":"markdown",
   "source":[
    "# Understanding data"
   ],
   "attachments":{
    
   },
   "metadata":{
    "datalore":{
     "node_id":"pSLhJ0jYsubsaMR3ekeLk6",
     "type":"MD",
     "hide_input_from_viewers":false,
     "hide_output_from_viewers":false,
     "report_properties":{
      "rowId":"o3ALu2Ayj4o98bLFmEYn9B"
     }
    }
   }
  },
  {
   "cell_type":"markdown",
   "source":[
    "## Setup\n",
    "### Imports\n",
    "In order to work with data, we need to import some libraries."
   ],
   "attachments":{
    
   },
   "metadata":{
    "datalore":{
     "node_id":"qUP8y4atQ2vL4fkGpGepIT",
     "type":"MD",
     "hide_input_from_viewers":false,
     "hide_output_from_viewers":false,
     "report_properties":{
      "rowId":"ep0PYOduAV663wWJK6pBlO"
     }
    }
   }
  },
  {
   "cell_type":"code",
   "source":[
    "import pandas as pd                     # for dataset manipulation (DataFrames)\n",
    "import sklearn.datasets                 # the datasets we are going to use\n",
    "import numpy as np                      # allows some mathematical operations\n",
    "import matplotlib.pyplot as plt         # library used to display graphs\n",
    "import seaborn as sns                   # more convenient visualization library for dataframes"
   ],
   "execution_count":5,
   "outputs":[
    
   ],
   "metadata":{
    "datalore":{
     "node_id":"OM1O7YIP8I5yVjFSaQfwUq",
     "type":"CODE",
     "hide_input_from_viewers":false,
     "hide_output_from_viewers":false,
     "report_properties":{
      "rowId":"aI1XOSYcckcAHrfk5fhjUR"
     }
    }
   }
  },
  {
   "cell_type":"markdown",
   "source":[
    "### Loading the dataset"
   ],
   "attachments":{
    
   },
   "metadata":{
    "datalore":{
     "node_id":"cHARJIB37Ipz3F1YoegVZ1",
     "type":"MD",
     "hide_input_from_viewers":false,
     "hide_output_from_viewers":false,
     "report_properties":{
      "rowId":"58nSvEQVgsEMuWJ2mlbxlx"
     }
    }
   }
  },
  {
   "cell_type":"code",
   "source":[
    "iris = sklearn.datasets.load_iris()\n",
    "df = pd.DataFrame(data= np.c_[iris['data'], iris['target']], columns= iris['feature_names'] + ['target'])"
   ],
   "execution_count":6,
   "outputs":[
    
   ],
   "metadata":{
    "datalore":{
     "node_id":"DZD35D7h8QJdk78UtA7Kzs",
     "type":"CODE",
     "hide_input_from_viewers":false,
     "hide_output_from_viewers":false,
     "report_properties":{
      "rowId":"BAq7falwBIG1mDdo9hbTjz"
     }
    }
   }
  },
  {
   "cell_type":"markdown",
   "source":[
    "The dataset is now loaded into the `df` variable, which stands for \"DataFrame\".\n",
    "DataFrames are objects proposed by the `pandas` library. They are basically convenient tables, with a lot of built-in functions to manipulate them.\n",
    "\n",
    "You can see what the dataframe looks like by executing the cell below :"
   ],
   "attachments":{
    
   },
   "metadata":{
    "datalore":{
     "node_id":"TtqLx3KnR03k10cEXbNfdc",
     "type":"MD",
     "hide_input_from_viewers":false,
     "hide_output_from_viewers":false,
     "report_properties":{
      "rowId":"JkvXmSUVJOvKJbqqRwNuQ9"
     }
    }
   }
  },
  {
   "cell_type":"code",
   "source":[
    "df"
   ],
   "execution_count":7,
   "outputs":[
    {
     "data":{
      "text\/html":[
       "<div>\n",
       "<style scoped>\n",
       "    .dataframe tbody tr th:only-of-type {\n",
       "        vertical-align: middle;\n",
       "    }\n",
       "\n",
       "    .dataframe tbody tr th {\n",
       "        vertical-align: top;\n",
       "    }\n",
       "\n",
       "    .dataframe thead th {\n",
       "        text-align: right;\n",
       "    }\n",
       "<\/style>\n",
       "<table border=\"1\" class=\"dataframe\">\n",
       "  <thead>\n",
       "    <tr style=\"text-align: right;\">\n",
       "      <th><\/th>\n",
       "      <th>sepal length (cm)<\/th>\n",
       "      <th>sepal width (cm)<\/th>\n",
       "      <th>petal length (cm)<\/th>\n",
       "      <th>petal width (cm)<\/th>\n",
       "      <th>target<\/th>\n",
       "    <\/tr>\n",
       "  <\/thead>\n",
       "  <tbody>\n",
       "    <tr>\n",
       "      <th>0<\/th>\n",
       "      <td>5.1<\/td>\n",
       "      <td>3.5<\/td>\n",
       "      <td>1.4<\/td>\n",
       "      <td>0.2<\/td>\n",
       "      <td>0.0<\/td>\n",
       "    <\/tr>\n",
       "    <tr>\n",
       "      <th>1<\/th>\n",
       "      <td>4.9<\/td>\n",
       "      <td>3.0<\/td>\n",
       "      <td>1.4<\/td>\n",
       "      <td>0.2<\/td>\n",
       "      <td>0.0<\/td>\n",
       "    <\/tr>\n",
       "    <tr>\n",
       "      <th>2<\/th>\n",
       "      <td>4.7<\/td>\n",
       "      <td>3.2<\/td>\n",
       "      <td>1.3<\/td>\n",
       "      <td>0.2<\/td>\n",
       "      <td>0.0<\/td>\n",
       "    <\/tr>\n",
       "    <tr>\n",
       "      <th>3<\/th>\n",
       "      <td>4.6<\/td>\n",
       "      <td>3.1<\/td>\n",
       "      <td>1.5<\/td>\n",
       "      <td>0.2<\/td>\n",
       "      <td>0.0<\/td>\n",
       "    <\/tr>\n",
       "    <tr>\n",
       "      <th>4<\/th>\n",
       "      <td>5.0<\/td>\n",
       "      <td>3.6<\/td>\n",
       "      <td>1.4<\/td>\n",
       "      <td>0.2<\/td>\n",
       "      <td>0.0<\/td>\n",
       "    <\/tr>\n",
       "    <tr>\n",
       "      <th>...<\/th>\n",
       "      <td>...<\/td>\n",
       "      <td>...<\/td>\n",
       "      <td>...<\/td>\n",
       "      <td>...<\/td>\n",
       "      <td>...<\/td>\n",
       "    <\/tr>\n",
       "    <tr>\n",
       "      <th>145<\/th>\n",
       "      <td>6.7<\/td>\n",
       "      <td>3.0<\/td>\n",
       "      <td>5.2<\/td>\n",
       "      <td>2.3<\/td>\n",
       "      <td>2.0<\/td>\n",
       "    <\/tr>\n",
       "    <tr>\n",
       "      <th>146<\/th>\n",
       "      <td>6.3<\/td>\n",
       "      <td>2.5<\/td>\n",
       "      <td>5.0<\/td>\n",
       "      <td>1.9<\/td>\n",
       "      <td>2.0<\/td>\n",
       "    <\/tr>\n",
       "    <tr>\n",
       "      <th>147<\/th>\n",
       "      <td>6.5<\/td>\n",
       "      <td>3.0<\/td>\n",
       "      <td>5.2<\/td>\n",
       "      <td>2.0<\/td>\n",
       "      <td>2.0<\/td>\n",
       "    <\/tr>\n",
       "    <tr>\n",
       "      <th>148<\/th>\n",
       "      <td>6.2<\/td>\n",
       "      <td>3.4<\/td>\n",
       "      <td>5.4<\/td>\n",
       "      <td>2.3<\/td>\n",
       "      <td>2.0<\/td>\n",
       "    <\/tr>\n",
       "    <tr>\n",
       "      <th>149<\/th>\n",
       "      <td>5.9<\/td>\n",
       "      <td>3.0<\/td>\n",
       "      <td>5.1<\/td>\n",
       "      <td>1.8<\/td>\n",
       "      <td>2.0<\/td>\n",
       "    <\/tr>\n",
       "  <\/tbody>\n",
       "<\/table>\n",
       "<p>150 rows × 5 columns<\/p>\n",
       "<\/div>"
      ]
     },
     "metadata":{
      
     },
     "output_type":"display_data"
    }
   ],
   "metadata":{
    "datalore":{
     "node_id":"W9twgsRODqq67LyDXI5y4u",
     "type":"CODE",
     "hide_input_from_viewers":false,
     "hide_output_from_viewers":false,
     "report_properties":{
      "rowId":"2yOevIzbQhkyf52EZQB9bV"
     }
    }
   }
  },
  {
   "cell_type":"markdown",
   "source":[
    "## Data understanding\n",
    "### Data source and documentation\n",
    "Before even writing any code, it is important to check where the data is coming from and gather as much information as possible on the data it contains.\n",
    "The iris dataset - that we loaded above - is a popular dataset to teach machine learning, meaning information is easily accessible on the internet.\n",
    "\n",
    "\n",
    "#### Questions\n",
    "**Before beginning the data analysis, find the answers to the following questions:**\n",
    "- Who created the dataset? When and why?\n",
    "- Describe briefly what the iris dataset contains.\n",
    "- What information does the columns contain?\n",
    "- In particular, what is the `target` column, and what does its values correspond to?\n",
    "\n",
    "*Hint: We use the `scikit-learn` library to load the dataset.*\n",
    "\n",
    "\n",
    "#### Answers\n",
    "*[-The iris dataset was created by British biologist and statistician Ronald A. Fisher in 1936. He created it for the purpose of demonstrating discriminant analysis, a statistical technique for distinguishing between different groups.\n",
    "- The iris dataset contains data on three species of iris flowers: Setosa, Versicolor, and Virginica. It includes measurements of four features for each flower: sepal length, sepal width, petal length, and petal width.\n",
    "- The columns in the iris dataset contain the following information:\n",
    "Sepal length (in centimeters)\n",
    "Sepal width (in centimeters)\n",
    "Petal length (in centimeters)\n",
    "Petal width (in centimeters)\n",
    "-The target column in the iris dataset corresponds to the species of the iris flower. It is a categorical column with integer values representing different species:\n",
    "\n",
    "0 corresponds to Setosa\n",
    "1 corresponds to Versicolor\n",
    "2 corresponds to Virginica]*"
   ],
   "attachments":{
    
   },
   "metadata":{
    "datalore":{
     "node_id":"e8vfC6SgbvPVFtqSpx6G56",
     "type":"MD",
     "hide_input_from_viewers":false,
     "hide_output_from_viewers":false,
     "report_properties":{
      "rowId":"HYiHt19cG2qT6Zi2zyF2oD"
     }
    }
   }
  },
  {
   "cell_type":"markdown",
   "source":[
    "### Getting general information about the dataset\n",
    "\n",
    "#### Questions\n",
    "\n",
    "1. How much data does the dataset contain?\n",
    "2. How many features (columns) are there?\n",
    "3. Name the different columns and their data types.\n",
    "4. For each column, check the values of the following statistics: mean, standard deviation, minimum, maximum, and median.\n",
    "5. How do these values vary within each type of iris? *(Use the code sample below as reference)*\n",
    "\n",
    "*Hint: You will need to use the pandas functions: `DataFrame.shape`, `DataFrame.head()`, `DataFrame.describe()`, and `DataFrame.info()`. Make sure to [check their documentation](https:\/\/pandas.pydata.org\/pandas-docs\/stable\/reference\/frame.html)!*"
   ],
   "attachments":{
    
   },
   "metadata":{
    "datalore":{
     "node_id":"tfgh10EkpczJJwfALFK9t7",
     "type":"MD",
     "hide_input_from_viewers":false,
     "hide_output_from_viewers":false,
     "report_properties":{
      "rowId":"CdPdTIjOeP6TJIHqjRPy6v"
     }
    }
   }
  },
  {
   "cell_type":"code",
   "source":[
    "# Below is a code sample to show you how to filter a DataFrame\n",
    "filtered_data = df[df[\"sepal length (cm)\"] > 5]\n",
    "filtered_data"
   ],
   "execution_count":null,
   "outputs":[
    
   ],
   "metadata":{
    "datalore":{
     "node_id":"U6fqS6OEzVm40TXZdAKQdL",
     "type":"CODE",
     "hide_input_from_viewers":false,
     "hide_output_from_viewers":false,
     "report_properties":{
      "rowId":"jT98Mhtf8hD3BnQhgetuzj"
     }
    }
   }
  },
  {
   "cell_type":"code",
   "source":[
    "#1\n",
    "data_set_cntn = len(df)\n",
    "print (f\"The data contain {data_set_cntn}\")\n",
    "#2\n",
    "num_features = len(df.columns)\n",
    "\n",
    "print(\"Number of features (columns) in the DataFrame:\", num_features)\n",
    "#3\n",
    "column_names_and_types = df.dtypes\n",
    "\n",
    "print(\"Column Names and Data Types:\")\n",
    "#\n",
    "column_statistics = df.describe()\n",
    "\n",
    "print(\"Statistics for Each Column:\")\n",
    "grouped_data = df.groupby('target')\n",
    "#5\n",
    "statistics_within_groups = grouped_data.describe()\n",
    "\n",
    "print(\"Statistics within Each Type of Iris:\")\n",
    "print(statistics_within_groups)\n",
    "\n"
   ],
   "execution_count":18,
   "outputs":[
    {
     "name":"stdout",
     "text":[
      "The data contain 150\n",
      "Number of features (columns) in the DataFrame: 5\n",
      "Column Names and Data Types:\n",
      "Statistics for Each Column:\n",
      "Statistics within Each Type of Iris:\n",
      "       sepal length (cm)                                              \\\n",
      "                   count   mean       std  min    25%  50%  75%  max   \n",
      "target                                                                 \n",
      "0.0                 50.0  5.006  0.352490  4.3  4.800  5.0  5.2  5.8   \n",
      "1.0                 50.0  5.936  0.516171  4.9  5.600  5.9  6.3  7.0   \n",
      "2.0                 50.0  6.588  0.635880  4.9  6.225  6.5  6.9  7.9   \n",
      "\n",
      "       sepal width (cm)         ... petal length (cm)      petal width (cm)  \\\n",
      "                  count   mean  ...               75%  max            count   \n",
      "target                          ...                                           \n",
      "0.0                50.0  3.428  ...             1.575  1.9             50.0   \n",
      "1.0                50.0  2.770  ...             4.600  5.1             50.0   \n",
      "2.0                50.0  2.974  ...             5.875  6.9             50.0   \n",
      "\n",
      "                                                  \n",
      "         mean       std  min  25%  50%  75%  max  \n",
      "target                                            \n",
      "0.0     0.246  0.105386  0.1  0.2  0.2  0.3  0.6  \n",
      "1.0     1.326  0.197753  1.0  1.2  1.3  1.5  1.8  \n",
      "2.0     2.026  0.274650  1.4  1.8  2.0  2.3  2.5  \n",
      "\n",
      "[3 rows x 32 columns]\n"
     ],
     "output_type":"stream"
    }
   ],
   "metadata":{
    "datalore":{
     "node_id":"AVhn1zMx6opn69FP7OFIOo",
     "type":"CODE",
     "hide_input_from_viewers":false,
     "hide_output_from_viewers":false,
     "report_properties":{
      "rowId":"RUPfMDEYLwFelKaUWfga9M"
     }
    }
   }
  },
  {
   "cell_type":"markdown",
   "source":[
    "### Basic validity checks\n",
    "\n",
    "In order to use a dataset for machine learning, we generally want to have \"clean\" data. Generally, we want to avoid missing and absurd values, duplicates, and imbalanced datasets.\n",
    "\n",
    "#### Questions\n",
    "1. How many rows contain missing data?\n",
    "2. What does it mean for a dataset to be \"balanced\"? Do you think this dataset is balanced?\n",
    "3. Is there any duplicated data in the dataset? In your opinion, is it good or bad for machine learning? Why?\n",
    "\n",
    "*Hint: You will need to use the `value_counts()` and `duplicated()` functions.*"
   ],
   "attachments":{
    
   },
   "metadata":{
    "datalore":{
     "node_id":"obPLGocKPB7POaopTklJiB",
     "type":"MD",
     "hide_input_from_viewers":false,
     "hide_output_from_viewers":false,
     "report_properties":{
      "rowId":"vlkEyiNXBQkoCc7jDTEZYW"
     }
    }
   }
  },
  {
   "cell_type":"code",
   "source":[
    "# Your code here"
   ],
   "execution_count":null,
   "outputs":[
    
   ],
   "metadata":{
    "datalore":{
     "node_id":"Oujy1t2gN3FvdIa9WQ1As7",
     "type":"CODE",
     "hide_input_from_viewers":false,
     "hide_output_from_viewers":false,
     "report_properties":{
      "rowId":"VqLeyPWel5SuuZXHChQBNl"
     }
    }
   }
  },
  {
   "cell_type":"markdown",
   "source":[
    "*[Your answers here]*"
   ],
   "attachments":{
    
   },
   "metadata":{
    "datalore":{
     "node_id":"Nd1T6N4vxEPJ9X1ztmGFl6",
     "type":"MD",
     "hide_input_from_viewers":false,
     "hide_output_from_viewers":false,
     "report_properties":{
      "rowId":"l8wnhYUqbzDNYdUFQtnxPr"
     }
    }
   }
  },
  {
   "cell_type":"markdown",
   "source":[
    "### Making the data more convenient to use\n",
    "\n",
    "You have probably noticed that the column names are quite long and also contain spaces, which is generally inconvenient in code. You can use the following code to change them:"
   ],
   "attachments":{
    
   },
   "metadata":{
    "datalore":{
     "node_id":"cLvw3XcPqPUZyAh8OUmWgP",
     "type":"MD",
     "hide_input_from_viewers":false,
     "hide_output_from_viewers":false,
     "report_properties":{
      "rowId":"xG8XJrQM97iaJvRA1ctw3o"
     }
    }
   }
  },
  {
   "cell_type":"code",
   "source":[
    "df.columns = ['sepal_length', 'sepal_width', 'petal_length', 'petal_width', \"species\"]\n",
    "df"
   ],
   "execution_count":9,
   "outputs":[
    {
     "data":{
      "text\/html":[
       "<div>\n",
       "<style scoped>\n",
       "    .dataframe tbody tr th:only-of-type {\n",
       "        vertical-align: middle;\n",
       "    }\n",
       "\n",
       "    .dataframe tbody tr th {\n",
       "        vertical-align: top;\n",
       "    }\n",
       "\n",
       "    .dataframe thead th {\n",
       "        text-align: right;\n",
       "    }\n",
       "<\/style>\n",
       "<table border=\"1\" class=\"dataframe\">\n",
       "  <thead>\n",
       "    <tr style=\"text-align: right;\">\n",
       "      <th><\/th>\n",
       "      <th>sepal_length<\/th>\n",
       "      <th>sepal_width<\/th>\n",
       "      <th>petal_length<\/th>\n",
       "      <th>petal_width<\/th>\n",
       "      <th>species<\/th>\n",
       "    <\/tr>\n",
       "  <\/thead>\n",
       "  <tbody>\n",
       "    <tr>\n",
       "      <th>0<\/th>\n",
       "      <td>5.1<\/td>\n",
       "      <td>3.5<\/td>\n",
       "      <td>1.4<\/td>\n",
       "      <td>0.2<\/td>\n",
       "      <td>0.0<\/td>\n",
       "    <\/tr>\n",
       "    <tr>\n",
       "      <th>1<\/th>\n",
       "      <td>4.9<\/td>\n",
       "      <td>3.0<\/td>\n",
       "      <td>1.4<\/td>\n",
       "      <td>0.2<\/td>\n",
       "      <td>0.0<\/td>\n",
       "    <\/tr>\n",
       "    <tr>\n",
       "      <th>2<\/th>\n",
       "      <td>4.7<\/td>\n",
       "      <td>3.2<\/td>\n",
       "      <td>1.3<\/td>\n",
       "      <td>0.2<\/td>\n",
       "      <td>0.0<\/td>\n",
       "    <\/tr>\n",
       "    <tr>\n",
       "      <th>3<\/th>\n",
       "      <td>4.6<\/td>\n",
       "      <td>3.1<\/td>\n",
       "      <td>1.5<\/td>\n",
       "      <td>0.2<\/td>\n",
       "      <td>0.0<\/td>\n",
       "    <\/tr>\n",
       "    <tr>\n",
       "      <th>4<\/th>\n",
       "      <td>5.0<\/td>\n",
       "      <td>3.6<\/td>\n",
       "      <td>1.4<\/td>\n",
       "      <td>0.2<\/td>\n",
       "      <td>0.0<\/td>\n",
       "    <\/tr>\n",
       "    <tr>\n",
       "      <th>...<\/th>\n",
       "      <td>...<\/td>\n",
       "      <td>...<\/td>\n",
       "      <td>...<\/td>\n",
       "      <td>...<\/td>\n",
       "      <td>...<\/td>\n",
       "    <\/tr>\n",
       "    <tr>\n",
       "      <th>145<\/th>\n",
       "      <td>6.7<\/td>\n",
       "      <td>3.0<\/td>\n",
       "      <td>5.2<\/td>\n",
       "      <td>2.3<\/td>\n",
       "      <td>2.0<\/td>\n",
       "    <\/tr>\n",
       "    <tr>\n",
       "      <th>146<\/th>\n",
       "      <td>6.3<\/td>\n",
       "      <td>2.5<\/td>\n",
       "      <td>5.0<\/td>\n",
       "      <td>1.9<\/td>\n",
       "      <td>2.0<\/td>\n",
       "    <\/tr>\n",
       "    <tr>\n",
       "      <th>147<\/th>\n",
       "      <td>6.5<\/td>\n",
       "      <td>3.0<\/td>\n",
       "      <td>5.2<\/td>\n",
       "      <td>2.0<\/td>\n",
       "      <td>2.0<\/td>\n",
       "    <\/tr>\n",
       "    <tr>\n",
       "      <th>148<\/th>\n",
       "      <td>6.2<\/td>\n",
       "      <td>3.4<\/td>\n",
       "      <td>5.4<\/td>\n",
       "      <td>2.3<\/td>\n",
       "      <td>2.0<\/td>\n",
       "    <\/tr>\n",
       "    <tr>\n",
       "      <th>149<\/th>\n",
       "      <td>5.9<\/td>\n",
       "      <td>3.0<\/td>\n",
       "      <td>5.1<\/td>\n",
       "      <td>1.8<\/td>\n",
       "      <td>2.0<\/td>\n",
       "    <\/tr>\n",
       "  <\/tbody>\n",
       "<\/table>\n",
       "<p>150 rows × 5 columns<\/p>\n",
       "<\/div>"
      ]
     },
     "metadata":{
      
     },
     "output_type":"display_data"
    }
   ],
   "metadata":{
    "datalore":{
     "node_id":"3cuKVTQfiMo3v5dfMxR1EC",
     "type":"CODE",
     "hide_input_from_viewers":false,
     "hide_output_from_viewers":false,
     "report_properties":{
      "rowId":"He9rZMBPFt7B3SfWdGvTjT"
     }
    }
   }
  },
  {
   "cell_type":"markdown",
   "source":[
    "**Bonus question**: How else can you rename columns in a dataframe?"
   ],
   "attachments":{
    
   },
   "metadata":{
    "datalore":{
     "node_id":"zHy843ldYR9UJXY2WhKl5Q",
     "type":"MD",
     "hide_input_from_viewers":false,
     "hide_output_from_viewers":false,
     "report_properties":{
      "rowId":"g23oBYudlUDMvHO1dzj6lY"
     }
    }
   }
  },
  {
   "cell_type":"code",
   "source":[
    "df.duplicated().value_counts()"
   ],
   "execution_count":10,
   "outputs":[
    {
     "data":{
      "text\/html":[
       "<pre>False    149\n",
       "True       1\n",
       "dtype: int64<\/pre>"
      ]
     },
     "metadata":{
      
     },
     "output_type":"display_data"
    }
   ],
   "metadata":{
    "datalore":{
     "node_id":"FLl6MImogrNYR4GSLqA4vi",
     "type":"CODE",
     "hide_input_from_viewers":false,
     "hide_output_from_viewers":false,
     "report_properties":{
      "rowId":"UBSxhM9gsA1bLRnONdvh79"
     }
    }
   }
  },
  {
   "cell_type":"markdown",
   "source":[
    "The `class_float` column is also a bit hard to read, because the classes are represented by numbers. This can be preferable for some algorithms, but for our use case today we will replace these values by explicit names. For this, we will use the `DataFrame.apply()` function."
   ],
   "attachments":{
    
   },
   "metadata":{
    "datalore":{
     "node_id":"EQRIoilM9RGFnuBpeXYdvu",
     "type":"MD",
     "hide_input_from_viewers":false,
     "hide_output_from_viewers":false,
     "report_properties":{
      "rowId":"XiHAXXmTAPZ6sO1Va6xckd"
     }
    }
   }
  },
  {
   "cell_type":"code",
   "source":[
    "# This is the function we will apply to the \"class_float\" column\n",
    "def name_mapping(number:float):\n",
    "    \"\"\"This function maps 0.0, 1.0 and 2.0 to their corresponding values in the iris dataset.\"\"\"\n",
    "\n",
    "    name_map = {\n",
    "        0.0: \"class1\", # replace by the correct name\n",
    "        1.0: \"class2\", # replace by the correct name\n",
    "        2.0: \"class3\", # replace by the correct name\n",
    "    }\n",
    "\n",
    "    if number not in name_map.keys(): # making sure the number is one of the expected values\n",
    "        raise ValueError(\"Not a valid number!\")\n",
    "\n",
    "    return name_map[number] # This is an alternative to using a lot of if\/else blocks"
   ],
   "execution_count":11,
   "outputs":[
    
   ],
   "metadata":{
    "datalore":{
     "node_id":"DrY834qkYzAZ6av97JQLMr",
     "type":"CODE",
     "hide_input_from_viewers":false,
     "hide_output_from_viewers":false,
     "report_properties":{
      "rowId":"LrmnctfuKZiAzPtXIWjlnO"
     }
    }
   }
  },
  {
   "cell_type":"code",
   "source":[
    "# We can now apply the function\n",
    "df[\"species\"] = df[\"species\"].apply(name_mapping) # We pass the function as parameter, not its result! This is why we must not use parentheses."
   ],
   "execution_count":12,
   "outputs":[
    
   ],
   "metadata":{
    "datalore":{
     "node_id":"X4tAhXKW4C8R5C365oXAYs",
     "type":"CODE",
     "hide_input_from_viewers":false,
     "hide_output_from_viewers":false,
     "report_properties":{
      "rowId":"n490b5SdnsUPyeEXCM65w7"
     }
    }
   }
  },
  {
   "cell_type":"code",
   "source":[
    "# And check the result\n",
    "df"
   ],
   "execution_count":null,
   "outputs":[
    
   ],
   "metadata":{
    "datalore":{
     "node_id":"Mmq56vIAS5uzLrEqNAWAPN",
     "type":"CODE",
     "hide_input_from_viewers":false,
     "hide_output_from_viewers":false,
     "report_properties":{
      "rowId":"xSdLuMGNQSHahN4p26ybIS"
     }
    }
   }
  },
  {
   "cell_type":"markdown",
   "source":[
    "## Data visualization\n",
    "\n",
    "Data visualization will help us:\n",
    "- Confirming and observing things we already know\n",
    "- Learning new facts about the data\n",
    "\n",
    "In this section **keep in mind that the goal of machine learning algorithms would be to classify the different species of iris**."
   ],
   "attachments":{
    
   },
   "metadata":{
    "datalore":{
     "node_id":"C0Dn7xZgtMG8gQEMAzEk4h",
     "type":"MD",
     "hide_input_from_viewers":false,
     "hide_output_from_viewers":false,
     "report_properties":{
      "rowId":"ztAT0cAMMx5BIJJ5wJ3TcB"
     }
    }
   }
  },
  {
   "cell_type":"markdown",
   "source":[
    "### Countplot\n",
    "What does a `countplot` show? With what other function did you get similar results earlier?\n",
    "Try experimenting with the parameters of the function."
   ],
   "attachments":{
    
   },
   "metadata":{
    "datalore":{
     "node_id":"7S4FIJnOJ36H4c3WAy2Qpg",
     "type":"MD",
     "hide_input_from_viewers":false,
     "hide_output_from_viewers":false,
     "report_properties":{
      "rowId":"Ny1ZpckJNhKuNRgD3G35eg"
     }
    }
   }
  },
  {
   "cell_type":"code",
   "source":[
    "sns.countplot(x='species', data=df, )\n",
    "#countplot create bar plots that show the counts of unique values in a categorical variable.\n",
    "sns.countplot(x='species', data=df, palette='Set3', order=df['species'].value_counts().index)\n",
    "plt.title('Countplot of Species')\n",
    "plt.ylabel('Count')\n",
    "#The bars are colored using the 'Set3' color palette.\n",
    "#The categories on the x-axis are ordered by their counts in descending order.\n",
    "#The plot has a title 'Countplot of Species' at the top.\n",
    "plt.show()"
   ],
   "execution_count":18,
   "outputs":[
    {
     "data":{
      "image\/png":"[encoded data removed]"
     },
     "metadata":{
      "image\/png":{
       
      }
     },
     "output_type":"display_data"
    }
   ],
   "metadata":{
    "datalore":{
     "node_id":"MkaYFPSgCmBcavyk7hNxeP",
     "type":"CODE",
     "hide_input_from_viewers":false,
     "hide_output_from_viewers":false,
     "report_properties":{
      "rowId":"IgtQez1fbyf1ITHT3RtZsl"
     }
    }
   }
  },
  {
   "cell_type":"markdown",
   "source":[
    "### Boxplot\n",
    "What does a `boxplot` show? With what other function did you get similar results earlier?\n",
    "In your opinion, why would you need this type of graph?"
   ],
   "attachments":{
    
   },
   "metadata":{
    "datalore":{
     "node_id":"Ms9GBDPvYF1yIDjvGppaUo",
     "type":"MD",
     "hide_input_from_viewers":false,
     "hide_output_from_viewers":false,
     "report_properties":{
      "rowId":"4SRwSaEDbTSlrKRBjASAyJ"
     }
    }
   }
  },
  {
   "cell_type":"code",
   "source":[
    "# Utility function to simplify syntax later on\n",
    "def boxplot(y):\n",
    "    sns.boxplot(x=\"species\", y=y, data=df)\n",
    "\n",
    "# We define a figure where we will be adding our graphs\n",
    "plt.figure(figsize=(5,5))\n",
    "\n",
    "# And then add the plots to the grid on specific positions\n",
    "plt.subplot(221)\n",
    "boxplot('sepal_length')\n",
    "\n",
    "plt.subplot(222)\n",
    "boxplot('sepal_width')\n",
    "\n",
    "plt.subplot(223)\n",
    "boxplot('petal_length')\n",
    "\n",
    "plt.subplot(224)\n",
    "boxplot('petal_width')\n",
    "\n",
    "plt.show()"
   ],
   "execution_count":22,
   "outputs":[
    {
     "data":{
      "image\/png":"[encoded data removed]"
     },
     "metadata":{
      "image\/png":{
       
      }
     },
     "output_type":"display_data"
    }
   ],
   "metadata":{
    "datalore":{
     "node_id":"FwfqsMqUrluscHRqpJGGuC",
     "type":"CODE",
     "hide_input_from_viewers":false,
     "hide_output_from_viewers":false,
     "report_properties":{
      "rowId":"t5787uT9giZ1XiHorgfj1E"
     }
    }
   }
  },
  {
   "cell_type":"markdown",
   "source":[
    "### Scatterplot\n",
    "What does a `scatterplot` show?\n",
    "What conclusions can you draw from this graph?\n",
    "Try changing the inputs of the function. Does this change your observations? What new conclusions can you draw from this?"
   ],
   "attachments":{
    
   },
   "metadata":{
    "datalore":{
     "node_id":"EyNvblwWcgLgOHfm2uGpiv",
     "type":"MD",
     "hide_input_from_viewers":false,
     "hide_output_from_viewers":false,
     "report_properties":{
      "rowId":"v0UDWfPwCa1bDsVE8jaOs1"
     }
    }
   }
  },
  {
   "cell_type":"code",
   "source":[
    "sns.scatterplot(x='petal_length', y='petal_width', hue='species', palette='Set3', data=df )\n",
    "plt.legend(bbox_to_anchor=(1, 1), loc=2) # Displays the legend outside the graph\n",
    "plt.show()"
   ],
   "execution_count":32,
   "outputs":[
    {
     "name":"stderr",
     "text":[
      "<ipython-input-32-c429d53f41e4>:1: UserWarning: \n",
      "The palette list has fewer values (1) than needed (3) and will cycle, which may produce an uninterpretable plot.\n",
      "  sns.scatterplot(x='petal_length', y='petal_width', hue='species', palette=['pink'], data=df )\n"
     ],
     "output_type":"stream"
    },
    {
     "data":{
      "image\/png":"[encoded data removed]"
     },
     "metadata":{
      "image\/png":{
       
      }
     },
     "output_type":"display_data"
    }
   ],
   "metadata":{
    "datalore":{
     "node_id":"iPYFfPUw2i2y3ujoicUJ9I",
     "type":"CODE",
     "hide_input_from_viewers":false,
     "hide_output_from_viewers":false,
     "report_properties":{
      "rowId":"xs4O3F2WXiGvbdWGWBfOVg"
     }
    }
   }
  },
  {
   "cell_type":"markdown",
   "source":[
    "### Displot\n",
    "What does a `displot` show?\n",
    "In the documentation, find what the \"kind\" parameter does, and try all the kinds of plot.\n",
    "Can you imagine a use for the kde plots?"
   ],
   "attachments":{
    
   },
   "metadata":{
    "datalore":{
     "node_id":"wMPvYsyhDfXOf016aZanKz",
     "type":"MD",
     "hide_input_from_viewers":false,
     "hide_output_from_viewers":false,
     "report_properties":{
      "rowId":"63wsStdz0zXpU1a3IIcaEQ"
     }
    }
   }
  },
  {
   "cell_type":"code",
   "source":[
    "sns.displot(df, x=\"sepal_length\", kind=\"kde\", hue=\"species\")"
   ],
   "execution_count":4,
   "outputs":[
    {
     "ename":"NameError",
     "evalue":"NameError: name 'sns' is not defined",
     "traceback":[
      "\u001b[0;31m---------------------------------------------------------------------------",
      "Traceback (most recent call last)",
      "    at line 1 in <module>",
      "NameError: name 'sns' is not defined"
     ],
     "output_type":"error"
    }
   ],
   "metadata":{
    "datalore":{
     "node_id":"WEXkPX8ThTv8JgIyvSJZro",
     "type":"CODE",
     "hide_input_from_viewers":false,
     "hide_output_from_viewers":false,
     "report_properties":{
      "rowId":"vgFEWapMf0oEgBZLg14jcc"
     }
    }
   }
  },
  {
   "cell_type":"markdown",
   "source":[
    "### Pairplot\n",
    "What does a `pairplot` show?\n",
    "Can you draw any new conclusions from it?\n",
    "In your opinion, what could be the uses of such a graph?"
   ],
   "attachments":{
    
   },
   "metadata":{
    "datalore":{
     "node_id":"WJDTISDY34IBmHkhHzOOdA",
     "type":"MD",
     "hide_input_from_viewers":false,
     "hide_output_from_viewers":false,
     "report_properties":{
      "rowId":"nDls67CIZoATszvmpMCiwD"
     }
    }
   }
  },
  {
   "cell_type":"code",
   "source":[
    "sns.pairplot(df,  height=2)"
   ],
   "execution_count":51,
   "outputs":[
    {
     "data":{
      "text\/plain":[
       "<seaborn.axisgrid.PairGrid at 0x7f563de6af40>"
      ]
     },
     "metadata":{
      
     },
     "output_type":"display_data"
    },
    {
     "data":{
      "image\/png":"[encoded data removed]"
     },
     "metadata":{
      "image\/png":{
       
      }
     },
     "output_type":"display_data"
    }
   ],
   "metadata":{
    "datalore":{
     "node_id":"zQhCz5eplor0GFIHz2T5a9",
     "type":"CODE",
     "hide_input_from_viewers":false,
     "hide_output_from_viewers":false,
     "report_properties":{
      "rowId":"h9xUJGGCTFkFmiAU9RWThe"
     }
    }
   }
  },
  {
   "cell_type":"markdown",
   "source":[
    "### Histogram\n",
    "Histograms will not teach us anything new here, but they can be another way of visualizing data."
   ],
   "attachments":{
    
   },
   "metadata":{
    "datalore":{
     "node_id":"hf992mrN9sEJAQmtIvSD7I",
     "type":"MD",
     "hide_input_from_viewers":false,
     "hide_output_from_viewers":false,
     "report_properties":{
      "rowId":"40osvdp0DBXXtv3L1hveBJ"
     }
    }
   }
  },
  {
   "cell_type":"code",
   "source":[
    "fig, axes = plt.subplots(2, 2, figsize=(10,10))\n",
    "\n",
    "axes[0,0].set_title(\"Sepal Length\")\n",
    "axes[0,0].hist(df['sepal_length'], bins=7)\n",
    "\n",
    "axes[0,1].set_title(\"Sepal Width\")\n",
    "axes[0,1].hist(df['sepal_width'], bins=5)\n",
    "\n",
    "axes[1,0].set_title(\"Petal Length\")\n",
    "axes[1,0].hist(df['petal_length'], bins=6)\n",
    "\n",
    "axes[1,1].set_title(\"Petal Width\")\n",
    "axes[1,1].hist(df['petal_width'], bins=6);"
   ],
   "execution_count":34,
   "outputs":[
    {
     "data":{
      "image\/png":"[encoded data removed]"
     },
     "metadata":{
      "image\/png":{
       
      }
     },
     "output_type":"display_data"
    }
   ],
   "metadata":{
    "datalore":{
     "node_id":"AgHq2slDhoVCUccSHLM8du",
     "type":"CODE",
     "hide_input_from_viewers":false,
     "hide_output_from_viewers":false,
     "report_properties":{
      "rowId":"cM1muCiu3gDiAA8Jl8EmIH"
     }
    }
   }
  },
  {
   "cell_type":"markdown",
   "source":[
    "### Correlation\n",
    "Correlation shows the relative importance of variables between each other. It can be computed directly with `pandas`."
   ],
   "attachments":{
    
   },
   "metadata":{
    "datalore":{
     "node_id":"yC3Uek44b1n9ZokhpTZ9vy",
     "type":"MD",
     "hide_input_from_viewers":false,
     "hide_output_from_viewers":false,
     "report_properties":{
      "rowId":"7N1VbABDFK5QRxN3TRJU6t"
     }
    }
   }
  },
  {
   "cell_type":"code",
   "source":[
    "df.corr(method='pearson')"
   ],
   "execution_count":46,
   "outputs":[
    {
     "name":"stderr",
     "text":[
      "<ipython-input-46-432dd9d4238b>:1: FutureWarning: The default value of numeric_only in DataFrame.corr is deprecated. In a future version, it will default to False. Select only valid columns or specify the value of numeric_only to silence this warning.\n",
      "  df.corr(method='pearson')\n"
     ],
     "output_type":"stream"
    },
    {
     "data":{
      "text\/html":[
       "<div>\n",
       "<style scoped>\n",
       "    .dataframe tbody tr th:only-of-type {\n",
       "        vertical-align: middle;\n",
       "    }\n",
       "\n",
       "    .dataframe tbody tr th {\n",
       "        vertical-align: top;\n",
       "    }\n",
       "\n",
       "    .dataframe thead th {\n",
       "        text-align: right;\n",
       "    }\n",
       "<\/style>\n",
       "<table border=\"1\" class=\"dataframe\">\n",
       "  <thead>\n",
       "    <tr style=\"text-align: right;\">\n",
       "      <th><\/th>\n",
       "      <th>sepal_length<\/th>\n",
       "      <th>sepal_width<\/th>\n",
       "      <th>petal_length<\/th>\n",
       "      <th>petal_width<\/th>\n",
       "    <\/tr>\n",
       "  <\/thead>\n",
       "  <tbody>\n",
       "    <tr>\n",
       "      <th>sepal_length<\/th>\n",
       "      <td>1.000000<\/td>\n",
       "      <td>-0.117570<\/td>\n",
       "      <td>0.871754<\/td>\n",
       "      <td>0.817941<\/td>\n",
       "    <\/tr>\n",
       "    <tr>\n",
       "      <th>sepal_width<\/th>\n",
       "      <td>-0.117570<\/td>\n",
       "      <td>1.000000<\/td>\n",
       "      <td>-0.428440<\/td>\n",
       "      <td>-0.366126<\/td>\n",
       "    <\/tr>\n",
       "    <tr>\n",
       "      <th>petal_length<\/th>\n",
       "      <td>0.871754<\/td>\n",
       "      <td>-0.428440<\/td>\n",
       "      <td>1.000000<\/td>\n",
       "      <td>0.962865<\/td>\n",
       "    <\/tr>\n",
       "    <tr>\n",
       "      <th>petal_width<\/th>\n",
       "      <td>0.817941<\/td>\n",
       "      <td>-0.366126<\/td>\n",
       "      <td>0.962865<\/td>\n",
       "      <td>1.000000<\/td>\n",
       "    <\/tr>\n",
       "  <\/tbody>\n",
       "<\/table>\n",
       "<\/div>"
      ]
     },
     "metadata":{
      
     },
     "output_type":"display_data"
    }
   ],
   "metadata":{
    "datalore":{
     "node_id":"YKGI7dm5FxXZr9p4U4VMRT",
     "type":"CODE",
     "hide_input_from_viewers":false,
     "hide_output_from_viewers":false,
     "report_properties":{
      "rowId":"PjCXAfwnjxtcEXXvvI51BK"
     }
    }
   }
  },
  {
   "cell_type":"markdown",
   "source":[
    "`heatmaps` make it easier to see which correlations are the most important."
   ],
   "attachments":{
    
   },
   "metadata":{
    "datalore":{
     "node_id":"rpEO2toYiAhPKvtf4vHpi6",
     "type":"MD",
     "hide_input_from_viewers":false,
     "hide_output_from_viewers":false,
     "report_properties":{
      "rowId":"lpaWkVNkI96RDAdc3Fqedw"
     }
    }
   }
  },
  {
   "cell_type":"code",
   "source":[
    "sns.heatmap(df.corr(method='pearson'),annot = True)\n",
    "plt.show()"
   ],
   "execution_count":47,
   "outputs":[
    {
     "name":"stderr",
     "text":[
      "<ipython-input-47-4eb2f8f6d9ba>:1: FutureWarning: The default value of numeric_only in DataFrame.corr is deprecated. In a future version, it will default to False. Select only valid columns or specify the value of numeric_only to silence this warning.\n",
      "  sns.heatmap(df.corr(method='pearson'),annot = True)\n"
     ],
     "output_type":"stream"
    },
    {
     "data":{
      "image\/png":"[encoded data removed]"
     },
     "metadata":{
      "image\/png":{
       
      }
     },
     "output_type":"display_data"
    }
   ],
   "metadata":{
    "datalore":{
     "node_id":"JXUDa9tJRNghNSgQ8CO4ab",
     "type":"CODE",
     "hide_input_from_viewers":false,
     "hide_output_from_viewers":false,
     "report_properties":{
      "rowId":"BP87Gvq1LFZxBJrOzHvDYo"
     }
    }
   }
  },
  {
   "cell_type":"markdown",
   "source":[
    "### Covariance\n",
    "In the same way, try displaying the covariance matrix with a `heatmap`!\n",
    "\n",
    "*Hint: You can access the covariance matrix with the `cov()` function.*"
   ],
   "attachments":{
    
   },
   "metadata":{
    "datalore":{
     "node_id":"mkB2qdQ2MkNDCDhOx9kFzc",
     "type":"MD",
     "hide_input_from_viewers":false,
     "hide_output_from_viewers":false,
     "report_properties":{
      "rowId":"iZvUqePuq2L4sdViAkgRzf"
     }
    }
   }
  },
  {
   "cell_type":"code",
   "source":[
    "df.corr()"
   ],
   "execution_count":48,
   "outputs":[
    {
     "name":"stderr",
     "text":[
      "<ipython-input-48-2f6f6606aa2c>:1: FutureWarning: The default value of numeric_only in DataFrame.corr is deprecated. In a future version, it will default to False. Select only valid columns or specify the value of numeric_only to silence this warning.\n",
      "  df.corr()\n"
     ],
     "output_type":"stream"
    },
    {
     "data":{
      "text\/html":[
       "<div>\n",
       "<style scoped>\n",
       "    .dataframe tbody tr th:only-of-type {\n",
       "        vertical-align: middle;\n",
       "    }\n",
       "\n",
       "    .dataframe tbody tr th {\n",
       "        vertical-align: top;\n",
       "    }\n",
       "\n",
       "    .dataframe thead th {\n",
       "        text-align: right;\n",
       "    }\n",
       "<\/style>\n",
       "<table border=\"1\" class=\"dataframe\">\n",
       "  <thead>\n",
       "    <tr style=\"text-align: right;\">\n",
       "      <th><\/th>\n",
       "      <th>sepal_length<\/th>\n",
       "      <th>sepal_width<\/th>\n",
       "      <th>petal_length<\/th>\n",
       "      <th>petal_width<\/th>\n",
       "    <\/tr>\n",
       "  <\/thead>\n",
       "  <tbody>\n",
       "    <tr>\n",
       "      <th>sepal_length<\/th>\n",
       "      <td>1.000000<\/td>\n",
       "      <td>-0.117570<\/td>\n",
       "      <td>0.871754<\/td>\n",
       "      <td>0.817941<\/td>\n",
       "    <\/tr>\n",
       "    <tr>\n",
       "      <th>sepal_width<\/th>\n",
       "      <td>-0.117570<\/td>\n",
       "      <td>1.000000<\/td>\n",
       "      <td>-0.428440<\/td>\n",
       "      <td>-0.366126<\/td>\n",
       "    <\/tr>\n",
       "    <tr>\n",
       "      <th>petal_length<\/th>\n",
       "      <td>0.871754<\/td>\n",
       "      <td>-0.428440<\/td>\n",
       "      <td>1.000000<\/td>\n",
       "      <td>0.962865<\/td>\n",
       "    <\/tr>\n",
       "    <tr>\n",
       "      <th>petal_width<\/th>\n",
       "      <td>0.817941<\/td>\n",
       "      <td>-0.366126<\/td>\n",
       "      <td>0.962865<\/td>\n",
       "      <td>1.000000<\/td>\n",
       "    <\/tr>\n",
       "  <\/tbody>\n",
       "<\/table>\n",
       "<\/div>"
      ]
     },
     "metadata":{
      
     },
     "output_type":"display_data"
    }
   ],
   "metadata":{
    "datalore":{
     "node_id":"pqetxZ4c3ReZGiFTTJGoz9",
     "type":"CODE",
     "hide_input_from_viewers":false,
     "hide_output_from_viewers":false,
     "report_properties":{
      "rowId":"JsDJ6RE1aTADJmMOteYtKB"
     }
    }
   }
  },
  {
   "cell_type":"markdown",
   "source":[
    "## Try it yourself!\n",
    "As an exercise, try analysing another dataset that you do no know. There are many datasets freely available on the internet. For example, try loading [another one of sklearn's toy datasets](https:\/\/scikit-learn.org\/stable\/datasets\/toy_dataset.html)!"
   ],
   "attachments":{
    
   },
   "metadata":{
    "datalore":{
     "node_id":"2XeFKtlvUDSyEjuEsQbWXz",
     "type":"MD",
     "hide_input_from_viewers":false,
     "hide_output_from_viewers":false,
     "report_properties":{
      "rowId":"h0df0MHgGtrIiyHQpCBFcc"
     }
    }
   }
  },
  {
   "cell_type":"code",
   "source":[
    "# Your code here"
   ],
   "execution_count":null,
   "outputs":[
    
   ],
   "metadata":{
    "datalore":{
     "node_id":"PgfFlo4gSo9nbaEZKo4FyL",
     "type":"CODE",
     "hide_input_from_viewers":false,
     "hide_output_from_viewers":false,
     "report_properties":{
      "rowId":"YpbqNgpY7ZAiKPS9GRT3Iz"
     }
    }
   }
  }
 ],
 "metadata":{
  "kernelspec":{
   "display_name":"Python",
   "language":"python",
   "name":"python"
  },
  "datalore":{
   "computation_mode":"JUPYTER",
   "package_manager":"pip",
   "base_environment":"default",
   "packages":[
    
   ],
   "report_row_ids":[
    "o3ALu2Ayj4o98bLFmEYn9B",
    "ep0PYOduAV663wWJK6pBlO",
    "aI1XOSYcckcAHrfk5fhjUR",
    "58nSvEQVgsEMuWJ2mlbxlx",
    "BAq7falwBIG1mDdo9hbTjz",
    "JkvXmSUVJOvKJbqqRwNuQ9",
    "2yOevIzbQhkyf52EZQB9bV",
    "HYiHt19cG2qT6Zi2zyF2oD",
    "CdPdTIjOeP6TJIHqjRPy6v",
    "jT98Mhtf8hD3BnQhgetuzj",
    "RUPfMDEYLwFelKaUWfga9M",
    "nkTy0nDMDWF7SKxtx4DFMm",
    "vlkEyiNXBQkoCc7jDTEZYW",
    "VqLeyPWel5SuuZXHChQBNl",
    "l8wnhYUqbzDNYdUFQtnxPr",
    "xG8XJrQM97iaJvRA1ctw3o",
    "He9rZMBPFt7B3SfWdGvTjT",
    "g23oBYudlUDMvHO1dzj6lY",
    "UBSxhM9gsA1bLRnONdvh79",
    "XiHAXXmTAPZ6sO1Va6xckd",
    "LrmnctfuKZiAzPtXIWjlnO",
    "n490b5SdnsUPyeEXCM65w7",
    "xSdLuMGNQSHahN4p26ybIS",
    "ztAT0cAMMx5BIJJ5wJ3TcB",
    "Ny1ZpckJNhKuNRgD3G35eg",
    "IgtQez1fbyf1ITHT3RtZsl",
    "4SRwSaEDbTSlrKRBjASAyJ",
    "t5787uT9giZ1XiHorgfj1E",
    "v0UDWfPwCa1bDsVE8jaOs1",
    "xs4O3F2WXiGvbdWGWBfOVg",
    "63wsStdz0zXpU1a3IIcaEQ",
    "vgFEWapMf0oEgBZLg14jcc",
    "nDls67CIZoATszvmpMCiwD",
    "h9xUJGGCTFkFmiAU9RWThe",
    "40osvdp0DBXXtv3L1hveBJ",
    "cM1muCiu3gDiAA8Jl8EmIH",
    "7N1VbABDFK5QRxN3TRJU6t",
    "PjCXAfwnjxtcEXXvvI51BK",
    "lpaWkVNkI96RDAdc3Fqedw",
    "BP87Gvq1LFZxBJrOzHvDYo",
    "iZvUqePuq2L4sdViAkgRzf",
    "JsDJ6RE1aTADJmMOteYtKB",
    "h0df0MHgGtrIiyHQpCBFcc",
    "YpbqNgpY7ZAiKPS9GRT3Iz"
   ],
   "version":3
  }
 },
 "nbformat":4,
 "nbformat_minor":4
}