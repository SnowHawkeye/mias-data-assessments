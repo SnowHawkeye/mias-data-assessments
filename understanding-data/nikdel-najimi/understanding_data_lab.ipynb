{
 "cells": [
  {
   "cell_type": "markdown",
   "metadata": {
    "collapsed": false
   },
   "source": [
    "# Understanding data"
   ]
  },
  {
   "cell_type": "markdown",
   "metadata": {
    "collapsed": false
   },
   "source": [
    "## Setup\n",
    "### Imports\n",
    "In order to work with data, we need to import some libraries."
   ]
  },
  {
   "cell_type": "code",
   "execution_count": 2,
   "metadata": {
    "collapsed": false
   },
   "outputs": [],
   "source": [
    "import pandas as pd                     # for dataset manipulation (DataFrames)\n",
    "import sklearn.datasets                 # the datasets we are going to use\n",
    "import numpy as np                      # allows some mathematical operations\n",
    "import matplotlib.pyplot as plt         # library used to display graphs\n",
    "import seaborn as sns                   # more convenient visualization library for dataframes"
   ]
  },
  {
   "cell_type": "markdown",
   "metadata": {
    "collapsed": false
   },
   "source": [
    "### Loading the dataset"
   ]
  },
  {
   "cell_type": "code",
   "execution_count": null,
   "metadata": {
    "collapsed": false
   },
   "outputs": [],
   "source": [
    "iris = sklearn.datasets.load_iris()\n",
    "df = pd.DataFrame(data= np.c_[iris['data'], iris['target']], columns= iris['feature_names'] + ['target'])"
   ]
  },
  {
   "cell_type": "markdown",
   "metadata": {
    "collapsed": false
   },
   "source": [
    "The dataset is now loaded into the `df` variable, which stands for \"DataFrame\".\n",
    "DataFrames are objects proposed by the `pandas` library. They are basically convenient tables, with a lot of built-in functions to manipulate them.\n",
    "\n",
    "You can see what the dataframe looks like by executing the cell below :"
   ]
  },
  {
   "cell_type": "code",
   "execution_count": null,
   "metadata": {
    "collapsed": false
   },
   "outputs": [],
   "source": [
    "df"
   ]
  },
  {
   "cell_type": "markdown",
   "metadata": {
    "collapsed": false
   },
   "source": [
    "## Data understanding\n",
    "### Data source and documentation\n",
    "Before even writing any code, it is important to check where the data is coming from and gather as much information as possible on the data it contains.\n",
    "The iris dataset - that we loaded above - is a popular dataset to teach machine learning, meaning information is easily accessible on the internet.\n",
    "\n",
    "\n",
    "#### Questions\n",
    "**Before beginning the data analysis, find the answers to the following questions:**\n",
    "- Who created the dataset? When and why?\n",
    "- Describe briefly what the iris dataset contains.\n",
    "- What information does the columns contain?\n",
    "- In particular, what is the `target` column, and what does its values correspond to?\n",
    "\n",
    "*Hint: We use the `scikit-learn` library to load the dataset.*\n",
    "\n",
    "\n",
    "#### Answers\n",
    "\n",
    "- Who created the dataset? When and why? => Sir R.A. Fisher. 1936. To illustrate discriminant analysis. (https://scikit-learn.org/stable/datasets/toy_dataset.html#iris-dataset)\n",
    "- Describe briefly what the iris dataset contains. => The data set contains 3 classes of 50 instances each, where each class refers to a type of iris plant. One class is linearly separable from the other 2; the latter are NOT linearly separable from each other.\n",
    "- What information does the columns contain? => sepal length, sepal width, petal length, petal width, target\n",
    "- In particular, what is the `target` column, and what does its values correspond to? => The target column is the class of the iris plant. It has 3 values : 0, 1, 2. Each value corresponds to a type of iris plant. 0 is Iris-Setosa, 1 is Iris-Versicolour, 2 is Iris-Virginica\n",
    "\n"
   ]
  },
  {
   "cell_type": "markdown",
   "metadata": {
    "collapsed": false
   },
   "source": [
    "### Getting general information about the dataset\n",
    "\n",
    "#### Questions\n",
    "\n",
    "1. How much data does the dataset contain?\n",
    "2. How many features (columns) are there?\n",
    "3. Name the different columns and their data types.\n",
    "4. For each column, check the values of the following statistics: mean, standard deviation, minimum, maximum, and median.\n",
    "5. How do these values vary within each type of iris? *(Use the code sample below as reference)*\n",
    "\n",
    "*Hint: You will need to use the pandas functions: `DataFrame.shape`, `DataFrame.head()`, `DataFrame.describe()`, and `DataFrame.info()`. Make sure to [check their documentation](https://pandas.pydata.org/pandas-docs/stable/reference/frame.html)!*"
   ]
  },
  {
   "cell_type": "code",
   "execution_count": null,
   "metadata": {
    "collapsed": false
   },
   "outputs": [],
   "source": [
    "# Below is a code sample to show you how to filter a DataFrame\n",
    "filtered_data = df[df[\"sepal length (cm)\"] > 5]\n",
    "filtered_data"
   ]
  },
  {
   "cell_type": "code",
   "execution_count": null,
   "metadata": {
    "collapsed": false
   },
   "outputs": [],
   "source": [
    "# Your code here\n",
    "# Question 1 et 2\n",
    "df.shape #  1) 150 ligne, 5 colonne ou df.info()\n",
    "# Question 3\n",
    "df.info() # sepal length\n",
    "# Question 4\n",
    "df.describe()\n",
    "# Question 5\n",
    "filtered2 = df[df[\"target\"] == 2]\n",
    "filtered2.describe()\n",
    "filtered1 = df[df[\"target\"] == 1]\n",
    "filtered1.describe()\n",
    "filtered0 = df[df[\"target\"] == 0]\n",
    "filtered0.describe()"
   ]
  },
  {
   "cell_type": "markdown",
   "metadata": {
    "collapsed": false
   },
   "source": [
    "*[Your answers here]*\n",
    "\n",
    "**Question 1:** 150\n",
    "\n",
    "**Question 2:** 5\n",
    "\n",
    "**Question 3:** sepal length (cm) float64, sepal width (cm) float64, petal length (cm) float64, petal width (cm) float64, target float64\n",
    "\n",
    "**Question 4:** \n",
    "| Colonne | Mean | standard deviation | minimum | maximum | median |\n",
    "| --- | --- | --- | --- | --- | --- |\n",
    "| sepal length (cm) | 5.843333 | 0.828066 | 4.3 | 7.9 | 5.8 |\n",
    "| sepal width (cm) | 3.057333 | 0.435866 | 2.0 | 4.4 | 3.0 |\n",
    "| petal length (cm) | 3.758000 | 1.765298 | 1.0 | 6.9 | 4.35 |\n",
    "| petal width (cm) | 1.199333 | 0.762238 | 0.1 | 2.5 | 1.3 |\n",
    "| target | 1.000000 | 0.819232 | 0.0 | 2.0 | 1.0 |\n",
    "\n",
    "**Question 5:** \n",
    "\n",
    "Target 0:\n",
    "\n",
    "| Colonne | Mean | standard deviation | minimum | maximum | median |\n",
    "| --- | --- | --- | --- | --- | --- |\n",
    "| sepal length (cm) | 5.006 | 0.352490 | 4.3 | 5.8 | 5.0 |\n",
    "| sepal width (cm) | 3.428 | 0.379064 | 2.3 | 4.4 | 3.4 |\n",
    "| petal length (cm) | 1.462 | 0.173664 | 1.0 | 1.9 | 1.5 |\n",
    "| petal width (cm) | 0.246 | 0.105386 | 0.1 | 0.6 | 0.2 |\n",
    "| target | 0.000000 | 0.000000 | 0.0 | 0.0 | 0.0 |\n",
    "\n",
    "Target 1:\n",
    "| Colonne | Mean | standard deviation | minimum | maximum | median |\n",
    "| --- | --- | --- | --- | --- | --- |\n",
    "| sepal length (cm) | 5.936 | 0.516171 | 4.9 | 7.0 | 5.9 |\n",
    "| sepal width (cm) | 2.770 | 0.313798 | 2.0 | 3.4 | 2.8 |\n",
    "| petal length (cm) | 4.260 | 0.469911 | 3.0 | 5.1 | 4.35 |\n",
    "| petal width (cm) | 1.326 | 0.197753 | 1.0 | 1.8 | 1.3 |\n",
    "| target | 1.000000 | 0.000000 | 1.0 | 1.0 | 1.0 |\n",
    "\n",
    "Target 2:\n",
    "| Colonne | Mean | standard deviation | minimum | maximum | median |\n",
    "| --- | --- | --- | --- | --- | --- |\n",
    "| sepal length (cm) | 6.588 | 0.635880 | 4.9 | 7.9 | 6.5 |\n",
    "| sepal width (cm) | 2.974 | 0.322497 | 2.2 | 3.8 | 3.0 |\n",
    "| petal length (cm) | 5.552 | 0.551895 | 4.5 | 6.9 | 5.55 |\n",
    "| petal width (cm) | 2.026 | 0.274650 | 1.4 | 2.5 | 2.0 |\n",
    "| target | 2.000000 | 0.000000 | 2.0 | 2.0 | 2.0 |"
   ]
  },
  {
   "cell_type": "markdown",
   "metadata": {
    "collapsed": false
   },
   "source": [
    "### Basic validity checks\n",
    "\n",
    "In order to use a dataset for machine learning, we generally want to have \"clean\" data. Generally, we want to avoid missing and absurd values, duplicates, and imbalanced datasets.\n",
    "\n",
    "#### Questions\n",
    "1. How many rows contain missing data?\n",
    "2. What does it mean for a dataset to be \"balanced\"? Do you think this dataset is balanced?\n",
    "3. Is there any duplicated data in the dataset? In your opinion, is it good or bad for machine learning? Why?\n",
    "\n",
    "*Hint: You will need to use the `value_counts()` and `duplicated()` functions.*"
   ]
  },
  {
   "cell_type": "code",
   "execution_count": null,
   "metadata": {
    "collapsed": false
   },
   "outputs": [],
   "source": [
    "# Your code here\n",
    "df.info()\n",
    "df[\"target\"].value_counts()\n",
    "df.duplicated().value_counts()"
   ]
  },
  {
   "cell_type": "markdown",
   "metadata": {
    "collapsed": false
   },
   "source": [
    "*[Your answers here]*\n",
    "\n",
    "Question 1 : 0\n",
    "Question 2 : Si toutes les targets ont le meme nombre = balanced, sinon = imbalanced. Ici, le dataset est balanced.\n",
    "Question 3 : Oui 1. Cela dépends selon le type de données, la, il y a 1 fleur identique dans le dataset ce qui n'est pas un problème."
   ]
  },
  {
   "cell_type": "markdown",
   "metadata": {
    "collapsed": false
   },
   "source": [
    "### Making the data more convenient to use\n",
    "\n",
    "You have probably noticed that the column names are quite long and also contain spaces, which is generally inconvenient in code. You can use the following code to change them:"
   ]
  },
  {
   "cell_type": "code",
   "execution_count": null,
   "metadata": {
    "collapsed": false
   },
   "outputs": [],
   "source": [
    "df.columns = ['sepal_length', 'sepal_width', 'petal_length', 'petal_width', \"species\"]\n",
    "df"
   ]
  },
  {
   "cell_type": "markdown",
   "metadata": {
    "collapsed": false
   },
   "source": [
    "**Bonus question**: How else can you rename columns in a dataframe?"
   ]
  },
  {
   "cell_type": "code",
   "execution_count": null,
   "metadata": {
    "collapsed": false
   },
   "outputs": [],
   "source": [
    "# Your code here\n",
    "df.rename(columns={ \"A\": \"sepal_length\", \"B\" : \"sepal_width\",  \"C\": \"petal_length\", \"D\": \"petal_width\", \"E\":\"species\"})\n",
    "df"
   ]
  },
  {
   "cell_type": "markdown",
   "metadata": {
    "collapsed": false
   },
   "source": [
    "The `class_float` column is also a bit hard to read, because the classes are represented by numbers. This can be preferable for some algorithms, but for our use case today we will replace these values by explicit names. For this, we will use the `DataFrame.apply()` function."
   ]
  },
  {
   "cell_type": "code",
   "execution_count": null,
   "metadata": {
    "collapsed": false
   },
   "outputs": [],
   "source": [
    "# This is the function we will apply to the \"class_float\" column\n",
    "def name_mapping(number:float):\n",
    "    \"\"\"This function maps 0.0, 1.0 and 2.0 to their corresponding values in the iris dataset.\"\"\"\n",
    "\n",
    "    name_map = {\n",
    "        0.0: \"setosa\", # replace by the correct name\n",
    "        1.0: \"versicolour\", # replace by the correct name\n",
    "        2.0: \"virginica\", # replace by the correct name\n",
    "    }\n",
    "\n",
    "    if number not in name_map.keys(): # making sure the number is one of the expected values\n",
    "        raise ValueError(\"Not a valid number!\")\n",
    "\n",
    "    return name_map[number] # This is an alternative to using a lot of if/else blocks"
   ]
  },
  {
   "cell_type": "code",
   "execution_count": null,
   "metadata": {
    "collapsed": false
   },
   "outputs": [],
   "source": [
    "# We can now apply the function\n",
    "df[\"species\"] = df[\"species\"].apply(name_mapping) # We pass the function as parameter, not its result! This is why we must not use parentheses."
   ]
  },
  {
   "cell_type": "code",
   "execution_count": null,
   "metadata": {
    "collapsed": false
   },
   "outputs": [],
   "source": [
    "# And check the result\n",
    "df"
   ]
  },
  {
   "cell_type": "markdown",
   "metadata": {
    "collapsed": false
   },
   "source": [
    "## Data visualization\n",
    "\n",
    "Data visualization will help us:\n",
    "- Confirming and observing things we already know\n",
    "- Learning new facts about the data\n",
    "\n",
    "In this section **keep in mind that the goal of machine learning algorithms would be to classify the different species of iris**."
   ]
  },
  {
   "cell_type": "markdown",
   "metadata": {
    "collapsed": false
   },
   "source": [
    "### Countplot\n",
    "What does a `countplot` show? With what other function did you get similar results earlier?\n",
    "Try experimenting with the parameters of the function."
   ]
  },
  {
   "cell_type": "code",
   "execution_count": null,
   "metadata": {
    "collapsed": false
   },
   "outputs": [],
   "source": [
    "sns.countplot(x='species', data=df)\n",
    "plt.show()\n",
    "# A countplot show multiples rectangles, we hqd similar results with df.valuecounts(\"target\")\n",
    "# It shows us that the data is balanced"
   ]
  },
  {
   "cell_type": "markdown",
   "metadata": {
    "collapsed": false
   },
   "source": [
    "### Boxplot\n",
    "What does a `boxplot` show? With what other function did you get similar results earlier?\n",
    "In your opinion, why would you need this type of graph?"
   ]
  },
  {
   "cell_type": "code",
   "execution_count": null,
   "metadata": {
    "collapsed": false
   },
   "outputs": [],
   "source": [
    "# Utility function to simplify syntax later on\n",
    "def boxplot(y):\n",
    "    sns.boxplot(x=\"species\", y=y, data=df)\n",
    "\n",
    "# We define a figure where we will be adding our graphs\n",
    "plt.figure(figsize=(15,10))\n",
    "\n",
    "# And then add the plots to the grid on specific positions\n",
    "plt.subplot(221)\n",
    "boxplot('sepal_length')\n",
    "\n",
    "plt.subplot(222)\n",
    "boxplot('sepal_width')\n",
    "\n",
    "plt.subplot(223)\n",
    "boxplot('petal_length')\n",
    "\n",
    "plt.subplot(224)\n",
    "boxplot('petal_width')\n",
    "\n",
    "plt.show()\n",
    "\n",
    "# It shows the min and the max with whiskers and the quartiles(between 25% and 75%) in the form of a rectangle. We need it to show the data distribution\n",
    "# sepal length order is = 1) Virginica 2) Versicolour 3) setosa\n",
    "# sepal width order is = 1) setosa 2)Versicolour 3) Virginica\n",
    "# petal length order is = 1) Virginica 2) Versicolour 3) Setosa\n",
    "# petal width order is = 1) Virginica 2) Versicolour 3) Setosa"
   ]
  },
  {
   "cell_type": "markdown",
   "metadata": {
    "collapsed": false
   },
   "source": [
    "### Scatterplot\n",
    "What does a `scatterplot` show?\n",
    "What conclusions can you draw from this graph?\n",
    "Try changing the inputs of the function. Does this change your observations? What new conclusions can you draw from this?"
   ]
  },
  {
   "cell_type": "code",
   "execution_count": null,
   "metadata": {
    "collapsed": false
   },
   "outputs": [],
   "source": [
    "def scatter(xd , yd, hued, dfd):\n",
    "\tsns.scatterplot(x=xd, y=yd, hue=hued, data=dfd, )\n",
    "\tplt.legend(bbox_to_anchor=(1, 1), loc=2) # Displays the legend outside the graph\n",
    "\tplt.show()\n",
    "\n",
    "scatter('sepal_length', 'sepal_width', 'species', df)\n",
    "scatter('petal_length', 'petal_width', 'species' , df)\n",
    "scatter('species', 'sepal_width', 'sepal_length', df)\n",
    "\n",
    "# A scatter plot shows us the different semantic groupings. \n",
    "# Setose sepal = Most width / less length\n",
    "# Setose petal = less width / less length\n",
    "# Versicolour sepal = A little bit more width than virginica, but less length than Virginica\n",
    "# Versicolour petal = between the Setose and Virginica, closer to virginica\n",
    "# Virginica sepal = Most length / less width\n",
    "# Virginica petal = Most Width / Most length"
   ]
  },
  {
   "cell_type": "markdown",
   "metadata": {
    "collapsed": false
   },
   "source": [
    "### Displot\n",
    "What does a `displot` show?\n",
    "In the documentation, find what the \"kind\" parameter does, and try all the kinds of plot.\n",
    "Can you imagine a use for the kde plots?"
   ]
  },
  {
   "cell_type": "code",
   "execution_count": null,
   "metadata": {
    "collapsed": false
   },
   "outputs": [],
   "source": [
    "sns.displot(df, x=\"petal_length\", kind=\"kde\", hue=\"species\")\n"
   ]
  },
  {
   "cell_type": "markdown",
   "metadata": {
    "collapsed": false
   },
   "source": [
    "### Pairplot\n",
    "What does a `pairplot` show?\n",
    "Can you draw any new conclusions from it?\n",
    "In your opinion, what could be the uses of such a graph?"
   ]
  },
  {
   "cell_type": "code",
   "execution_count": null,
   "metadata": {
    "collapsed": false
   },
   "outputs": [],
   "source": [
    "sns.pairplot(df, hue='species', height=2)"
   ]
  },
  {
   "cell_type": "markdown",
   "metadata": {
    "collapsed": false
   },
   "source": [
    "### Histogram\n",
    "Histograms will not teach us anything new here, but they can be another way of visualizing data."
   ]
  },
  {
   "cell_type": "code",
   "execution_count": null,
   "metadata": {
    "collapsed": false
   },
   "outputs": [],
   "source": [
    "fig, axes = plt.subplots(2, 2, figsize=(10,10))\n",
    "\n",
    "axes[0,0].set_title(\"Sepal Length\")\n",
    "axes[0,0].hist(df['sepal_length'], bins=17)\n",
    "\n",
    "axes[0,1].set_title(\"Sepal Width\")\n",
    "axes[0,1].hist(df['sepal_width'], bins=5)\n",
    "\n",
    "axes[1,0].set_title(\"Petal Length\")\n",
    "axes[1,0].hist(df['petal_length'], bins=6)\n",
    "\n",
    "axes[1,1].set_title(\"Petal Width\")\n",
    "axes[1,1].hist(df['petal_width'], bins=6);"
   ]
  },
  {
   "cell_type": "markdown",
   "metadata": {
    "collapsed": false
   },
   "source": [
    "### Correlation\n",
    "Correlation shows the relative importance of variables between each other. It can be computed directly with `pandas`."
   ]
  },
  {
   "cell_type": "code",
   "execution_count": null,
   "metadata": {
    "collapsed": false
   },
   "outputs": [],
   "source": [
    "df.corr(method='pearson')"
   ]
  },
  {
   "cell_type": "markdown",
   "metadata": {
    "collapsed": false
   },
   "source": [
    "`heatmaps` make it easier to see which correlations are the most important."
   ]
  },
  {
   "cell_type": "code",
   "execution_count": null,
   "metadata": {
    "collapsed": false
   },
   "outputs": [],
   "source": [
    "sns.heatmap(df.corr(method='pearson'),annot = True)\n",
    "plt.show()"
   ]
  },
  {
   "cell_type": "markdown",
   "metadata": {
    "collapsed": false
   },
   "source": [
    "### Covariance\n",
    "In the same way, try displaying the covariance matrix with a `heatmap`!\n",
    "\n",
    "*Hint: You can access the covariance matrix with the `cov()` function.*"
   ]
  },
  {
   "cell_type": "code",
   "execution_count": null,
   "metadata": {
    "collapsed": false
   },
   "outputs": [],
   "source": [
    "# Your code here\n",
    "sns.heatmap(df.cov(),annot = True)\n",
    "plt.show()"
   ]
  },
  {
   "cell_type": "markdown",
   "metadata": {
    "collapsed": false
   },
   "source": [
    "## Try it yourself!\n",
    "As an exercise, try analysing another dataset that you do no know. There are many datasets freely available on the internet. For example, try loading [another one of sklearn's toy datasets](https://scikit-learn.org/stable/datasets/toy_dataset.html)!"
   ]
  },
  {
   "cell_type": "code",
   "execution_count": 15,
   "metadata": {
    "collapsed": false
   },
   "outputs": [
    {
     "name": "stdout",
     "output_type": "stream",
     "text": [
      "<class 'pandas.core.frame.DataFrame'>\n",
      "RangeIndex: 569 entries, 0 to 568\n",
      "Data columns (total 30 columns):\n",
      " #   Column                   Non-Null Count  Dtype  \n",
      "---  ------                   --------------  -----  \n",
      " 0   mean radius              569 non-null    float64\n",
      " 1   mean texture             569 non-null    float64\n",
      " 2   mean perimeter           569 non-null    float64\n",
      " 3   mean area                569 non-null    float64\n",
      " 4   mean smoothness          569 non-null    float64\n",
      " 5   mean compactness         569 non-null    float64\n",
      " 6   mean concavity           569 non-null    float64\n",
      " 7   mean concave points      569 non-null    float64\n",
      " 8   mean symmetry            569 non-null    float64\n",
      " 9   mean fractal dimension   569 non-null    float64\n",
      " 10  radius error             569 non-null    float64\n",
      " 11  texture error            569 non-null    float64\n",
      " 12  perimeter error          569 non-null    float64\n",
      " 13  area error               569 non-null    float64\n",
      " 14  smoothness error         569 non-null    float64\n",
      " 15  compactness error        569 non-null    float64\n",
      " 16  concavity error          569 non-null    float64\n",
      " 17  concave points error     569 non-null    float64\n",
      " 18  symmetry error           569 non-null    float64\n",
      " 19  fractal dimension error  569 non-null    float64\n",
      " 20  worst radius             569 non-null    float64\n",
      " 21  worst texture            569 non-null    float64\n",
      " 22  worst perimeter          569 non-null    float64\n",
      " 23  worst area               569 non-null    float64\n",
      " 24  worst smoothness         569 non-null    float64\n",
      " 25  worst compactness        569 non-null    float64\n",
      " 26  worst concavity          569 non-null    float64\n",
      " 27  worst concave points     569 non-null    float64\n",
      " 28  worst symmetry           569 non-null    float64\n",
      " 29  worst fractal dimension  569 non-null    float64\n",
      "dtypes: float64(30)\n",
      "memory usage: 133.5 KB\n"
     ]
    }
   ],
   "source": [
    "# Your code here\n",
    "digits = sklearn.datasets.load_breast_cancer()\n",
    "daf = pd.DataFrame(data = digits['data'], columns = digits['feature_names'])\n",
    "daf.shape\n",
    "daf.info()\n",
    "#sns.countplot(x='target', data=daf)\n",
    "#sns.boxplot(x=\"target\", y=\"pixel_0_0\", data=daf)\n",
    "#sns.scatterplot(x=xd, y=yd, hue=hued, data=dfd, )\n",
    "#plt.legend(bbox_to_anchor=(1, 1), loc=2) # Displays the legend outside the graph\n",
    "#plt.show()"
   ]
  }
 ],
 "metadata": {
  "kernelspec": {
   "display_name": "Python 3",
   "language": "python",
   "name": "python3"
  },
  "language_info": {
   "codemirror_mode": {
    "name": "ipython",
    "version": 3
   },
   "file_extension": ".py",
   "mimetype": "text/x-python",
   "name": "python",
   "nbconvert_exporter": "python",
   "pygments_lexer": "ipython3",
   "version": "3.10.12"
  }
 },
 "nbformat": 4,
 "nbformat_minor": 0
}
