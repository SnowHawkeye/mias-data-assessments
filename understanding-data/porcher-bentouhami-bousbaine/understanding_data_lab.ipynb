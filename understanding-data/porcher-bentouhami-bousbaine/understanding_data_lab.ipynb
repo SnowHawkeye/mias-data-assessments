{
 "cells":[
  {
   "cell_type":"markdown",
   "source":[
    "# Understanding data"
   ],
   "attachments":{
    
   },
   "metadata":{
    "datalore":{
     "node_id":"MnZNlCZoIOOQtQFZPtAu8Y",
     "type":"MD",
     "hide_input_from_viewers":false,
     "hide_output_from_viewers":false,
     "report_properties":{
      "rowId":"MvJXaohZVRrpEWDz4UdMVP"
     }
    }
   }
  },
  {
   "cell_type":"markdown",
   "source":[
    "## Setup\n",
    "### Imports\n",
    "In order to work with data, we need to import some libraries."
   ],
   "attachments":{
    
   },
   "metadata":{
    "datalore":{
     "node_id":"ZkbzPptkAq4edzTlTuHivJ",
     "type":"MD",
     "hide_input_from_viewers":false,
     "hide_output_from_viewers":false,
     "report_properties":{
      "rowId":"mBnBycUj53nE15ZYIp1S0t"
     }
    }
   }
  },
  {
   "cell_type":"code",
   "source":[
    "import pandas as pd                     # for dataset manipulation (DataFrames)\n",
    "import sklearn.datasets                 # the datasets we are going to use\n",
    "import numpy as np                      # allows some mathematical operations\n",
    "import matplotlib.pyplot as plt         # library used to display graphs\n",
    "import seaborn as sns                   # more convenient visualization library for dataframes"
   ],
   "execution_count":2,
   "outputs":[
    
   ],
   "metadata":{
    "datalore":{
     "node_id":"OTyYeCTw2kq9n3OOgD0Rvg",
     "type":"CODE",
     "hide_input_from_viewers":false,
     "hide_output_from_viewers":false,
     "report_properties":{
      "rowId":"dNBOrfHTCFTRly4endCYy7"
     }
    }
   }
  },
  {
   "cell_type":"markdown",
   "source":[
    "### Loading the dataset"
   ],
   "attachments":{
    
   },
   "metadata":{
    "datalore":{
     "node_id":"sGDzND3YDrlKPbicGeJeyL",
     "type":"MD",
     "hide_input_from_viewers":false,
     "hide_output_from_viewers":false,
     "report_properties":{
      "rowId":"6vbo40sklX71XOWCSAa9gY"
     }
    }
   }
  },
  {
   "cell_type":"code",
   "source":[
    "iris = sklearn.datasets.load_iris()\n",
    "df = pd.DataFrame(data= np.c_[iris['data'], iris['target']], columns= iris['feature_names'] + ['target'])"
   ],
   "execution_count":3,
   "outputs":[
    
   ],
   "metadata":{
    "datalore":{
     "node_id":"dH2Kfk1t9RQYPllopXeiCp",
     "type":"CODE",
     "hide_input_from_viewers":false,
     "hide_output_from_viewers":false,
     "report_properties":{
      "rowId":"Zw7gPkMnejLhMgCrnCPrUU"
     }
    }
   }
  },
  {
   "cell_type":"markdown",
   "source":[
    "The dataset is now loaded into the `df` variable, which stands for \"DataFrame\".\n",
    "DataFrames are objects proposed by the `pandas` library. They are basically convenient tables, with a lot of built-in functions to manipulate them.\n",
    "\n",
    "You can see what the dataframe looks like by executing the cell below :"
   ],
   "attachments":{
    
   },
   "metadata":{
    "datalore":{
     "node_id":"Hrb8b19mmZJHIDSlleeUsi",
     "type":"MD",
     "hide_input_from_viewers":false,
     "hide_output_from_viewers":false,
     "report_properties":{
      "rowId":"wrnktgAlJdzti5FwMX3mnw"
     }
    }
   }
  },
  {
   "cell_type":"code",
   "source":[
    "df"
   ],
   "execution_count":4,
   "outputs":[
    {
     "data":{
      "text\/html":[
       "<div>\n",
       "<style scoped>\n",
       "    .dataframe tbody tr th:only-of-type {\n",
       "        vertical-align: middle;\n",
       "    }\n",
       "\n",
       "    .dataframe tbody tr th {\n",
       "        vertical-align: top;\n",
       "    }\n",
       "\n",
       "    .dataframe thead th {\n",
       "        text-align: right;\n",
       "    }\n",
       "<\/style>\n",
       "<table border=\"1\" class=\"dataframe\">\n",
       "  <thead>\n",
       "    <tr style=\"text-align: right;\">\n",
       "      <th><\/th>\n",
       "      <th>sepal length (cm)<\/th>\n",
       "      <th>sepal width (cm)<\/th>\n",
       "      <th>petal length (cm)<\/th>\n",
       "      <th>petal width (cm)<\/th>\n",
       "      <th>target<\/th>\n",
       "    <\/tr>\n",
       "  <\/thead>\n",
       "  <tbody>\n",
       "    <tr>\n",
       "      <th>0<\/th>\n",
       "      <td>5.1<\/td>\n",
       "      <td>3.5<\/td>\n",
       "      <td>1.4<\/td>\n",
       "      <td>0.2<\/td>\n",
       "      <td>0.0<\/td>\n",
       "    <\/tr>\n",
       "    <tr>\n",
       "      <th>1<\/th>\n",
       "      <td>4.9<\/td>\n",
       "      <td>3.0<\/td>\n",
       "      <td>1.4<\/td>\n",
       "      <td>0.2<\/td>\n",
       "      <td>0.0<\/td>\n",
       "    <\/tr>\n",
       "    <tr>\n",
       "      <th>2<\/th>\n",
       "      <td>4.7<\/td>\n",
       "      <td>3.2<\/td>\n",
       "      <td>1.3<\/td>\n",
       "      <td>0.2<\/td>\n",
       "      <td>0.0<\/td>\n",
       "    <\/tr>\n",
       "    <tr>\n",
       "      <th>3<\/th>\n",
       "      <td>4.6<\/td>\n",
       "      <td>3.1<\/td>\n",
       "      <td>1.5<\/td>\n",
       "      <td>0.2<\/td>\n",
       "      <td>0.0<\/td>\n",
       "    <\/tr>\n",
       "    <tr>\n",
       "      <th>4<\/th>\n",
       "      <td>5.0<\/td>\n",
       "      <td>3.6<\/td>\n",
       "      <td>1.4<\/td>\n",
       "      <td>0.2<\/td>\n",
       "      <td>0.0<\/td>\n",
       "    <\/tr>\n",
       "    <tr>\n",
       "      <th>...<\/th>\n",
       "      <td>...<\/td>\n",
       "      <td>...<\/td>\n",
       "      <td>...<\/td>\n",
       "      <td>...<\/td>\n",
       "      <td>...<\/td>\n",
       "    <\/tr>\n",
       "    <tr>\n",
       "      <th>145<\/th>\n",
       "      <td>6.7<\/td>\n",
       "      <td>3.0<\/td>\n",
       "      <td>5.2<\/td>\n",
       "      <td>2.3<\/td>\n",
       "      <td>2.0<\/td>\n",
       "    <\/tr>\n",
       "    <tr>\n",
       "      <th>146<\/th>\n",
       "      <td>6.3<\/td>\n",
       "      <td>2.5<\/td>\n",
       "      <td>5.0<\/td>\n",
       "      <td>1.9<\/td>\n",
       "      <td>2.0<\/td>\n",
       "    <\/tr>\n",
       "    <tr>\n",
       "      <th>147<\/th>\n",
       "      <td>6.5<\/td>\n",
       "      <td>3.0<\/td>\n",
       "      <td>5.2<\/td>\n",
       "      <td>2.0<\/td>\n",
       "      <td>2.0<\/td>\n",
       "    <\/tr>\n",
       "    <tr>\n",
       "      <th>148<\/th>\n",
       "      <td>6.2<\/td>\n",
       "      <td>3.4<\/td>\n",
       "      <td>5.4<\/td>\n",
       "      <td>2.3<\/td>\n",
       "      <td>2.0<\/td>\n",
       "    <\/tr>\n",
       "    <tr>\n",
       "      <th>149<\/th>\n",
       "      <td>5.9<\/td>\n",
       "      <td>3.0<\/td>\n",
       "      <td>5.1<\/td>\n",
       "      <td>1.8<\/td>\n",
       "      <td>2.0<\/td>\n",
       "    <\/tr>\n",
       "  <\/tbody>\n",
       "<\/table>\n",
       "<p>150 rows × 5 columns<\/p>\n",
       "<\/div>"
      ]
     },
     "metadata":{
      
     },
     "output_type":"display_data"
    }
   ],
   "metadata":{
    "datalore":{
     "node_id":"3EMj9xQE9OzeKd1s4ePoLn",
     "type":"CODE",
     "hide_input_from_viewers":false,
     "hide_output_from_viewers":false,
     "report_properties":{
      "rowId":"AZm8oOiVm8SBCjNLZ2qQ3u"
     }
    }
   }
  },
  {
   "cell_type":"markdown",
   "source":[
    "## Data understanding\n",
    "### Data source and documentation\n",
    "Before even writing any code, it is important to check where the data is coming from and gather as much information as possible on the data it contains.\n",
    "The iris dataset - that we loaded above - is a popular dataset to teach machine learning, meaning information is easily accessible on the internet.\n",
    "\n",
    "\n",
    "#### Questions\n",
    "**Before beginning the data analysis, find the answers to the following questions:**\n",
    "- Who created the dataset? When and why?\n",
    "- Describe briefly what the iris dataset contains.\n",
    "- What information does the columns contain?\n",
    "- In particular, what is the `target` column, and what does its values correspond to?\n",
    "\n",
    "*Hint: We use the `scikit-learn` library to load the dataset.*\n",
    "\n",
    "\n",
    "#### Answers\n",
    "The biologist Ronald Fisher made the dataset in 1936, to quantify the morphologic variation of Iris flowers of three related species.\n",
    "It contains 50 samples from each of three species of Iris, four features were measured from each sample: the length and the width of the sepals and petals, in centimeters. \"Target\" stands for the specie of the flower."
   ],
   "attachments":{
    
   },
   "metadata":{
    "datalore":{
     "node_id":"wklxRyzExpBzzWkftJRagh",
     "type":"MD",
     "hide_input_from_viewers":false,
     "hide_output_from_viewers":false,
     "report_properties":{
      "rowId":"yNq4o9GjJO4si7xb2VMnok"
     }
    }
   }
  },
  {
   "cell_type":"markdown",
   "source":[
    "### Getting general information about the dataset\n",
    "\n",
    "#### Questions\n",
    "\n",
    "1. How much data does the dataset contain?\n",
    "2. How many features (columns) are there?\n",
    "3. Name the different columns and their data types.\n",
    "4. For each column, check the values of the following statistics: mean, standard deviation, minimum, maximum, and median.\n",
    "5. How do these values vary within each type of iris? *(Use the code sample below as reference)*\n",
    "\n",
    "*Hint: You will need to use the pandas functions: `DataFrame.shape`, `DataFrame.head()`, `DataFrame.describe()`, and `DataFrame.info()`. Make sure to [check their documentation](https:\/\/pandas.pydata.org\/pandas-docs\/stable\/reference\/frame.html)!*"
   ],
   "attachments":{
    
   },
   "metadata":{
    "datalore":{
     "node_id":"4CJCPK0DJlZFkWOOVyrY6e",
     "type":"MD",
     "hide_input_from_viewers":false,
     "hide_output_from_viewers":false,
     "report_properties":{
      "rowId":"NaHGkaol2ZaC5DDZpEog2s"
     }
    }
   }
  },
  {
   "cell_type":"code",
   "source":[
    "# Below is a code sample to show you how to filter a DataFrame\n",
    "filtered_data = df[df[\"sepal length (cm)\"] > 5]\n",
    "filtered_data"
   ],
   "execution_count":9,
   "outputs":[
    {
     "data":{
      "text\/html":[
       "<div>\n",
       "<style scoped>\n",
       "    .dataframe tbody tr th:only-of-type {\n",
       "        vertical-align: middle;\n",
       "    }\n",
       "\n",
       "    .dataframe tbody tr th {\n",
       "        vertical-align: top;\n",
       "    }\n",
       "\n",
       "    .dataframe thead th {\n",
       "        text-align: right;\n",
       "    }\n",
       "<\/style>\n",
       "<table border=\"1\" class=\"dataframe\">\n",
       "  <thead>\n",
       "    <tr style=\"text-align: right;\">\n",
       "      <th><\/th>\n",
       "      <th>sepal length (cm)<\/th>\n",
       "      <th>sepal width (cm)<\/th>\n",
       "      <th>petal length (cm)<\/th>\n",
       "      <th>petal width (cm)<\/th>\n",
       "      <th>target<\/th>\n",
       "    <\/tr>\n",
       "  <\/thead>\n",
       "  <tbody>\n",
       "    <tr>\n",
       "      <th>0<\/th>\n",
       "      <td>5.1<\/td>\n",
       "      <td>3.5<\/td>\n",
       "      <td>1.4<\/td>\n",
       "      <td>0.2<\/td>\n",
       "      <td>0.0<\/td>\n",
       "    <\/tr>\n",
       "    <tr>\n",
       "      <th>5<\/th>\n",
       "      <td>5.4<\/td>\n",
       "      <td>3.9<\/td>\n",
       "      <td>1.7<\/td>\n",
       "      <td>0.4<\/td>\n",
       "      <td>0.0<\/td>\n",
       "    <\/tr>\n",
       "    <tr>\n",
       "      <th>10<\/th>\n",
       "      <td>5.4<\/td>\n",
       "      <td>3.7<\/td>\n",
       "      <td>1.5<\/td>\n",
       "      <td>0.2<\/td>\n",
       "      <td>0.0<\/td>\n",
       "    <\/tr>\n",
       "    <tr>\n",
       "      <th>14<\/th>\n",
       "      <td>5.8<\/td>\n",
       "      <td>4.0<\/td>\n",
       "      <td>1.2<\/td>\n",
       "      <td>0.2<\/td>\n",
       "      <td>0.0<\/td>\n",
       "    <\/tr>\n",
       "    <tr>\n",
       "      <th>15<\/th>\n",
       "      <td>5.7<\/td>\n",
       "      <td>4.4<\/td>\n",
       "      <td>1.5<\/td>\n",
       "      <td>0.4<\/td>\n",
       "      <td>0.0<\/td>\n",
       "    <\/tr>\n",
       "    <tr>\n",
       "      <th>...<\/th>\n",
       "      <td>...<\/td>\n",
       "      <td>...<\/td>\n",
       "      <td>...<\/td>\n",
       "      <td>...<\/td>\n",
       "      <td>...<\/td>\n",
       "    <\/tr>\n",
       "    <tr>\n",
       "      <th>145<\/th>\n",
       "      <td>6.7<\/td>\n",
       "      <td>3.0<\/td>\n",
       "      <td>5.2<\/td>\n",
       "      <td>2.3<\/td>\n",
       "      <td>2.0<\/td>\n",
       "    <\/tr>\n",
       "    <tr>\n",
       "      <th>146<\/th>\n",
       "      <td>6.3<\/td>\n",
       "      <td>2.5<\/td>\n",
       "      <td>5.0<\/td>\n",
       "      <td>1.9<\/td>\n",
       "      <td>2.0<\/td>\n",
       "    <\/tr>\n",
       "    <tr>\n",
       "      <th>147<\/th>\n",
       "      <td>6.5<\/td>\n",
       "      <td>3.0<\/td>\n",
       "      <td>5.2<\/td>\n",
       "      <td>2.0<\/td>\n",
       "      <td>2.0<\/td>\n",
       "    <\/tr>\n",
       "    <tr>\n",
       "      <th>148<\/th>\n",
       "      <td>6.2<\/td>\n",
       "      <td>3.4<\/td>\n",
       "      <td>5.4<\/td>\n",
       "      <td>2.3<\/td>\n",
       "      <td>2.0<\/td>\n",
       "    <\/tr>\n",
       "    <tr>\n",
       "      <th>149<\/th>\n",
       "      <td>5.9<\/td>\n",
       "      <td>3.0<\/td>\n",
       "      <td>5.1<\/td>\n",
       "      <td>1.8<\/td>\n",
       "      <td>2.0<\/td>\n",
       "    <\/tr>\n",
       "  <\/tbody>\n",
       "<\/table>\n",
       "<p>118 rows × 5 columns<\/p>\n",
       "<\/div>"
      ]
     },
     "metadata":{
      
     },
     "output_type":"display_data"
    }
   ],
   "metadata":{
    "datalore":{
     "node_id":"xcOomc3FnuDmmT5LrFQnm7",
     "type":"CODE",
     "hide_input_from_viewers":false,
     "hide_output_from_viewers":false,
     "report_properties":{
      "rowId":"vgAyKbAcVdzk78uPUkzldN"
     }
    }
   }
  },
  {
   "cell_type":"code",
   "source":[
    "# Your code here\n",
    "\n",
    "df.shape #Renvoie le nombre de lignes et le nombre de colonnes\n",
    "\n",
    "df.describe() #Donne les informations statistiques\n",
    "\n",
    "df.info() #Renvoie le nom des colonnes, le nombre d'éléments (non nuls = vides) qu'elles contiennent, et le type de données\n",
    "\n",
    "df[df[\"target\"] == 0].describe() #Donne les informations statistiques concernant uniquement les \"target\" == 0\n",
    "        "
   ],
   "execution_count":13,
   "outputs":[
    {
     "name":"stdout",
     "text":[
      "<class 'pandas.core.frame.DataFrame'>\n",
      "RangeIndex: 150 entries, 0 to 149\n",
      "Data columns (total 5 columns):\n",
      " #   Column             Non-Null Count  Dtype  \n",
      "---  ------             --------------  -----  \n",
      " 0   sepal length (cm)  150 non-null    float64\n",
      " 1   sepal width (cm)   150 non-null    float64\n",
      " 2   petal length (cm)  150 non-null    float64\n",
      " 3   petal width (cm)   150 non-null    float64\n",
      " 4   target             150 non-null    float64\n",
      "dtypes: float64(5)\n",
      "memory usage: 6.0 KB\n"
     ],
     "output_type":"stream"
    },
    {
     "data":{
      "text\/html":[
       "<div>\n",
       "<style scoped>\n",
       "    .dataframe tbody tr th:only-of-type {\n",
       "        vertical-align: middle;\n",
       "    }\n",
       "\n",
       "    .dataframe tbody tr th {\n",
       "        vertical-align: top;\n",
       "    }\n",
       "\n",
       "    .dataframe thead th {\n",
       "        text-align: right;\n",
       "    }\n",
       "<\/style>\n",
       "<table border=\"1\" class=\"dataframe\">\n",
       "  <thead>\n",
       "    <tr style=\"text-align: right;\">\n",
       "      <th><\/th>\n",
       "      <th>sepal length (cm)<\/th>\n",
       "      <th>sepal width (cm)<\/th>\n",
       "      <th>petal length (cm)<\/th>\n",
       "      <th>petal width (cm)<\/th>\n",
       "      <th>target<\/th>\n",
       "    <\/tr>\n",
       "  <\/thead>\n",
       "  <tbody>\n",
       "    <tr>\n",
       "      <th>count<\/th>\n",
       "      <td>50.00000<\/td>\n",
       "      <td>50.000000<\/td>\n",
       "      <td>50.000000<\/td>\n",
       "      <td>50.000000<\/td>\n",
       "      <td>50.0<\/td>\n",
       "    <\/tr>\n",
       "    <tr>\n",
       "      <th>mean<\/th>\n",
       "      <td>5.00600<\/td>\n",
       "      <td>3.428000<\/td>\n",
       "      <td>1.462000<\/td>\n",
       "      <td>0.246000<\/td>\n",
       "      <td>0.0<\/td>\n",
       "    <\/tr>\n",
       "    <tr>\n",
       "      <th>std<\/th>\n",
       "      <td>0.35249<\/td>\n",
       "      <td>0.379064<\/td>\n",
       "      <td>0.173664<\/td>\n",
       "      <td>0.105386<\/td>\n",
       "      <td>0.0<\/td>\n",
       "    <\/tr>\n",
       "    <tr>\n",
       "      <th>min<\/th>\n",
       "      <td>4.30000<\/td>\n",
       "      <td>2.300000<\/td>\n",
       "      <td>1.000000<\/td>\n",
       "      <td>0.100000<\/td>\n",
       "      <td>0.0<\/td>\n",
       "    <\/tr>\n",
       "    <tr>\n",
       "      <th>25%<\/th>\n",
       "      <td>4.80000<\/td>\n",
       "      <td>3.200000<\/td>\n",
       "      <td>1.400000<\/td>\n",
       "      <td>0.200000<\/td>\n",
       "      <td>0.0<\/td>\n",
       "    <\/tr>\n",
       "    <tr>\n",
       "      <th>50%<\/th>\n",
       "      <td>5.00000<\/td>\n",
       "      <td>3.400000<\/td>\n",
       "      <td>1.500000<\/td>\n",
       "      <td>0.200000<\/td>\n",
       "      <td>0.0<\/td>\n",
       "    <\/tr>\n",
       "    <tr>\n",
       "      <th>75%<\/th>\n",
       "      <td>5.20000<\/td>\n",
       "      <td>3.675000<\/td>\n",
       "      <td>1.575000<\/td>\n",
       "      <td>0.300000<\/td>\n",
       "      <td>0.0<\/td>\n",
       "    <\/tr>\n",
       "    <tr>\n",
       "      <th>max<\/th>\n",
       "      <td>5.80000<\/td>\n",
       "      <td>4.400000<\/td>\n",
       "      <td>1.900000<\/td>\n",
       "      <td>0.600000<\/td>\n",
       "      <td>0.0<\/td>\n",
       "    <\/tr>\n",
       "  <\/tbody>\n",
       "<\/table>\n",
       "<\/div>"
      ]
     },
     "metadata":{
      
     },
     "output_type":"display_data"
    }
   ],
   "metadata":{
    "datalore":{
     "node_id":"ZLwfayAFTTZ15wpczPhEMB",
     "type":"CODE",
     "hide_input_from_viewers":false,
     "hide_output_from_viewers":false,
     "report_properties":{
      "rowId":"wZJVkxcq2qt6mmhIYq3JqG"
     }
    }
   }
  },
  {
   "cell_type":"markdown",
   "source":[
    "*[Your answers here]*\n",
    "\n",
    "The dataset contains 150 flowers * 5 features\n",
    "\n",
    "Columns are sepal length (cm), sepal width (cm), petal length (cm), petal width (cm), target, their data type is numerical, float.\n",
    "Use df.describe() for statistics.\n",
    "\n"
   ],
   "attachments":{
    
   },
   "metadata":{
    "datalore":{
     "node_id":"vITaU0G2wgShRUUzudmQk8",
     "type":"MD",
     "hide_input_from_viewers":false,
     "hide_output_from_viewers":false,
     "report_properties":{
      "rowId":"Kbnevud3C2YVgy4CoZUMaJ"
     }
    }
   }
  },
  {
   "cell_type":"markdown",
   "source":[
    "### Basic validity checks\n",
    "\n",
    "In order to use a dataset for machine learning, we generally want to have \"clean\" data. Generally, we want to avoid missing and absurd values, duplicates, and imbalanced datasets.\n",
    "\n",
    "#### Questions\n",
    "1. How many rows contain missing data?\n",
    "2. What does it mean for a dataset to be \"balanced\"? Do you think this dataset is balanced?\n",
    "3. Is there any duplicated data in the dataset? In your opinion, is it good or bad for machine learning? Why?\n",
    "\n",
    "*Hint: You will need to use the `value_counts()` and `duplicated()` functions.*"
   ],
   "attachments":{
    
   },
   "metadata":{
    "datalore":{
     "node_id":"4wD60pQOkzUwXoBA1sCRUx",
     "type":"MD",
     "hide_input_from_viewers":false,
     "hide_output_from_viewers":false,
     "report_properties":{
      "rowId":"dSIxLW2e0dRzC4D1HwAnVt"
     }
    }
   }
  },
  {
   "cell_type":"code",
   "source":[
    "# Your code here\n",
    "\n",
    "df[\"target\"].value_counts() # donne toutes les valeurs que prennent une colonne et combien de fois elle apparait\n",
    "\n",
    "df.duplicated() # prend chaque ligne du dataframe et dit si elle est dupliquée mais en vrai flemme d'aller regarder un par un\n",
    "\n",
    "df.duplicated().value_counts() # prend toutes les lignes et dis combien de lignes ont les mêmes colones qu'une autre"
   ],
   "execution_count":7,
   "outputs":[
    {
     "data":{
      "text\/html":[
       "<pre>False    149\n",
       "True       1\n",
       "dtype: int64<\/pre>"
      ]
     },
     "metadata":{
      
     },
     "output_type":"display_data"
    }
   ],
   "metadata":{
    "datalore":{
     "node_id":"pKFxZWyrjXsf1LO3KvgEkx",
     "type":"CODE",
     "hide_input_from_viewers":false,
     "hide_output_from_viewers":false,
     "report_properties":{
      "rowId":"37ziwVQOEcZ5H4BsaaRzmQ"
     }
    }
   }
  },
  {
   "cell_type":"markdown",
   "source":[
    "*[Your answers here]*"
   ],
   "attachments":{
    
   },
   "metadata":{
    "datalore":{
     "node_id":"xdujMoArFQyBvxDojdlIaL",
     "type":"MD",
     "hide_input_from_viewers":false,
     "hide_output_from_viewers":false,
     "report_properties":{
      "rowId":"kQKPQNfkfu3j9DJl1n5z7A"
     }
    }
   }
  },
  {
   "cell_type":"markdown",
   "source":[
    "### Making the data more convenient to use\n",
    "\n",
    "You have probably noticed that the column names are quite long and also contain spaces, which is generally inconvenient in code. You can use the following code to change them:"
   ],
   "attachments":{
    
   },
   "metadata":{
    "datalore":{
     "node_id":"6B5COPNxKWdsvQMt3xffK3",
     "type":"MD",
     "hide_input_from_viewers":false,
     "hide_output_from_viewers":false,
     "report_properties":{
      "rowId":"hnh3lQRtSU5xF2KhbnL4LO"
     }
    }
   }
  },
  {
   "cell_type":"code",
   "source":[
    "df.columns = ['sepal_length', 'sepal_width', 'petal_length', 'petal_width', \"species\"] # Change le nom des colonnes\n",
    "df"
   ],
   "execution_count":8,
   "outputs":[
    {
     "data":{
      "text\/html":[
       "<div>\n",
       "<style scoped>\n",
       "    .dataframe tbody tr th:only-of-type {\n",
       "        vertical-align: middle;\n",
       "    }\n",
       "\n",
       "    .dataframe tbody tr th {\n",
       "        vertical-align: top;\n",
       "    }\n",
       "\n",
       "    .dataframe thead th {\n",
       "        text-align: right;\n",
       "    }\n",
       "<\/style>\n",
       "<table border=\"1\" class=\"dataframe\">\n",
       "  <thead>\n",
       "    <tr style=\"text-align: right;\">\n",
       "      <th><\/th>\n",
       "      <th>sepal_length<\/th>\n",
       "      <th>sepal_width<\/th>\n",
       "      <th>petal_length<\/th>\n",
       "      <th>petal_width<\/th>\n",
       "      <th>species<\/th>\n",
       "    <\/tr>\n",
       "  <\/thead>\n",
       "  <tbody>\n",
       "    <tr>\n",
       "      <th>0<\/th>\n",
       "      <td>5.1<\/td>\n",
       "      <td>3.5<\/td>\n",
       "      <td>1.4<\/td>\n",
       "      <td>0.2<\/td>\n",
       "      <td>0.0<\/td>\n",
       "    <\/tr>\n",
       "    <tr>\n",
       "      <th>1<\/th>\n",
       "      <td>4.9<\/td>\n",
       "      <td>3.0<\/td>\n",
       "      <td>1.4<\/td>\n",
       "      <td>0.2<\/td>\n",
       "      <td>0.0<\/td>\n",
       "    <\/tr>\n",
       "    <tr>\n",
       "      <th>2<\/th>\n",
       "      <td>4.7<\/td>\n",
       "      <td>3.2<\/td>\n",
       "      <td>1.3<\/td>\n",
       "      <td>0.2<\/td>\n",
       "      <td>0.0<\/td>\n",
       "    <\/tr>\n",
       "    <tr>\n",
       "      <th>3<\/th>\n",
       "      <td>4.6<\/td>\n",
       "      <td>3.1<\/td>\n",
       "      <td>1.5<\/td>\n",
       "      <td>0.2<\/td>\n",
       "      <td>0.0<\/td>\n",
       "    <\/tr>\n",
       "    <tr>\n",
       "      <th>4<\/th>\n",
       "      <td>5.0<\/td>\n",
       "      <td>3.6<\/td>\n",
       "      <td>1.4<\/td>\n",
       "      <td>0.2<\/td>\n",
       "      <td>0.0<\/td>\n",
       "    <\/tr>\n",
       "    <tr>\n",
       "      <th>...<\/th>\n",
       "      <td>...<\/td>\n",
       "      <td>...<\/td>\n",
       "      <td>...<\/td>\n",
       "      <td>...<\/td>\n",
       "      <td>...<\/td>\n",
       "    <\/tr>\n",
       "    <tr>\n",
       "      <th>145<\/th>\n",
       "      <td>6.7<\/td>\n",
       "      <td>3.0<\/td>\n",
       "      <td>5.2<\/td>\n",
       "      <td>2.3<\/td>\n",
       "      <td>2.0<\/td>\n",
       "    <\/tr>\n",
       "    <tr>\n",
       "      <th>146<\/th>\n",
       "      <td>6.3<\/td>\n",
       "      <td>2.5<\/td>\n",
       "      <td>5.0<\/td>\n",
       "      <td>1.9<\/td>\n",
       "      <td>2.0<\/td>\n",
       "    <\/tr>\n",
       "    <tr>\n",
       "      <th>147<\/th>\n",
       "      <td>6.5<\/td>\n",
       "      <td>3.0<\/td>\n",
       "      <td>5.2<\/td>\n",
       "      <td>2.0<\/td>\n",
       "      <td>2.0<\/td>\n",
       "    <\/tr>\n",
       "    <tr>\n",
       "      <th>148<\/th>\n",
       "      <td>6.2<\/td>\n",
       "      <td>3.4<\/td>\n",
       "      <td>5.4<\/td>\n",
       "      <td>2.3<\/td>\n",
       "      <td>2.0<\/td>\n",
       "    <\/tr>\n",
       "    <tr>\n",
       "      <th>149<\/th>\n",
       "      <td>5.9<\/td>\n",
       "      <td>3.0<\/td>\n",
       "      <td>5.1<\/td>\n",
       "      <td>1.8<\/td>\n",
       "      <td>2.0<\/td>\n",
       "    <\/tr>\n",
       "  <\/tbody>\n",
       "<\/table>\n",
       "<p>150 rows × 5 columns<\/p>\n",
       "<\/div>"
      ]
     },
     "metadata":{
      
     },
     "output_type":"display_data"
    }
   ],
   "metadata":{
    "datalore":{
     "node_id":"5EZYX5PnHN8uqNXhmNJa0n",
     "type":"CODE",
     "hide_input_from_viewers":false,
     "hide_output_from_viewers":false,
     "report_properties":{
      "rowId":"bD7qoYuY2xUAveZGFJxpCw"
     }
    }
   }
  },
  {
   "cell_type":"markdown",
   "source":[
    "**Bonus question**: How else can you rename columns in a dataframe?"
   ],
   "attachments":{
    
   },
   "metadata":{
    "datalore":{
     "node_id":"YEmEIAiygMQlXkKk4XdXWc",
     "type":"MD",
     "hide_input_from_viewers":false,
     "hide_output_from_viewers":false,
     "report_properties":{
      "rowId":"ET6m9MQ3VAHGmE2nI7Jfna"
     }
    }
   }
  },
  {
   "cell_type":"code",
   "source":[
    "# Your code here"
   ],
   "execution_count":9,
   "outputs":[
    
   ],
   "metadata":{
    "datalore":{
     "node_id":"I1sMKKErBfiOzSUGw8gkud",
     "type":"CODE",
     "hide_input_from_viewers":false,
     "hide_output_from_viewers":false,
     "report_properties":{
      "rowId":"sNkksTzDexCaJOwsp1hysQ"
     }
    }
   }
  },
  {
   "cell_type":"markdown",
   "source":[
    "The `class_float` column is also a bit hard to read, because the classes are represented by numbers. This can be preferable for some algorithms, but for our use case today we will replace these values by explicit names. For this, we will use the `DataFrame.apply()` function."
   ],
   "attachments":{
    
   },
   "metadata":{
    "datalore":{
     "node_id":"qAntHM4WQeno4J7vUQkT6b",
     "type":"MD",
     "hide_input_from_viewers":false,
     "hide_output_from_viewers":false,
     "report_properties":{
      "rowId":"EWfemELzW3ql5vKNktinHd"
     }
    }
   }
  },
  {
   "cell_type":"code",
   "source":[
    "# This is the function we will apply to the \"class_float\" column\n",
    "def name_mapping(number:float):\n",
    "    \"\"\"This function maps 0.0, 1.0 and 2.0 to their corresponding values in the iris dataset.\"\"\"\n",
    "\n",
    "    name_map = {\n",
    "        0.0: \"setosa\", # replace by the correct name\n",
    "        1.0: \"versicolor\", # replace by the correct name\n",
    "        2.0: \"virginica\", # replace by the correct name\n",
    "    }\n",
    "\n",
    "    if number not in name_map.keys(): # making sure the number is one of the expected values\n",
    "        raise ValueError(\"Not a valid number!\")\n",
    "\n",
    "    return name_map[number] # This is an alternative to using a lot of if\/else blocks"
   ],
   "execution_count":10,
   "outputs":[
    
   ],
   "metadata":{
    "datalore":{
     "node_id":"dCCPCwKnpocPcls4DsbfRq",
     "type":"CODE",
     "hide_input_from_viewers":false,
     "hide_output_from_viewers":false,
     "report_properties":{
      "rowId":"cJYcuBDkETLBol6cjVBXXZ"
     }
    }
   }
  },
  {
   "cell_type":"code",
   "source":[
    "# We can now apply the function\n",
    "df[\"species\"] = df[\"species\"].apply(name_mapping) # We pass the function as parameter, not its result! This is why we must not use parentheses."
   ],
   "execution_count":11,
   "outputs":[
    
   ],
   "metadata":{
    "datalore":{
     "node_id":"kbbTd2KODhOUP53zp7e5tP",
     "type":"CODE",
     "hide_input_from_viewers":false,
     "hide_output_from_viewers":false,
     "report_properties":{
      "rowId":"xqy1cMMeKRh9dhktomuv2v"
     }
    }
   }
  },
  {
   "cell_type":"code",
   "source":[
    "# And check the result\n",
    "df"
   ],
   "execution_count":12,
   "outputs":[
    {
     "data":{
      "text\/html":[
       "<div>\n",
       "<style scoped>\n",
       "    .dataframe tbody tr th:only-of-type {\n",
       "        vertical-align: middle;\n",
       "    }\n",
       "\n",
       "    .dataframe tbody tr th {\n",
       "        vertical-align: top;\n",
       "    }\n",
       "\n",
       "    .dataframe thead th {\n",
       "        text-align: right;\n",
       "    }\n",
       "<\/style>\n",
       "<table border=\"1\" class=\"dataframe\">\n",
       "  <thead>\n",
       "    <tr style=\"text-align: right;\">\n",
       "      <th><\/th>\n",
       "      <th>sepal_length<\/th>\n",
       "      <th>sepal_width<\/th>\n",
       "      <th>petal_length<\/th>\n",
       "      <th>petal_width<\/th>\n",
       "      <th>species<\/th>\n",
       "    <\/tr>\n",
       "  <\/thead>\n",
       "  <tbody>\n",
       "    <tr>\n",
       "      <th>0<\/th>\n",
       "      <td>5.1<\/td>\n",
       "      <td>3.5<\/td>\n",
       "      <td>1.4<\/td>\n",
       "      <td>0.2<\/td>\n",
       "      <td>setosa<\/td>\n",
       "    <\/tr>\n",
       "    <tr>\n",
       "      <th>1<\/th>\n",
       "      <td>4.9<\/td>\n",
       "      <td>3.0<\/td>\n",
       "      <td>1.4<\/td>\n",
       "      <td>0.2<\/td>\n",
       "      <td>setosa<\/td>\n",
       "    <\/tr>\n",
       "    <tr>\n",
       "      <th>2<\/th>\n",
       "      <td>4.7<\/td>\n",
       "      <td>3.2<\/td>\n",
       "      <td>1.3<\/td>\n",
       "      <td>0.2<\/td>\n",
       "      <td>setosa<\/td>\n",
       "    <\/tr>\n",
       "    <tr>\n",
       "      <th>3<\/th>\n",
       "      <td>4.6<\/td>\n",
       "      <td>3.1<\/td>\n",
       "      <td>1.5<\/td>\n",
       "      <td>0.2<\/td>\n",
       "      <td>setosa<\/td>\n",
       "    <\/tr>\n",
       "    <tr>\n",
       "      <th>4<\/th>\n",
       "      <td>5.0<\/td>\n",
       "      <td>3.6<\/td>\n",
       "      <td>1.4<\/td>\n",
       "      <td>0.2<\/td>\n",
       "      <td>setosa<\/td>\n",
       "    <\/tr>\n",
       "    <tr>\n",
       "      <th>...<\/th>\n",
       "      <td>...<\/td>\n",
       "      <td>...<\/td>\n",
       "      <td>...<\/td>\n",
       "      <td>...<\/td>\n",
       "      <td>...<\/td>\n",
       "    <\/tr>\n",
       "    <tr>\n",
       "      <th>145<\/th>\n",
       "      <td>6.7<\/td>\n",
       "      <td>3.0<\/td>\n",
       "      <td>5.2<\/td>\n",
       "      <td>2.3<\/td>\n",
       "      <td>virginica<\/td>\n",
       "    <\/tr>\n",
       "    <tr>\n",
       "      <th>146<\/th>\n",
       "      <td>6.3<\/td>\n",
       "      <td>2.5<\/td>\n",
       "      <td>5.0<\/td>\n",
       "      <td>1.9<\/td>\n",
       "      <td>virginica<\/td>\n",
       "    <\/tr>\n",
       "    <tr>\n",
       "      <th>147<\/th>\n",
       "      <td>6.5<\/td>\n",
       "      <td>3.0<\/td>\n",
       "      <td>5.2<\/td>\n",
       "      <td>2.0<\/td>\n",
       "      <td>virginica<\/td>\n",
       "    <\/tr>\n",
       "    <tr>\n",
       "      <th>148<\/th>\n",
       "      <td>6.2<\/td>\n",
       "      <td>3.4<\/td>\n",
       "      <td>5.4<\/td>\n",
       "      <td>2.3<\/td>\n",
       "      <td>virginica<\/td>\n",
       "    <\/tr>\n",
       "    <tr>\n",
       "      <th>149<\/th>\n",
       "      <td>5.9<\/td>\n",
       "      <td>3.0<\/td>\n",
       "      <td>5.1<\/td>\n",
       "      <td>1.8<\/td>\n",
       "      <td>virginica<\/td>\n",
       "    <\/tr>\n",
       "  <\/tbody>\n",
       "<\/table>\n",
       "<p>150 rows × 5 columns<\/p>\n",
       "<\/div>"
      ]
     },
     "metadata":{
      
     },
     "output_type":"display_data"
    }
   ],
   "metadata":{
    "datalore":{
     "node_id":"HMsySXeRJk83RW6cTRgMV9",
     "type":"CODE",
     "hide_input_from_viewers":false,
     "hide_output_from_viewers":false,
     "report_properties":{
      "rowId":"JY6EhBkBMmTyBwItj7QaCU"
     }
    }
   }
  },
  {
   "cell_type":"markdown",
   "source":[
    "## Data visualization\n",
    "\n",
    "Data visualization will help us:\n",
    "- Confirming and observing things we already know\n",
    "- Learning new facts about the data\n",
    "\n",
    "In this section **keep in mind that the goal of machine learning algorithms would be to classify the different species of iris**."
   ],
   "attachments":{
    
   },
   "metadata":{
    "datalore":{
     "node_id":"0TxPnYt178h7sFrLSNrmgi",
     "type":"MD",
     "hide_input_from_viewers":false,
     "hide_output_from_viewers":false,
     "report_properties":{
      "rowId":"bUelyvJiN1Pkwvd2uLl7LD"
     }
    }
   }
  },
  {
   "cell_type":"markdown",
   "source":[
    "### Countplot\n",
    "What does a `countplot` show? With what other function did you get similar results earlier?\n",
    "Try experimenting with the parameters of the function.\n",
    "\n",
    "It counts the different parameters from a column."
   ],
   "attachments":{
    
   },
   "metadata":{
    "datalore":{
     "node_id":"ndSVqmrGjRLxaPOR7D8yDE",
     "type":"MD",
     "hide_input_from_viewers":false,
     "hide_output_from_viewers":false,
     "report_properties":{
      "rowId":"glIXfKWj71wj7h8xXiBMfA"
     }
    }
   }
  },
  {
   "cell_type":"code",
   "source":[
    "sns.countplot(x='species', data=df, ) # sur l'axe x on veut la colonne species. représente visuellement les classes et le nombre dans chaque classe\n",
    "plt.show()"
   ],
   "execution_count":13,
   "outputs":[
    {
     "data":{
      "image\/png":"[encoded data removed]"
     },
     "metadata":{
      "image\/png":{
       
      }
     },
     "output_type":"display_data"
    }
   ],
   "metadata":{
    "datalore":{
     "node_id":"jrqaRpZlTEm0MBsMyx8xdj",
     "type":"CODE",
     "hide_input_from_viewers":false,
     "hide_output_from_viewers":false,
     "report_properties":{
      "rowId":"CHEYQvKelefyYjNgafI6NX"
     }
    }
   }
  },
  {
   "cell_type":"markdown",
   "source":[
    "### Boxplot\n",
    "What does a `boxplot` show? With what other function did you get similar results earlier?\n",
    "In your opinion, why would you need this type of graph?"
   ],
   "attachments":{
    
   },
   "metadata":{
    "datalore":{
     "node_id":"fHEXy6Q5G1CdhPDdqoZWC3",
     "type":"MD",
     "hide_input_from_viewers":false,
     "hide_output_from_viewers":false,
     "report_properties":{
      "rowId":"MJKogGLNNXMTxiSdiGbkVy"
     }
    }
   }
  },
  {
   "cell_type":"code",
   "source":[
    "# Utility function to simplify syntax later on\n",
    "def boxplot(y):\n",
    "    sns.boxplot(x=\"species\", y=y, data=df)\n",
    "\n",
    "# We define a figure where we will be adding our graphs\n",
    "plt.figure(figsize=(10,10))\n",
    "\n",
    "# And then add the plots to the grid on specific positions\n",
    "plt.subplot(221) # je me place dans une grille deux lignes deux colonnes, à le premiere position \n",
    "boxplot('sepal_length')\n",
    "\n",
    "plt.subplot(222)\n",
    "boxplot('sepal_width')\n",
    "\n",
    "plt.subplot(223)\n",
    "boxplot('petal_length')\n",
    "\n",
    "plt.subplot(224)\n",
    "boxplot('petal_width')\n",
    "\n",
    "plt.show()"
   ],
   "execution_count":19,
   "outputs":[
    {
     "data":{
      "image\/png":"[encoded data removed]"
     },
     "metadata":{
      "image\/png":{
       
      }
     },
     "output_type":"display_data"
    }
   ],
   "metadata":{
    "datalore":{
     "node_id":"28bmtsECnYLPomDcKivttl",
     "type":"CODE",
     "hide_input_from_viewers":false,
     "hide_output_from_viewers":false,
     "report_properties":{
      "rowId":"hTSr9xjxf8JLBKwxvuvf8m"
     }
    }
   }
  },
  {
   "cell_type":"markdown",
   "source":[
    "### Scatterplot\n",
    "What does a `scatterplot` show?\n",
    "What conclusions can you draw from this graph?\n",
    "Try changing the inputs of the function. Does this change your observations? What new conclusions can you draw from this?\n",
    "\n",
    "Montre la répartition des données selon deux paramètres, en fonction d'un troisième (espèce de fleur)."
   ],
   "attachments":{
    
   },
   "metadata":{
    "datalore":{
     "node_id":"vF40tWPz14de3BlwUx7OK1",
     "type":"MD",
     "hide_input_from_viewers":false,
     "hide_output_from_viewers":false,
     "report_properties":{
      "rowId":"HYwo1iXHtEaz1O7Kln3MWh"
     }
    }
   }
  },
  {
   "cell_type":"code",
   "source":[
    "sns.scatterplot(x='petal_length', y='petal_width', hue='species', data=df, ) #hue = je veux que les points soient colorés en fonction de species\n",
    "plt.legend(bbox_to_anchor=(1, 1), loc=2) # Displays the legend outside the graph\n",
    "plt.show()"
   ],
   "execution_count":20,
   "outputs":[
    {
     "data":{
      "image\/png":"[encoded data removed]"
     },
     "metadata":{
      "image\/png":{
       
      }
     },
     "output_type":"display_data"
    }
   ],
   "metadata":{
    "datalore":{
     "node_id":"kMUbqSq38qwLM1tz7exETk",
     "type":"CODE",
     "hide_input_from_viewers":false,
     "hide_output_from_viewers":false,
     "report_properties":{
      "rowId":"urcVIuqiSaJGoswhX8tmOn"
     }
    }
   }
  },
  {
   "cell_type":"markdown",
   "source":[
    "### Displot\n",
    "What does a `displot` show?\n",
    "In the documentation, find what the \"kind\" parameter does, and try all the kinds of plot.\n",
    "Can you imagine a use for the kde plots?\n",
    "\n",
    "Montre, par type de fleur, combien d'entre elles ont une certaine valeur de paramètre."
   ],
   "attachments":{
    
   },
   "metadata":{
    "datalore":{
     "node_id":"2NV0d7htgNHOXxyZBO5nTD",
     "type":"MD",
     "hide_input_from_viewers":false,
     "hide_output_from_viewers":false,
     "report_properties":{
      "rowId":"fzEqUYuHSgo5Mr84W7oFxn"
     }
    }
   }
  },
  {
   "cell_type":"code",
   "source":[
    "sns.displot(df, x=\"petal_length\", kind=\"kde\", hue=\"species\") #hue sépares en fonction de species, Kind prend plusieurs paramètres (ex : hist) et l'affiche sous différentes formes"
   ],
   "execution_count":21,
   "outputs":[
    {
     "data":{
      "text\/plain":[
       "<seaborn.axisgrid.FacetGrid at 0x7f446cf9e640>"
      ]
     },
     "metadata":{
      
     },
     "output_type":"display_data"
    },
    {
     "data":{
      "image\/png":"[encoded data removed]"
     },
     "metadata":{
      "image\/png":{
       
      }
     },
     "output_type":"display_data"
    }
   ],
   "metadata":{
    "datalore":{
     "node_id":"fKqc5cLKkoZJAmiyzWrTJE",
     "type":"CODE",
     "hide_input_from_viewers":false,
     "hide_output_from_viewers":false,
     "report_properties":{
      "rowId":"l4AUtRTDsngJSY8xTaWuif"
     }
    }
   }
  },
  {
   "cell_type":"markdown",
   "source":[
    "### Pairplot\n",
    "What does a `pairplot` show?\n",
    "Can you draw any new conclusions from it?\n",
    "In your opinion, what could be the uses of such a graph?\n",
    "\n",
    "Montre chaque paramètre en fonction des autres, par type de fleur."
   ],
   "attachments":{
    
   },
   "metadata":{
    "datalore":{
     "node_id":"1attqxhu7Si6I8R37hrS0f",
     "type":"MD",
     "hide_input_from_viewers":false,
     "hide_output_from_viewers":false,
     "report_properties":{
      "rowId":"SkGDyTgX5J02LNGbUsgih0"
     }
    }
   }
  },
  {
   "cell_type":"code",
   "source":[
    "sns.pairplot(df, hue='species', height=2) #prend tout les attribus et les mets ensemble 2 à 2 à notre place"
   ],
   "execution_count":18,
   "outputs":[
    {
     "data":{
      "text\/plain":[
       "<seaborn.axisgrid.PairGrid at 0x7f44742c4820>"
      ]
     },
     "metadata":{
      
     },
     "output_type":"display_data"
    },
    {
     "data":{
      "image\/png":"[encoded data removed]"
     },
     "metadata":{
      "image\/png":{
       
      }
     },
     "output_type":"display_data"
    }
   ],
   "metadata":{
    "datalore":{
     "node_id":"LOKByhWqoaQlSytAb6lfoU",
     "type":"CODE",
     "hide_input_from_viewers":false,
     "hide_output_from_viewers":false,
     "report_properties":{
      "rowId":"u2Y0ZWvDtEwr02YHDV5bMH"
     }
    }
   }
  },
  {
   "cell_type":"markdown",
   "source":[
    "### Histogram\n",
    "Histograms will not teach us anything new here, but they can be another way of visualizing data."
   ],
   "attachments":{
    
   },
   "metadata":{
    "datalore":{
     "node_id":"XXE5yNH41DLlZGwafrEo2k",
     "type":"MD",
     "hide_input_from_viewers":false,
     "hide_output_from_viewers":false,
     "report_properties":{
      "rowId":"enW4p89dbH1eu7NaQzKfMc"
     }
    }
   }
  },
  {
   "cell_type":"code",
   "source":[
    "fig, axes = plt.subplots(2, 2, figsize=(10,10))\n",
    "\n",
    "axes[0,0].set_title(\"Sepal Length\")\n",
    "axes[0,0].hist(df['sepal_length'], bins=7)\n",
    "\n",
    "axes[0,1].set_title(\"Sepal Width\")\n",
    "axes[0,1].hist(df['sepal_width'], bins=5)\n",
    "\n",
    "axes[1,0].set_title(\"Petal Length\")\n",
    "axes[1,0].hist(df['petal_length'], bins=6)\n",
    "\n",
    "axes[1,1].set_title(\"Petal Width\")\n",
    "axes[1,1].hist(df['petal_width'], bins=6);"
   ],
   "execution_count":17,
   "outputs":[
    {
     "data":{
      "image\/png":"[encoded data removed]"
     },
     "metadata":{
      "image\/png":{
       
      }
     },
     "output_type":"display_data"
    }
   ],
   "metadata":{
    "datalore":{
     "node_id":"3uIBOOdHpD6QNSVNSjOd6w",
     "type":"CODE",
     "hide_input_from_viewers":false,
     "hide_output_from_viewers":false,
     "report_properties":{
      "rowId":"VBKAlyJ3yJTNS5BZGiAvU3"
     }
    }
   }
  },
  {
   "cell_type":"markdown",
   "source":[
    "### Correlation\n",
    "Correlation shows the relative importance of variables between each other. It can be computed directly with `pandas`."
   ],
   "attachments":{
    
   },
   "metadata":{
    "datalore":{
     "node_id":"OE6GJLj8uEKUXQVtX7xy8k",
     "type":"MD",
     "hide_input_from_viewers":false,
     "hide_output_from_viewers":false,
     "report_properties":{
      "rowId":"3E9tvfktYJSKt1nDT45V90"
     }
    }
   }
  },
  {
   "cell_type":"code",
   "source":[
    "df.corr(method='pearson')"
   ],
   "execution_count":22,
   "outputs":[
    {
     "name":"stderr",
     "text":[
      "<ipython-input-22-432dd9d4238b>:1: FutureWarning: The default value of numeric_only in DataFrame.corr is deprecated. In a future version, it will default to False. Select only valid columns or specify the value of numeric_only to silence this warning.\n",
      "  df.corr(method='pearson')\n"
     ],
     "output_type":"stream"
    },
    {
     "data":{
      "text\/html":[
       "<div>\n",
       "<style scoped>\n",
       "    .dataframe tbody tr th:only-of-type {\n",
       "        vertical-align: middle;\n",
       "    }\n",
       "\n",
       "    .dataframe tbody tr th {\n",
       "        vertical-align: top;\n",
       "    }\n",
       "\n",
       "    .dataframe thead th {\n",
       "        text-align: right;\n",
       "    }\n",
       "<\/style>\n",
       "<table border=\"1\" class=\"dataframe\">\n",
       "  <thead>\n",
       "    <tr style=\"text-align: right;\">\n",
       "      <th><\/th>\n",
       "      <th>sepal_length<\/th>\n",
       "      <th>sepal_width<\/th>\n",
       "      <th>petal_length<\/th>\n",
       "      <th>petal_width<\/th>\n",
       "    <\/tr>\n",
       "  <\/thead>\n",
       "  <tbody>\n",
       "    <tr>\n",
       "      <th>sepal_length<\/th>\n",
       "      <td>1.000000<\/td>\n",
       "      <td>-0.117570<\/td>\n",
       "      <td>0.871754<\/td>\n",
       "      <td>0.817941<\/td>\n",
       "    <\/tr>\n",
       "    <tr>\n",
       "      <th>sepal_width<\/th>\n",
       "      <td>-0.117570<\/td>\n",
       "      <td>1.000000<\/td>\n",
       "      <td>-0.428440<\/td>\n",
       "      <td>-0.366126<\/td>\n",
       "    <\/tr>\n",
       "    <tr>\n",
       "      <th>petal_length<\/th>\n",
       "      <td>0.871754<\/td>\n",
       "      <td>-0.428440<\/td>\n",
       "      <td>1.000000<\/td>\n",
       "      <td>0.962865<\/td>\n",
       "    <\/tr>\n",
       "    <tr>\n",
       "      <th>petal_width<\/th>\n",
       "      <td>0.817941<\/td>\n",
       "      <td>-0.366126<\/td>\n",
       "      <td>0.962865<\/td>\n",
       "      <td>1.000000<\/td>\n",
       "    <\/tr>\n",
       "  <\/tbody>\n",
       "<\/table>\n",
       "<\/div>"
      ]
     },
     "metadata":{
      
     },
     "output_type":"display_data"
    }
   ],
   "metadata":{
    "datalore":{
     "node_id":"ze36Z485bCQ6ov92d6WfOU",
     "type":"CODE",
     "hide_input_from_viewers":false,
     "hide_output_from_viewers":false,
     "report_properties":{
      "rowId":"3xNPXcwFcvZEUylZ4sSfN9"
     }
    }
   }
  },
  {
   "cell_type":"markdown",
   "source":[
    "`heatmaps` make it easier to see which correlations are the most important."
   ],
   "attachments":{
    
   },
   "metadata":{
    "datalore":{
     "node_id":"fAHimKIQKdBLMApTmzxMA4",
     "type":"MD",
     "hide_input_from_viewers":false,
     "hide_output_from_viewers":false,
     "report_properties":{
      "rowId":"tHSqOZb4qeSy6WybuoUxc7"
     }
    }
   }
  },
  {
   "cell_type":"code",
   "source":[
    "sns.heatmap(df.corr(method='pearson'),annot = True)\n",
    "plt.show()"
   ],
   "execution_count":23,
   "outputs":[
    {
     "name":"stderr",
     "text":[
      "<ipython-input-23-4eb2f8f6d9ba>:1: FutureWarning: The default value of numeric_only in DataFrame.corr is deprecated. In a future version, it will default to False. Select only valid columns or specify the value of numeric_only to silence this warning.\n",
      "  sns.heatmap(df.corr(method='pearson'),annot = True)\n"
     ],
     "output_type":"stream"
    },
    {
     "data":{
      "image\/png":"[encoded data removed]"
     },
     "metadata":{
      "image\/png":{
       
      }
     },
     "output_type":"display_data"
    }
   ],
   "metadata":{
    "datalore":{
     "node_id":"DgcjFkOsEGPnDc3zPoEVoA",
     "type":"CODE",
     "hide_input_from_viewers":false,
     "hide_output_from_viewers":false,
     "report_properties":{
      "rowId":"Gm2EFTIPKs1Q9LUXssLyV3"
     }
    }
   }
  },
  {
   "cell_type":"markdown",
   "source":[
    "### Covariance\n",
    "In the same way, try displaying the covariance matrix with a `heatmap`!\n",
    "\n",
    "*Hint: You can access the covariance matrix with the `cov()` function.*"
   ],
   "attachments":{
    
   },
   "metadata":{
    "datalore":{
     "node_id":"Kw7rV04iinSb44kYLdfqy7",
     "type":"MD",
     "hide_input_from_viewers":false,
     "hide_output_from_viewers":false,
     "report_properties":{
      "rowId":"lLj49UIqmrc01Z8POCBtrJ"
     }
    }
   }
  },
  {
   "cell_type":"code",
   "source":[
    "# Your code here\n",
    "sns.heatmap(df.cov(),annot = True)\n",
    "plt.show()"
   ],
   "execution_count":25,
   "outputs":[
    {
     "name":"stderr",
     "text":[
      "<ipython-input-25-7f28d2bfcfd7>:2: FutureWarning: The default value of numeric_only in DataFrame.cov is deprecated. In a future version, it will default to False. Select only valid columns or specify the value of numeric_only to silence this warning.\n",
      "  sns.heatmap(df.cov(),annot = True)\n"
     ],
     "output_type":"stream"
    },
    {
     "data":{
      "image\/png":"[encoded data removed]"
     },
     "metadata":{
      "image\/png":{
       
      }
     },
     "output_type":"display_data"
    }
   ],
   "metadata":{
    "datalore":{
     "node_id":"U6vP8LSHmbKOcHMHV0Pi9k",
     "type":"CODE",
     "hide_input_from_viewers":false,
     "hide_output_from_viewers":false,
     "report_properties":{
      "rowId":"Jp9fDDz0d6fRwDaPrF99xa"
     }
    }
   }
  },
  {
   "cell_type":"markdown",
   "source":[
    "## Try it yourself!\n",
    "As an exercise, try analysing another dataset that you do no know. There are many datasets freely available on the internet. For example, try loading [another one of sklearn's toy datasets](https:\/\/scikit-learn.org\/stable\/datasets\/toy_dataset.html)!"
   ],
   "attachments":{
    
   },
   "metadata":{
    "datalore":{
     "node_id":"8KQElHGgNo6mmq8bNUAiW2",
     "type":"MD",
     "hide_input_from_viewers":false,
     "hide_output_from_viewers":false,
     "report_properties":{
      "rowId":"JgbxDkm5EWxo6NNJw4c1oo"
     }
    }
   }
  },
  {
   "cell_type":"code",
   "source":[
    "# Your code here"
   ],
   "execution_count":null,
   "outputs":[
    
   ],
   "metadata":{
    "datalore":{
     "node_id":"VLfe870Z0JTMdqms6cUXw3",
     "type":"CODE",
     "hide_input_from_viewers":false,
     "hide_output_from_viewers":false,
     "report_properties":{
      "rowId":"AQ8e93Znh9fKNE4RojIPhd"
     }
    }
   }
  }
 ],
 "metadata":{
  "kernelspec":{
   "display_name":"Python",
   "language":"python",
   "name":"python"
  },
  "datalore":{
   "computation_mode":"JUPYTER",
   "package_manager":"pip",
   "base_environment":"default",
   "packages":[
    
   ],
   "report_row_ids":[
    "MvJXaohZVRrpEWDz4UdMVP",
    "mBnBycUj53nE15ZYIp1S0t",
    "dNBOrfHTCFTRly4endCYy7",
    "6vbo40sklX71XOWCSAa9gY",
    "Zw7gPkMnejLhMgCrnCPrUU",
    "wrnktgAlJdzti5FwMX3mnw",
    "AZm8oOiVm8SBCjNLZ2qQ3u",
    "yNq4o9GjJO4si7xb2VMnok",
    "NaHGkaol2ZaC5DDZpEog2s",
    "vgAyKbAcVdzk78uPUkzldN",
    "wZJVkxcq2qt6mmhIYq3JqG",
    "Kbnevud3C2YVgy4CoZUMaJ",
    "dSIxLW2e0dRzC4D1HwAnVt",
    "37ziwVQOEcZ5H4BsaaRzmQ",
    "kQKPQNfkfu3j9DJl1n5z7A",
    "hnh3lQRtSU5xF2KhbnL4LO",
    "bD7qoYuY2xUAveZGFJxpCw",
    "ET6m9MQ3VAHGmE2nI7Jfna",
    "sNkksTzDexCaJOwsp1hysQ",
    "EWfemELzW3ql5vKNktinHd",
    "cJYcuBDkETLBol6cjVBXXZ",
    "xqy1cMMeKRh9dhktomuv2v",
    "JY6EhBkBMmTyBwItj7QaCU",
    "bUelyvJiN1Pkwvd2uLl7LD",
    "glIXfKWj71wj7h8xXiBMfA",
    "CHEYQvKelefyYjNgafI6NX",
    "MJKogGLNNXMTxiSdiGbkVy",
    "hTSr9xjxf8JLBKwxvuvf8m",
    "HYwo1iXHtEaz1O7Kln3MWh",
    "urcVIuqiSaJGoswhX8tmOn",
    "fzEqUYuHSgo5Mr84W7oFxn",
    "l4AUtRTDsngJSY8xTaWuif",
    "SkGDyTgX5J02LNGbUsgih0",
    "u2Y0ZWvDtEwr02YHDV5bMH",
    "enW4p89dbH1eu7NaQzKfMc",
    "VBKAlyJ3yJTNS5BZGiAvU3",
    "3E9tvfktYJSKt1nDT45V90",
    "3xNPXcwFcvZEUylZ4sSfN9",
    "tHSqOZb4qeSy6WybuoUxc7",
    "Gm2EFTIPKs1Q9LUXssLyV3",
    "lLj49UIqmrc01Z8POCBtrJ",
    "Jp9fDDz0d6fRwDaPrF99xa",
    "JgbxDkm5EWxo6NNJw4c1oo",
    "AQ8e93Znh9fKNE4RojIPhd"
   ],
   "version":3
  }
 },
 "nbformat":4,
 "nbformat_minor":4
}