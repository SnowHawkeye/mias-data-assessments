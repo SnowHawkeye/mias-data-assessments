{
 "cells":[
  {
   "cell_type":"markdown",
   "source":[
    "# Understanding data"
   ],
   "attachments":{
    
   },
   "metadata":{
    "datalore":{
     "node_id":"Zb8lbdrPbRkYLh3BKIjRhF",
     "type":"MD",
     "hide_input_from_viewers":false,
     "hide_output_from_viewers":false,
     "report_properties":{
      "rowId":"Jss1her3tt267pYC7LYaDm"
     }
    }
   }
  },
  {
   "cell_type":"markdown",
   "source":[
    "## Setup\n",
    "### Imports\n",
    "In order to work with data, we need to import some libraries."
   ],
   "attachments":{
    
   },
   "metadata":{
    "datalore":{
     "node_id":"BNoYhDmA2VqAqf9CBj6Uqc",
     "type":"MD",
     "hide_input_from_viewers":false,
     "hide_output_from_viewers":false,
     "report_properties":{
      "rowId":"Uiucz4os0lTittjExQg24n"
     }
    }
   }
  },
  {
   "cell_type":"code",
   "source":[
    "import pandas as pd                     # for dataset manipulation (DataFrames)\n",
    "import sklearn.datasets                 # the datasets we are going to use\n",
    "import numpy as np                      # allows some mathematical operations\n",
    "import matplotlib.pyplot as plt         # library used to display graphs\n",
    "import seaborn as sns                   # more convenient visualization library for dataframes"
   ],
   "execution_count":1,
   "outputs":[
    
   ],
   "metadata":{
    "datalore":{
     "node_id":"YYrZfYhvMnIpY5Cmr1zPho",
     "type":"CODE",
     "hide_input_from_viewers":false,
     "hide_output_from_viewers":false,
     "report_properties":{
      "rowId":"WuOUZ5LOT4BAsvpGzbikXe"
     }
    }
   }
  },
  {
   "cell_type":"markdown",
   "source":[
    "### Loading the dataset"
   ],
   "attachments":{
    
   },
   "metadata":{
    "datalore":{
     "node_id":"RCjkBVjlLii3fnKdPn0gDV",
     "type":"MD",
     "hide_input_from_viewers":false,
     "hide_output_from_viewers":false,
     "report_properties":{
      "rowId":"MGkirnCOJ4QB7kgpJkRSMM"
     }
    }
   }
  },
  {
   "cell_type":"code",
   "source":[
    "iris = sklearn.datasets.load_iris()\n",
    "df = pd.DataFrame(data= np.c_[iris['data'], iris['target']], columns= iris['feature_names'] + ['target'])"
   ],
   "execution_count":2,
   "outputs":[
    
   ],
   "metadata":{
    "datalore":{
     "node_id":"hg0ptvkDWFxif6F2BXlDJd",
     "type":"CODE",
     "hide_input_from_viewers":false,
     "hide_output_from_viewers":false,
     "report_properties":{
      "rowId":"ZF2NiV434mpNRZqL7uAUyw"
     }
    }
   }
  },
  {
   "cell_type":"markdown",
   "source":[
    "The dataset is now loaded into the `df` variable, which stands for \"DataFrame\".\n",
    "DataFrames are objects proposed by the `pandas` library. They are basically convenient tables, with a lot of built-in functions to manipulate them.\n",
    "\n",
    "You can see what the dataframe looks like by executing the cell below :"
   ],
   "attachments":{
    
   },
   "metadata":{
    "datalore":{
     "node_id":"6Ffh93DAoaie7fjquELSys",
     "type":"MD",
     "hide_input_from_viewers":false,
     "hide_output_from_viewers":false,
     "report_properties":{
      "rowId":"pwNDwmafn68Ttyuo1jxfJD"
     }
    }
   }
  },
  {
   "cell_type":"code",
   "source":[
    "df"
   ],
   "execution_count":3,
   "outputs":[
    {
     "data":{
      "text\/html":[
       "<div>\n",
       "<style scoped>\n",
       "    .dataframe tbody tr th:only-of-type {\n",
       "        vertical-align: middle;\n",
       "    }\n",
       "\n",
       "    .dataframe tbody tr th {\n",
       "        vertical-align: top;\n",
       "    }\n",
       "\n",
       "    .dataframe thead th {\n",
       "        text-align: right;\n",
       "    }\n",
       "<\/style>\n",
       "<table border=\"1\" class=\"dataframe\">\n",
       "  <thead>\n",
       "    <tr style=\"text-align: right;\">\n",
       "      <th><\/th>\n",
       "      <th>sepal length (cm)<\/th>\n",
       "      <th>sepal width (cm)<\/th>\n",
       "      <th>petal length (cm)<\/th>\n",
       "      <th>petal width (cm)<\/th>\n",
       "      <th>target<\/th>\n",
       "    <\/tr>\n",
       "  <\/thead>\n",
       "  <tbody>\n",
       "    <tr>\n",
       "      <th>0<\/th>\n",
       "      <td>5.1<\/td>\n",
       "      <td>3.5<\/td>\n",
       "      <td>1.4<\/td>\n",
       "      <td>0.2<\/td>\n",
       "      <td>0.0<\/td>\n",
       "    <\/tr>\n",
       "    <tr>\n",
       "      <th>1<\/th>\n",
       "      <td>4.9<\/td>\n",
       "      <td>3.0<\/td>\n",
       "      <td>1.4<\/td>\n",
       "      <td>0.2<\/td>\n",
       "      <td>0.0<\/td>\n",
       "    <\/tr>\n",
       "    <tr>\n",
       "      <th>2<\/th>\n",
       "      <td>4.7<\/td>\n",
       "      <td>3.2<\/td>\n",
       "      <td>1.3<\/td>\n",
       "      <td>0.2<\/td>\n",
       "      <td>0.0<\/td>\n",
       "    <\/tr>\n",
       "    <tr>\n",
       "      <th>3<\/th>\n",
       "      <td>4.6<\/td>\n",
       "      <td>3.1<\/td>\n",
       "      <td>1.5<\/td>\n",
       "      <td>0.2<\/td>\n",
       "      <td>0.0<\/td>\n",
       "    <\/tr>\n",
       "    <tr>\n",
       "      <th>4<\/th>\n",
       "      <td>5.0<\/td>\n",
       "      <td>3.6<\/td>\n",
       "      <td>1.4<\/td>\n",
       "      <td>0.2<\/td>\n",
       "      <td>0.0<\/td>\n",
       "    <\/tr>\n",
       "    <tr>\n",
       "      <th>...<\/th>\n",
       "      <td>...<\/td>\n",
       "      <td>...<\/td>\n",
       "      <td>...<\/td>\n",
       "      <td>...<\/td>\n",
       "      <td>...<\/td>\n",
       "    <\/tr>\n",
       "    <tr>\n",
       "      <th>145<\/th>\n",
       "      <td>6.7<\/td>\n",
       "      <td>3.0<\/td>\n",
       "      <td>5.2<\/td>\n",
       "      <td>2.3<\/td>\n",
       "      <td>2.0<\/td>\n",
       "    <\/tr>\n",
       "    <tr>\n",
       "      <th>146<\/th>\n",
       "      <td>6.3<\/td>\n",
       "      <td>2.5<\/td>\n",
       "      <td>5.0<\/td>\n",
       "      <td>1.9<\/td>\n",
       "      <td>2.0<\/td>\n",
       "    <\/tr>\n",
       "    <tr>\n",
       "      <th>147<\/th>\n",
       "      <td>6.5<\/td>\n",
       "      <td>3.0<\/td>\n",
       "      <td>5.2<\/td>\n",
       "      <td>2.0<\/td>\n",
       "      <td>2.0<\/td>\n",
       "    <\/tr>\n",
       "    <tr>\n",
       "      <th>148<\/th>\n",
       "      <td>6.2<\/td>\n",
       "      <td>3.4<\/td>\n",
       "      <td>5.4<\/td>\n",
       "      <td>2.3<\/td>\n",
       "      <td>2.0<\/td>\n",
       "    <\/tr>\n",
       "    <tr>\n",
       "      <th>149<\/th>\n",
       "      <td>5.9<\/td>\n",
       "      <td>3.0<\/td>\n",
       "      <td>5.1<\/td>\n",
       "      <td>1.8<\/td>\n",
       "      <td>2.0<\/td>\n",
       "    <\/tr>\n",
       "  <\/tbody>\n",
       "<\/table>\n",
       "<p>150 rows × 5 columns<\/p>\n",
       "<\/div>"
      ]
     },
     "metadata":{
      
     },
     "output_type":"display_data"
    }
   ],
   "metadata":{
    "datalore":{
     "node_id":"x3a4fVFBe0FgJNkBJvu7xn",
     "type":"CODE",
     "hide_input_from_viewers":false,
     "hide_output_from_viewers":false,
     "report_properties":{
      "rowId":"mIE8UN0ZWeK8VBHI0ZsEWG"
     }
    }
   }
  },
  {
   "cell_type":"markdown",
   "source":[
    "## Data understanding\n",
    "### Data source and documentation\n",
    "Before even writing any code, it is important to check where the data is coming from and gather as much information as possible on the data it contains.\n",
    "The iris dataset - that we loaded above - is a popular dataset to teach machine learning, meaning information is easily accessible on the internet.\n",
    "\n",
    "\n",
    "#### Questions\n",
    "**Before beginning the data analysis, find the answers to the following questions:**\n",
    "- Who created the dataset? When and why?\n",
    "- Describe briefly what the iris dataset contains.\n",
    "- What information does the columns contain?\n",
    "- In particular, what is the `target` column, and what does its values correspond to?\n",
    "\n",
    "*Hint: We use the `scikit-learn` library to load the dataset.*\n",
    "\n",
    "\n",
    "#### Answers\n",
    "*[Your answers here]*"
   ],
   "attachments":{
    
   },
   "metadata":{
    "datalore":{
     "node_id":"ynlvf8ZGfPPaMasR4BFD6h",
     "type":"MD",
     "hide_input_from_viewers":false,
     "hide_output_from_viewers":false,
     "report_properties":{
      "rowId":"Q315X3xWyj4s9cRMGxERPA"
     }
    }
   }
  },
  {
   "cell_type":"code",
   "source":[
    "df.describe()"
   ],
   "execution_count":4,
   "outputs":[
    {
     "data":{
      "text\/html":[
       "<div>\n",
       "<style scoped>\n",
       "    .dataframe tbody tr th:only-of-type {\n",
       "        vertical-align: middle;\n",
       "    }\n",
       "\n",
       "    .dataframe tbody tr th {\n",
       "        vertical-align: top;\n",
       "    }\n",
       "\n",
       "    .dataframe thead th {\n",
       "        text-align: right;\n",
       "    }\n",
       "<\/style>\n",
       "<table border=\"1\" class=\"dataframe\">\n",
       "  <thead>\n",
       "    <tr style=\"text-align: right;\">\n",
       "      <th><\/th>\n",
       "      <th>sepal length (cm)<\/th>\n",
       "      <th>sepal width (cm)<\/th>\n",
       "      <th>petal length (cm)<\/th>\n",
       "      <th>petal width (cm)<\/th>\n",
       "      <th>target<\/th>\n",
       "    <\/tr>\n",
       "  <\/thead>\n",
       "  <tbody>\n",
       "    <tr>\n",
       "      <th>count<\/th>\n",
       "      <td>150.000000<\/td>\n",
       "      <td>150.000000<\/td>\n",
       "      <td>150.000000<\/td>\n",
       "      <td>150.000000<\/td>\n",
       "      <td>150.000000<\/td>\n",
       "    <\/tr>\n",
       "    <tr>\n",
       "      <th>mean<\/th>\n",
       "      <td>5.843333<\/td>\n",
       "      <td>3.057333<\/td>\n",
       "      <td>3.758000<\/td>\n",
       "      <td>1.199333<\/td>\n",
       "      <td>1.000000<\/td>\n",
       "    <\/tr>\n",
       "    <tr>\n",
       "      <th>std<\/th>\n",
       "      <td>0.828066<\/td>\n",
       "      <td>0.435866<\/td>\n",
       "      <td>1.765298<\/td>\n",
       "      <td>0.762238<\/td>\n",
       "      <td>0.819232<\/td>\n",
       "    <\/tr>\n",
       "    <tr>\n",
       "      <th>min<\/th>\n",
       "      <td>4.300000<\/td>\n",
       "      <td>2.000000<\/td>\n",
       "      <td>1.000000<\/td>\n",
       "      <td>0.100000<\/td>\n",
       "      <td>0.000000<\/td>\n",
       "    <\/tr>\n",
       "    <tr>\n",
       "      <th>25%<\/th>\n",
       "      <td>5.100000<\/td>\n",
       "      <td>2.800000<\/td>\n",
       "      <td>1.600000<\/td>\n",
       "      <td>0.300000<\/td>\n",
       "      <td>0.000000<\/td>\n",
       "    <\/tr>\n",
       "    <tr>\n",
       "      <th>50%<\/th>\n",
       "      <td>5.800000<\/td>\n",
       "      <td>3.000000<\/td>\n",
       "      <td>4.350000<\/td>\n",
       "      <td>1.300000<\/td>\n",
       "      <td>1.000000<\/td>\n",
       "    <\/tr>\n",
       "    <tr>\n",
       "      <th>75%<\/th>\n",
       "      <td>6.400000<\/td>\n",
       "      <td>3.300000<\/td>\n",
       "      <td>5.100000<\/td>\n",
       "      <td>1.800000<\/td>\n",
       "      <td>2.000000<\/td>\n",
       "    <\/tr>\n",
       "    <tr>\n",
       "      <th>max<\/th>\n",
       "      <td>7.900000<\/td>\n",
       "      <td>4.400000<\/td>\n",
       "      <td>6.900000<\/td>\n",
       "      <td>2.500000<\/td>\n",
       "      <td>2.000000<\/td>\n",
       "    <\/tr>\n",
       "  <\/tbody>\n",
       "<\/table>\n",
       "<\/div>"
      ]
     },
     "metadata":{
      
     },
     "output_type":"display_data"
    }
   ],
   "metadata":{
    "datalore":{
     "node_id":"SX0BZUKeQAftRoczSpYSLn",
     "type":"CODE",
     "hide_input_from_viewers":true,
     "hide_output_from_viewers":true
    }
   }
  },
  {
   "cell_type":"code",
   "source":[
    "df.shape"
   ],
   "execution_count":5,
   "outputs":[
    {
     "data":{
      "text\/plain":[
       "(150, 5)"
      ]
     },
     "metadata":{
      
     },
     "output_type":"display_data"
    }
   ],
   "metadata":{
    "datalore":{
     "node_id":"U88rpJR8nI7ak3NNQGL5qI",
     "type":"CODE",
     "hide_input_from_viewers":true,
     "hide_output_from_viewers":true
    }
   }
  },
  {
   "cell_type":"code",
   "source":[
    "df.info"
   ],
   "execution_count":6,
   "outputs":[
    {
     "data":{
      "text\/plain":[
       "<bound method DataFrame.info of      sepal length (cm)  sepal width (cm)  petal length (cm)  petal width (cm)  \\\n",
       "0                  5.1               3.5                1.4               0.2   \n",
       "1                  4.9               3.0                1.4               0.2   \n",
       "2                  4.7               3.2                1.3               0.2   \n",
       "3                  4.6               3.1                1.5               0.2   \n",
       "4                  5.0               3.6                1.4               0.2   \n",
       "..                 ...               ...                ...               ...   \n",
       "145                6.7               3.0                5.2               2.3   \n",
       "146                6.3               2.5                5.0               1.9   \n",
       "147                6.5               3.0                5.2               2.0   \n",
       "148                6.2               3.4                5.4               2.3   \n",
       "149                5.9               3.0                5.1               1.8   \n",
       "\n",
       "     target  \n",
       "0       0.0  \n",
       "1       0.0  \n",
       "2       0.0  \n",
       "3       0.0  \n",
       "4       0.0  \n",
       "..      ...  \n",
       "145     2.0  \n",
       "146     2.0  \n",
       "147     2.0  \n",
       "148     2.0  \n",
       "149     2.0  \n",
       "\n",
       "[150 rows x 5 columns]>"
      ]
     },
     "metadata":{
      
     },
     "output_type":"display_data"
    }
   ],
   "metadata":{
    "datalore":{
     "node_id":"3R3CG9DXP8RyFdU9V7ZlZI",
     "type":"CODE",
     "hide_input_from_viewers":true,
     "hide_output_from_viewers":true
    }
   }
  },
  {
   "cell_type":"markdown",
   "source":[
    "### Getting general information about the dataset\n",
    "\n",
    "#### Questions\n",
    "\n",
    "1. How much data does the dataset contain?\n",
    "2. How many features (columns) are there?\n",
    "3. Name the different columns and their data types.\n",
    "4. For each column, check the values of the following statistics: mean, standard deviation, minimum, maximum, and median.\n",
    "5. How do these values vary within each type of iris? *(Use the code sample below as reference)*\n",
    "\n",
    "*Hint: You will need to use the pandas functions: `DataFrame.shape`, `DataFrame.head()`, `DataFrame.describe()`, and `DataFrame.info()`. Make sure to [check their documentation](https:\/\/pandas.pydata.org\/pandas-docs\/stable\/reference\/frame.html)!*"
   ],
   "attachments":{
    
   },
   "metadata":{
    "datalore":{
     "node_id":"Ed5xmJFGfFbxjJeIxye4kf",
     "type":"MD",
     "hide_input_from_viewers":false,
     "hide_output_from_viewers":false,
     "report_properties":{
      "rowId":"J9TmZcguBFaRWyU2jQ7ZPG"
     }
    }
   }
  },
  {
   "cell_type":"code",
   "source":[
    "df.dtypes"
   ],
   "execution_count":7,
   "outputs":[
    {
     "data":{
      "text\/html":[
       "<pre>sepal length (cm)    float64\n",
       "sepal width (cm)     float64\n",
       "petal length (cm)    float64\n",
       "petal width (cm)     float64\n",
       "target               float64\n",
       "dtype: object<\/pre>"
      ]
     },
     "metadata":{
      
     },
     "output_type":"display_data"
    }
   ],
   "metadata":{
    "datalore":{
     "node_id":"EikjKHtJwYdm1HdHUnBowZ",
     "type":"CODE",
     "hide_input_from_viewers":true,
     "hide_output_from_viewers":true
    }
   }
  },
  {
   "cell_type":"code",
   "source":[
    
   ],
   "execution_count":null,
   "outputs":[
    
   ],
   "metadata":{
    "datalore":{
     "node_id":"cXWWcLjuq3E0cXoJVgkvB7",
     "type":"CODE",
     "hide_input_from_viewers":true,
     "hide_output_from_viewers":true
    }
   }
  },
  {
   "cell_type":"code",
   "source":[
    "df.describe()"
   ],
   "execution_count":8,
   "outputs":[
    {
     "data":{
      "text\/html":[
       "<div>\n",
       "<style scoped>\n",
       "    .dataframe tbody tr th:only-of-type {\n",
       "        vertical-align: middle;\n",
       "    }\n",
       "\n",
       "    .dataframe tbody tr th {\n",
       "        vertical-align: top;\n",
       "    }\n",
       "\n",
       "    .dataframe thead th {\n",
       "        text-align: right;\n",
       "    }\n",
       "<\/style>\n",
       "<table border=\"1\" class=\"dataframe\">\n",
       "  <thead>\n",
       "    <tr style=\"text-align: right;\">\n",
       "      <th><\/th>\n",
       "      <th>sepal length (cm)<\/th>\n",
       "      <th>sepal width (cm)<\/th>\n",
       "      <th>petal length (cm)<\/th>\n",
       "      <th>petal width (cm)<\/th>\n",
       "      <th>target<\/th>\n",
       "    <\/tr>\n",
       "  <\/thead>\n",
       "  <tbody>\n",
       "    <tr>\n",
       "      <th>count<\/th>\n",
       "      <td>150.000000<\/td>\n",
       "      <td>150.000000<\/td>\n",
       "      <td>150.000000<\/td>\n",
       "      <td>150.000000<\/td>\n",
       "      <td>150.000000<\/td>\n",
       "    <\/tr>\n",
       "    <tr>\n",
       "      <th>mean<\/th>\n",
       "      <td>5.843333<\/td>\n",
       "      <td>3.057333<\/td>\n",
       "      <td>3.758000<\/td>\n",
       "      <td>1.199333<\/td>\n",
       "      <td>1.000000<\/td>\n",
       "    <\/tr>\n",
       "    <tr>\n",
       "      <th>std<\/th>\n",
       "      <td>0.828066<\/td>\n",
       "      <td>0.435866<\/td>\n",
       "      <td>1.765298<\/td>\n",
       "      <td>0.762238<\/td>\n",
       "      <td>0.819232<\/td>\n",
       "    <\/tr>\n",
       "    <tr>\n",
       "      <th>min<\/th>\n",
       "      <td>4.300000<\/td>\n",
       "      <td>2.000000<\/td>\n",
       "      <td>1.000000<\/td>\n",
       "      <td>0.100000<\/td>\n",
       "      <td>0.000000<\/td>\n",
       "    <\/tr>\n",
       "    <tr>\n",
       "      <th>25%<\/th>\n",
       "      <td>5.100000<\/td>\n",
       "      <td>2.800000<\/td>\n",
       "      <td>1.600000<\/td>\n",
       "      <td>0.300000<\/td>\n",
       "      <td>0.000000<\/td>\n",
       "    <\/tr>\n",
       "    <tr>\n",
       "      <th>50%<\/th>\n",
       "      <td>5.800000<\/td>\n",
       "      <td>3.000000<\/td>\n",
       "      <td>4.350000<\/td>\n",
       "      <td>1.300000<\/td>\n",
       "      <td>1.000000<\/td>\n",
       "    <\/tr>\n",
       "    <tr>\n",
       "      <th>75%<\/th>\n",
       "      <td>6.400000<\/td>\n",
       "      <td>3.300000<\/td>\n",
       "      <td>5.100000<\/td>\n",
       "      <td>1.800000<\/td>\n",
       "      <td>2.000000<\/td>\n",
       "    <\/tr>\n",
       "    <tr>\n",
       "      <th>max<\/th>\n",
       "      <td>7.900000<\/td>\n",
       "      <td>4.400000<\/td>\n",
       "      <td>6.900000<\/td>\n",
       "      <td>2.500000<\/td>\n",
       "      <td>2.000000<\/td>\n",
       "    <\/tr>\n",
       "  <\/tbody>\n",
       "<\/table>\n",
       "<\/div>"
      ]
     },
     "metadata":{
      
     },
     "output_type":"display_data"
    }
   ],
   "metadata":{
    "datalore":{
     "node_id":"n2c4CI5Zilh89X71Mxatn5",
     "type":"CODE",
     "hide_input_from_viewers":true,
     "hide_output_from_viewers":true
    }
   }
  },
  {
   "cell_type":"code",
   "source":[
    "df.head()"
   ],
   "execution_count":9,
   "outputs":[
    {
     "data":{
      "text\/html":[
       "<div>\n",
       "<style scoped>\n",
       "    .dataframe tbody tr th:only-of-type {\n",
       "        vertical-align: middle;\n",
       "    }\n",
       "\n",
       "    .dataframe tbody tr th {\n",
       "        vertical-align: top;\n",
       "    }\n",
       "\n",
       "    .dataframe thead th {\n",
       "        text-align: right;\n",
       "    }\n",
       "<\/style>\n",
       "<table border=\"1\" class=\"dataframe\">\n",
       "  <thead>\n",
       "    <tr style=\"text-align: right;\">\n",
       "      <th><\/th>\n",
       "      <th>sepal length (cm)<\/th>\n",
       "      <th>sepal width (cm)<\/th>\n",
       "      <th>petal length (cm)<\/th>\n",
       "      <th>petal width (cm)<\/th>\n",
       "      <th>target<\/th>\n",
       "    <\/tr>\n",
       "  <\/thead>\n",
       "  <tbody>\n",
       "    <tr>\n",
       "      <th>0<\/th>\n",
       "      <td>5.1<\/td>\n",
       "      <td>3.5<\/td>\n",
       "      <td>1.4<\/td>\n",
       "      <td>0.2<\/td>\n",
       "      <td>0.0<\/td>\n",
       "    <\/tr>\n",
       "    <tr>\n",
       "      <th>1<\/th>\n",
       "      <td>4.9<\/td>\n",
       "      <td>3.0<\/td>\n",
       "      <td>1.4<\/td>\n",
       "      <td>0.2<\/td>\n",
       "      <td>0.0<\/td>\n",
       "    <\/tr>\n",
       "    <tr>\n",
       "      <th>2<\/th>\n",
       "      <td>4.7<\/td>\n",
       "      <td>3.2<\/td>\n",
       "      <td>1.3<\/td>\n",
       "      <td>0.2<\/td>\n",
       "      <td>0.0<\/td>\n",
       "    <\/tr>\n",
       "    <tr>\n",
       "      <th>3<\/th>\n",
       "      <td>4.6<\/td>\n",
       "      <td>3.1<\/td>\n",
       "      <td>1.5<\/td>\n",
       "      <td>0.2<\/td>\n",
       "      <td>0.0<\/td>\n",
       "    <\/tr>\n",
       "    <tr>\n",
       "      <th>4<\/th>\n",
       "      <td>5.0<\/td>\n",
       "      <td>3.6<\/td>\n",
       "      <td>1.4<\/td>\n",
       "      <td>0.2<\/td>\n",
       "      <td>0.0<\/td>\n",
       "    <\/tr>\n",
       "  <\/tbody>\n",
       "<\/table>\n",
       "<\/div>"
      ]
     },
     "metadata":{
      
     },
     "output_type":"display_data"
    }
   ],
   "metadata":{
    "datalore":{
     "node_id":"CONhlsbTc4vqPqv4puAVr8",
     "type":"CODE",
     "hide_input_from_viewers":true,
     "hide_output_from_viewers":true
    }
   }
  },
  {
   "cell_type":"code",
   "source":[
    "df.describe()"
   ],
   "execution_count":10,
   "outputs":[
    {
     "data":{
      "text\/html":[
       "<div>\n",
       "<style scoped>\n",
       "    .dataframe tbody tr th:only-of-type {\n",
       "        vertical-align: middle;\n",
       "    }\n",
       "\n",
       "    .dataframe tbody tr th {\n",
       "        vertical-align: top;\n",
       "    }\n",
       "\n",
       "    .dataframe thead th {\n",
       "        text-align: right;\n",
       "    }\n",
       "<\/style>\n",
       "<table border=\"1\" class=\"dataframe\">\n",
       "  <thead>\n",
       "    <tr style=\"text-align: right;\">\n",
       "      <th><\/th>\n",
       "      <th>sepal length (cm)<\/th>\n",
       "      <th>sepal width (cm)<\/th>\n",
       "      <th>petal length (cm)<\/th>\n",
       "      <th>petal width (cm)<\/th>\n",
       "      <th>target<\/th>\n",
       "    <\/tr>\n",
       "  <\/thead>\n",
       "  <tbody>\n",
       "    <tr>\n",
       "      <th>count<\/th>\n",
       "      <td>150.000000<\/td>\n",
       "      <td>150.000000<\/td>\n",
       "      <td>150.000000<\/td>\n",
       "      <td>150.000000<\/td>\n",
       "      <td>150.000000<\/td>\n",
       "    <\/tr>\n",
       "    <tr>\n",
       "      <th>mean<\/th>\n",
       "      <td>5.843333<\/td>\n",
       "      <td>3.057333<\/td>\n",
       "      <td>3.758000<\/td>\n",
       "      <td>1.199333<\/td>\n",
       "      <td>1.000000<\/td>\n",
       "    <\/tr>\n",
       "    <tr>\n",
       "      <th>std<\/th>\n",
       "      <td>0.828066<\/td>\n",
       "      <td>0.435866<\/td>\n",
       "      <td>1.765298<\/td>\n",
       "      <td>0.762238<\/td>\n",
       "      <td>0.819232<\/td>\n",
       "    <\/tr>\n",
       "    <tr>\n",
       "      <th>min<\/th>\n",
       "      <td>4.300000<\/td>\n",
       "      <td>2.000000<\/td>\n",
       "      <td>1.000000<\/td>\n",
       "      <td>0.100000<\/td>\n",
       "      <td>0.000000<\/td>\n",
       "    <\/tr>\n",
       "    <tr>\n",
       "      <th>25%<\/th>\n",
       "      <td>5.100000<\/td>\n",
       "      <td>2.800000<\/td>\n",
       "      <td>1.600000<\/td>\n",
       "      <td>0.300000<\/td>\n",
       "      <td>0.000000<\/td>\n",
       "    <\/tr>\n",
       "    <tr>\n",
       "      <th>50%<\/th>\n",
       "      <td>5.800000<\/td>\n",
       "      <td>3.000000<\/td>\n",
       "      <td>4.350000<\/td>\n",
       "      <td>1.300000<\/td>\n",
       "      <td>1.000000<\/td>\n",
       "    <\/tr>\n",
       "    <tr>\n",
       "      <th>75%<\/th>\n",
       "      <td>6.400000<\/td>\n",
       "      <td>3.300000<\/td>\n",
       "      <td>5.100000<\/td>\n",
       "      <td>1.800000<\/td>\n",
       "      <td>2.000000<\/td>\n",
       "    <\/tr>\n",
       "    <tr>\n",
       "      <th>max<\/th>\n",
       "      <td>7.900000<\/td>\n",
       "      <td>4.400000<\/td>\n",
       "      <td>6.900000<\/td>\n",
       "      <td>2.500000<\/td>\n",
       "      <td>2.000000<\/td>\n",
       "    <\/tr>\n",
       "  <\/tbody>\n",
       "<\/table>\n",
       "<\/div>"
      ]
     },
     "metadata":{
      
     },
     "output_type":"display_data"
    }
   ],
   "metadata":{
    "datalore":{
     "node_id":"tbvtVpVli0zJBeb2RCOGni",
     "type":"CODE",
     "hide_input_from_viewers":true,
     "hide_output_from_viewers":true
    }
   }
  },
  {
   "cell_type":"code",
   "source":[
    
   ],
   "execution_count":null,
   "outputs":[
    
   ],
   "metadata":{
    "datalore":{
     "node_id":"LhKIjYIfN5M5EMxvKb2Qh1",
     "type":"CODE",
     "hide_input_from_viewers":true,
     "hide_output_from_viewers":true
    }
   }
  },
  {
   "cell_type":"code",
   "source":[
    "# Below is a code sample to show you how to filter a DataFrame\n",
    "filtered_data = df[df[\"sepal length (cm)\"] > 5]\n",
    "filtered_data"
   ],
   "execution_count":11,
   "outputs":[
    {
     "data":{
      "text\/html":[
       "<div>\n",
       "<style scoped>\n",
       "    .dataframe tbody tr th:only-of-type {\n",
       "        vertical-align: middle;\n",
       "    }\n",
       "\n",
       "    .dataframe tbody tr th {\n",
       "        vertical-align: top;\n",
       "    }\n",
       "\n",
       "    .dataframe thead th {\n",
       "        text-align: right;\n",
       "    }\n",
       "<\/style>\n",
       "<table border=\"1\" class=\"dataframe\">\n",
       "  <thead>\n",
       "    <tr style=\"text-align: right;\">\n",
       "      <th><\/th>\n",
       "      <th>sepal length (cm)<\/th>\n",
       "      <th>sepal width (cm)<\/th>\n",
       "      <th>petal length (cm)<\/th>\n",
       "      <th>petal width (cm)<\/th>\n",
       "      <th>target<\/th>\n",
       "    <\/tr>\n",
       "  <\/thead>\n",
       "  <tbody>\n",
       "    <tr>\n",
       "      <th>0<\/th>\n",
       "      <td>5.1<\/td>\n",
       "      <td>3.5<\/td>\n",
       "      <td>1.4<\/td>\n",
       "      <td>0.2<\/td>\n",
       "      <td>0.0<\/td>\n",
       "    <\/tr>\n",
       "    <tr>\n",
       "      <th>5<\/th>\n",
       "      <td>5.4<\/td>\n",
       "      <td>3.9<\/td>\n",
       "      <td>1.7<\/td>\n",
       "      <td>0.4<\/td>\n",
       "      <td>0.0<\/td>\n",
       "    <\/tr>\n",
       "    <tr>\n",
       "      <th>10<\/th>\n",
       "      <td>5.4<\/td>\n",
       "      <td>3.7<\/td>\n",
       "      <td>1.5<\/td>\n",
       "      <td>0.2<\/td>\n",
       "      <td>0.0<\/td>\n",
       "    <\/tr>\n",
       "    <tr>\n",
       "      <th>14<\/th>\n",
       "      <td>5.8<\/td>\n",
       "      <td>4.0<\/td>\n",
       "      <td>1.2<\/td>\n",
       "      <td>0.2<\/td>\n",
       "      <td>0.0<\/td>\n",
       "    <\/tr>\n",
       "    <tr>\n",
       "      <th>15<\/th>\n",
       "      <td>5.7<\/td>\n",
       "      <td>4.4<\/td>\n",
       "      <td>1.5<\/td>\n",
       "      <td>0.4<\/td>\n",
       "      <td>0.0<\/td>\n",
       "    <\/tr>\n",
       "    <tr>\n",
       "      <th>...<\/th>\n",
       "      <td>...<\/td>\n",
       "      <td>...<\/td>\n",
       "      <td>...<\/td>\n",
       "      <td>...<\/td>\n",
       "      <td>...<\/td>\n",
       "    <\/tr>\n",
       "    <tr>\n",
       "      <th>145<\/th>\n",
       "      <td>6.7<\/td>\n",
       "      <td>3.0<\/td>\n",
       "      <td>5.2<\/td>\n",
       "      <td>2.3<\/td>\n",
       "      <td>2.0<\/td>\n",
       "    <\/tr>\n",
       "    <tr>\n",
       "      <th>146<\/th>\n",
       "      <td>6.3<\/td>\n",
       "      <td>2.5<\/td>\n",
       "      <td>5.0<\/td>\n",
       "      <td>1.9<\/td>\n",
       "      <td>2.0<\/td>\n",
       "    <\/tr>\n",
       "    <tr>\n",
       "      <th>147<\/th>\n",
       "      <td>6.5<\/td>\n",
       "      <td>3.0<\/td>\n",
       "      <td>5.2<\/td>\n",
       "      <td>2.0<\/td>\n",
       "      <td>2.0<\/td>\n",
       "    <\/tr>\n",
       "    <tr>\n",
       "      <th>148<\/th>\n",
       "      <td>6.2<\/td>\n",
       "      <td>3.4<\/td>\n",
       "      <td>5.4<\/td>\n",
       "      <td>2.3<\/td>\n",
       "      <td>2.0<\/td>\n",
       "    <\/tr>\n",
       "    <tr>\n",
       "      <th>149<\/th>\n",
       "      <td>5.9<\/td>\n",
       "      <td>3.0<\/td>\n",
       "      <td>5.1<\/td>\n",
       "      <td>1.8<\/td>\n",
       "      <td>2.0<\/td>\n",
       "    <\/tr>\n",
       "  <\/tbody>\n",
       "<\/table>\n",
       "<p>118 rows × 5 columns<\/p>\n",
       "<\/div>"
      ]
     },
     "metadata":{
      
     },
     "output_type":"display_data"
    }
   ],
   "metadata":{
    "datalore":{
     "node_id":"FPOWvX4wjuPPMFkj9juVZ2",
     "type":"CODE",
     "hide_input_from_viewers":false,
     "hide_output_from_viewers":false,
     "report_properties":{
      "rowId":"pTkmCcfRVYnlnt0rd2z7Jp"
     }
    }
   }
  },
  {
   "cell_type":"code",
   "source":[
    "df[df[\"target\"]==2].describe()"
   ],
   "execution_count":12,
   "outputs":[
    {
     "data":{
      "text\/html":[
       "<div>\n",
       "<style scoped>\n",
       "    .dataframe tbody tr th:only-of-type {\n",
       "        vertical-align: middle;\n",
       "    }\n",
       "\n",
       "    .dataframe tbody tr th {\n",
       "        vertical-align: top;\n",
       "    }\n",
       "\n",
       "    .dataframe thead th {\n",
       "        text-align: right;\n",
       "    }\n",
       "<\/style>\n",
       "<table border=\"1\" class=\"dataframe\">\n",
       "  <thead>\n",
       "    <tr style=\"text-align: right;\">\n",
       "      <th><\/th>\n",
       "      <th>sepal length (cm)<\/th>\n",
       "      <th>sepal width (cm)<\/th>\n",
       "      <th>petal length (cm)<\/th>\n",
       "      <th>petal width (cm)<\/th>\n",
       "      <th>target<\/th>\n",
       "    <\/tr>\n",
       "  <\/thead>\n",
       "  <tbody>\n",
       "    <tr>\n",
       "      <th>count<\/th>\n",
       "      <td>50.00000<\/td>\n",
       "      <td>50.000000<\/td>\n",
       "      <td>50.000000<\/td>\n",
       "      <td>50.00000<\/td>\n",
       "      <td>50.0<\/td>\n",
       "    <\/tr>\n",
       "    <tr>\n",
       "      <th>mean<\/th>\n",
       "      <td>6.58800<\/td>\n",
       "      <td>2.974000<\/td>\n",
       "      <td>5.552000<\/td>\n",
       "      <td>2.02600<\/td>\n",
       "      <td>2.0<\/td>\n",
       "    <\/tr>\n",
       "    <tr>\n",
       "      <th>std<\/th>\n",
       "      <td>0.63588<\/td>\n",
       "      <td>0.322497<\/td>\n",
       "      <td>0.551895<\/td>\n",
       "      <td>0.27465<\/td>\n",
       "      <td>0.0<\/td>\n",
       "    <\/tr>\n",
       "    <tr>\n",
       "      <th>min<\/th>\n",
       "      <td>4.90000<\/td>\n",
       "      <td>2.200000<\/td>\n",
       "      <td>4.500000<\/td>\n",
       "      <td>1.40000<\/td>\n",
       "      <td>2.0<\/td>\n",
       "    <\/tr>\n",
       "    <tr>\n",
       "      <th>25%<\/th>\n",
       "      <td>6.22500<\/td>\n",
       "      <td>2.800000<\/td>\n",
       "      <td>5.100000<\/td>\n",
       "      <td>1.80000<\/td>\n",
       "      <td>2.0<\/td>\n",
       "    <\/tr>\n",
       "    <tr>\n",
       "      <th>50%<\/th>\n",
       "      <td>6.50000<\/td>\n",
       "      <td>3.000000<\/td>\n",
       "      <td>5.550000<\/td>\n",
       "      <td>2.00000<\/td>\n",
       "      <td>2.0<\/td>\n",
       "    <\/tr>\n",
       "    <tr>\n",
       "      <th>75%<\/th>\n",
       "      <td>6.90000<\/td>\n",
       "      <td>3.175000<\/td>\n",
       "      <td>5.875000<\/td>\n",
       "      <td>2.30000<\/td>\n",
       "      <td>2.0<\/td>\n",
       "    <\/tr>\n",
       "    <tr>\n",
       "      <th>max<\/th>\n",
       "      <td>7.90000<\/td>\n",
       "      <td>3.800000<\/td>\n",
       "      <td>6.900000<\/td>\n",
       "      <td>2.50000<\/td>\n",
       "      <td>2.0<\/td>\n",
       "    <\/tr>\n",
       "  <\/tbody>\n",
       "<\/table>\n",
       "<\/div>"
      ]
     },
     "metadata":{
      
     },
     "output_type":"display_data"
    }
   ],
   "metadata":{
    "datalore":{
     "node_id":"CFhbc7Jdh2EqsPqPxXSxhI",
     "type":"CODE",
     "hide_input_from_viewers":true,
     "hide_output_from_viewers":true
    }
   }
  },
  {
   "cell_type":"code",
   "source":[
    "# Your code here"
   ],
   "execution_count":13,
   "outputs":[
    
   ],
   "metadata":{
    "datalore":{
     "node_id":"E8g8fcWEIm6RblywCKgBlo",
     "type":"CODE",
     "hide_input_from_viewers":false,
     "hide_output_from_viewers":false,
     "report_properties":{
      "rowId":"OyU8mdBOeLqEaNUn8sJ7mT"
     }
    }
   }
  },
  {
   "cell_type":"markdown",
   "source":[
    "*[Your answers here]*"
   ],
   "attachments":{
    
   },
   "metadata":{
    "datalore":{
     "node_id":"dtqLzuAdzG6meViAOwK9zK",
     "type":"MD",
     "hide_input_from_viewers":false,
     "hide_output_from_viewers":false,
     "report_properties":{
      "rowId":"jqLLs4CHubkFXIxqOUGcbG"
     }
    }
   }
  },
  {
   "cell_type":"markdown",
   "source":[
    "### Basic validity checks\n",
    "\n",
    "In order to use a dataset for machine learning, we generally want to have \"clean\" data. Generally, we want to avoid missing and absurd values, duplicates, and imbalanced datasets.\n",
    "\n",
    "#### Questions\n",
    "1. How many rows contain missing data?\n",
    "2. What does it mean for a dataset to be \"balanced\"? Do you think this dataset is balanced?\n",
    "3. Is there any duplicated data in the dataset? In your opinion, is it good or bad for machine learning? Why?\n",
    "\n",
    "*Hint: You will need to use the `value_counts()` and `duplicated()` functions.*"
   ],
   "attachments":{
    
   },
   "metadata":{
    "datalore":{
     "node_id":"EuDm7zNQiyI4tCMqQ2JDxp",
     "type":"MD",
     "hide_input_from_viewers":false,
     "hide_output_from_viewers":false,
     "report_properties":{
      "rowId":"giKmWgfRtEODofLZrF3gb7"
     }
    }
   }
  },
  {
   "cell_type":"code",
   "source":[
    "\n",
    "df[\"target\"].value_counts()"
   ],
   "execution_count":14,
   "outputs":[
    {
     "data":{
      "text\/html":[
       "<pre>0.0    50\n",
       "1.0    50\n",
       "2.0    50\n",
       "Name: target, dtype: int64<\/pre>"
      ]
     },
     "metadata":{
      
     },
     "output_type":"display_data"
    }
   ],
   "metadata":{
    "datalore":{
     "node_id":"fNkCz40oE9jkWnv3Xk8MjG",
     "type":"CODE",
     "hide_input_from_viewers":false,
     "hide_output_from_viewers":false,
     "report_properties":{
      "rowId":"PBlh8ZMNYlhoyWIAMfGmWv"
     }
    }
   }
  },
  {
   "cell_type":"markdown",
   "source":[
    "df.duplicated().value_counts()"
   ],
   "attachments":{
    
   },
   "metadata":{
    "datalore":{
     "node_id":"DuB5Qqhn8pui89NuTX9LR8",
     "type":"MD",
     "hide_input_from_viewers":false,
     "hide_output_from_viewers":false,
     "report_properties":{
      "rowId":"g2lLbcgngGXI0JaHLab1c2"
     }
    }
   }
  },
  {
   "cell_type":"code",
   "source":[
    "df.duplicated().value_counts()"
   ],
   "execution_count":15,
   "outputs":[
    {
     "data":{
      "text\/html":[
       "<pre>False    149\n",
       "True       1\n",
       "dtype: int64<\/pre>"
      ]
     },
     "metadata":{
      
     },
     "output_type":"display_data"
    }
   ],
   "metadata":{
    "datalore":{
     "node_id":"N8QmD8S1AMCyzh4evbPjRw",
     "type":"CODE",
     "hide_input_from_viewers":true,
     "hide_output_from_viewers":true
    }
   }
  },
  {
   "cell_type":"markdown",
   "source":[
    "### Making the data more convenient to use\n",
    "\n",
    "You have probably noticed that the column names are quite long and also contain spaces, which is generally inconvenient in code. You can use the following code to change them:"
   ],
   "attachments":{
    
   },
   "metadata":{
    "datalore":{
     "node_id":"vM3V6JMiiFV6kgnsdL8MBb",
     "type":"MD",
     "hide_input_from_viewers":false,
     "hide_output_from_viewers":false,
     "report_properties":{
      "rowId":"eJc4XA3mNsixqhszfkLsfW"
     }
    }
   }
  },
  {
   "cell_type":"code",
   "source":[
    "df.columns = ['sepal_length', 'sepal_width', 'petal_length', 'petal_width', \"species\"]\n",
    "df"
   ],
   "execution_count":16,
   "outputs":[
    {
     "data":{
      "text\/html":[
       "<div>\n",
       "<style scoped>\n",
       "    .dataframe tbody tr th:only-of-type {\n",
       "        vertical-align: middle;\n",
       "    }\n",
       "\n",
       "    .dataframe tbody tr th {\n",
       "        vertical-align: top;\n",
       "    }\n",
       "\n",
       "    .dataframe thead th {\n",
       "        text-align: right;\n",
       "    }\n",
       "<\/style>\n",
       "<table border=\"1\" class=\"dataframe\">\n",
       "  <thead>\n",
       "    <tr style=\"text-align: right;\">\n",
       "      <th><\/th>\n",
       "      <th>sepal_length<\/th>\n",
       "      <th>sepal_width<\/th>\n",
       "      <th>petal_length<\/th>\n",
       "      <th>petal_width<\/th>\n",
       "      <th>species<\/th>\n",
       "    <\/tr>\n",
       "  <\/thead>\n",
       "  <tbody>\n",
       "    <tr>\n",
       "      <th>0<\/th>\n",
       "      <td>5.1<\/td>\n",
       "      <td>3.5<\/td>\n",
       "      <td>1.4<\/td>\n",
       "      <td>0.2<\/td>\n",
       "      <td>0.0<\/td>\n",
       "    <\/tr>\n",
       "    <tr>\n",
       "      <th>1<\/th>\n",
       "      <td>4.9<\/td>\n",
       "      <td>3.0<\/td>\n",
       "      <td>1.4<\/td>\n",
       "      <td>0.2<\/td>\n",
       "      <td>0.0<\/td>\n",
       "    <\/tr>\n",
       "    <tr>\n",
       "      <th>2<\/th>\n",
       "      <td>4.7<\/td>\n",
       "      <td>3.2<\/td>\n",
       "      <td>1.3<\/td>\n",
       "      <td>0.2<\/td>\n",
       "      <td>0.0<\/td>\n",
       "    <\/tr>\n",
       "    <tr>\n",
       "      <th>3<\/th>\n",
       "      <td>4.6<\/td>\n",
       "      <td>3.1<\/td>\n",
       "      <td>1.5<\/td>\n",
       "      <td>0.2<\/td>\n",
       "      <td>0.0<\/td>\n",
       "    <\/tr>\n",
       "    <tr>\n",
       "      <th>4<\/th>\n",
       "      <td>5.0<\/td>\n",
       "      <td>3.6<\/td>\n",
       "      <td>1.4<\/td>\n",
       "      <td>0.2<\/td>\n",
       "      <td>0.0<\/td>\n",
       "    <\/tr>\n",
       "    <tr>\n",
       "      <th>...<\/th>\n",
       "      <td>...<\/td>\n",
       "      <td>...<\/td>\n",
       "      <td>...<\/td>\n",
       "      <td>...<\/td>\n",
       "      <td>...<\/td>\n",
       "    <\/tr>\n",
       "    <tr>\n",
       "      <th>145<\/th>\n",
       "      <td>6.7<\/td>\n",
       "      <td>3.0<\/td>\n",
       "      <td>5.2<\/td>\n",
       "      <td>2.3<\/td>\n",
       "      <td>2.0<\/td>\n",
       "    <\/tr>\n",
       "    <tr>\n",
       "      <th>146<\/th>\n",
       "      <td>6.3<\/td>\n",
       "      <td>2.5<\/td>\n",
       "      <td>5.0<\/td>\n",
       "      <td>1.9<\/td>\n",
       "      <td>2.0<\/td>\n",
       "    <\/tr>\n",
       "    <tr>\n",
       "      <th>147<\/th>\n",
       "      <td>6.5<\/td>\n",
       "      <td>3.0<\/td>\n",
       "      <td>5.2<\/td>\n",
       "      <td>2.0<\/td>\n",
       "      <td>2.0<\/td>\n",
       "    <\/tr>\n",
       "    <tr>\n",
       "      <th>148<\/th>\n",
       "      <td>6.2<\/td>\n",
       "      <td>3.4<\/td>\n",
       "      <td>5.4<\/td>\n",
       "      <td>2.3<\/td>\n",
       "      <td>2.0<\/td>\n",
       "    <\/tr>\n",
       "    <tr>\n",
       "      <th>149<\/th>\n",
       "      <td>5.9<\/td>\n",
       "      <td>3.0<\/td>\n",
       "      <td>5.1<\/td>\n",
       "      <td>1.8<\/td>\n",
       "      <td>2.0<\/td>\n",
       "    <\/tr>\n",
       "  <\/tbody>\n",
       "<\/table>\n",
       "<p>150 rows × 5 columns<\/p>\n",
       "<\/div>"
      ]
     },
     "metadata":{
      
     },
     "output_type":"display_data"
    }
   ],
   "metadata":{
    "datalore":{
     "node_id":"B6LXPqvxppkob0sYK54PFW",
     "type":"CODE",
     "hide_input_from_viewers":false,
     "hide_output_from_viewers":false,
     "report_properties":{
      "rowId":"di6gI3OZ0gCEQHPsttLFxS"
     }
    }
   }
  },
  {
   "cell_type":"markdown",
   "source":[
    "**Bonus question**: How else can you rename columns in a dataframe?"
   ],
   "attachments":{
    
   },
   "metadata":{
    "datalore":{
     "node_id":"XcFp8GsDYRM5Kv69BQnHbA",
     "type":"MD",
     "hide_input_from_viewers":false,
     "hide_output_from_viewers":false,
     "report_properties":{
      "rowId":"82FHV1PWWKKv1EdeUlkJ9E"
     }
    }
   }
  },
  {
   "cell_type":"code",
   "source":[
    "# Your code here"
   ],
   "execution_count":17,
   "outputs":[
    
   ],
   "metadata":{
    "datalore":{
     "node_id":"yu4nZnIrHuYknmDQI6QqAa",
     "type":"CODE",
     "hide_input_from_viewers":false,
     "hide_output_from_viewers":false,
     "report_properties":{
      "rowId":"AhEucERHMF5d9JKN0hxwIK"
     }
    }
   }
  },
  {
   "cell_type":"markdown",
   "source":[
    "The `species` column is also a bit hard to read, because the classes are represented by numbers. This can be preferable for some algorithms, but for our use case today we will replace these values by explicit names. For this, we will use the `DataFrame.apply()` function."
   ],
   "attachments":{
    
   },
   "metadata":{
    "datalore":{
     "node_id":"8SLA8KK6SRq8Z5kgzukAd0",
     "type":"MD",
     "hide_input_from_viewers":false,
     "hide_output_from_viewers":false,
     "report_properties":{
      "rowId":"BmOedwwcieffLihfuTsRN5"
     }
    }
   }
  },
  {
   "cell_type":"code",
   "source":[
    "# This is the function we will apply to the \"class_float\" column\n",
    "def name_mapping(number:float):\n",
    "    \"\"\"This function maps 0.0, 1.0 and 2.0 to their corresponding values in the iris dataset.\"\"\"\n",
    "\n",
    "    name_map = {\n",
    "        0.0: \"Setosa\", # replace by the correct name\n",
    "        1.0: \"virticolor\", # replace by the correct name\n",
    "        2.0: \"verginica\", # replace by the correct name\n",
    "    }\n",
    "\n",
    "    if number not in name_map.keys(): # making sure the number is one of the expected values\n",
    "        raise ValueError(\"Not a valid number!\")\n",
    "\n",
    "    return name_map[number] # This is an alternative to using a lot of if\/else blocks"
   ],
   "execution_count":18,
   "outputs":[
    
   ],
   "metadata":{
    "datalore":{
     "node_id":"k4PZQq0jW1yHysUnxxNNwr",
     "type":"CODE",
     "hide_input_from_viewers":false,
     "hide_output_from_viewers":false,
     "report_properties":{
      "rowId":"i9mJrSuMd4d9boU9XpljW6"
     }
    }
   }
  },
  {
   "cell_type":"code",
   "source":[
    "# We can now apply the function\n",
    "df[\"species\"] = df[\"species\"].apply(name_mapping) # We pass the function as parameter, not its result! This is why we must not use parentheses."
   ],
   "execution_count":19,
   "outputs":[
    
   ],
   "metadata":{
    "datalore":{
     "node_id":"NbYEGmnjbNO6z68YcH8nFr",
     "type":"CODE",
     "hide_input_from_viewers":false,
     "hide_output_from_viewers":false,
     "report_properties":{
      "rowId":"EoWP4DWeQ4WlIbQ0FNdnCH"
     }
    }
   }
  },
  {
   "cell_type":"code",
   "source":[
    "# And check the result\n",
    "df"
   ],
   "execution_count":20,
   "outputs":[
    {
     "data":{
      "text\/html":[
       "<div>\n",
       "<style scoped>\n",
       "    .dataframe tbody tr th:only-of-type {\n",
       "        vertical-align: middle;\n",
       "    }\n",
       "\n",
       "    .dataframe tbody tr th {\n",
       "        vertical-align: top;\n",
       "    }\n",
       "\n",
       "    .dataframe thead th {\n",
       "        text-align: right;\n",
       "    }\n",
       "<\/style>\n",
       "<table border=\"1\" class=\"dataframe\">\n",
       "  <thead>\n",
       "    <tr style=\"text-align: right;\">\n",
       "      <th><\/th>\n",
       "      <th>sepal_length<\/th>\n",
       "      <th>sepal_width<\/th>\n",
       "      <th>petal_length<\/th>\n",
       "      <th>petal_width<\/th>\n",
       "      <th>species<\/th>\n",
       "    <\/tr>\n",
       "  <\/thead>\n",
       "  <tbody>\n",
       "    <tr>\n",
       "      <th>0<\/th>\n",
       "      <td>5.1<\/td>\n",
       "      <td>3.5<\/td>\n",
       "      <td>1.4<\/td>\n",
       "      <td>0.2<\/td>\n",
       "      <td>Setosa<\/td>\n",
       "    <\/tr>\n",
       "    <tr>\n",
       "      <th>1<\/th>\n",
       "      <td>4.9<\/td>\n",
       "      <td>3.0<\/td>\n",
       "      <td>1.4<\/td>\n",
       "      <td>0.2<\/td>\n",
       "      <td>Setosa<\/td>\n",
       "    <\/tr>\n",
       "    <tr>\n",
       "      <th>2<\/th>\n",
       "      <td>4.7<\/td>\n",
       "      <td>3.2<\/td>\n",
       "      <td>1.3<\/td>\n",
       "      <td>0.2<\/td>\n",
       "      <td>Setosa<\/td>\n",
       "    <\/tr>\n",
       "    <tr>\n",
       "      <th>3<\/th>\n",
       "      <td>4.6<\/td>\n",
       "      <td>3.1<\/td>\n",
       "      <td>1.5<\/td>\n",
       "      <td>0.2<\/td>\n",
       "      <td>Setosa<\/td>\n",
       "    <\/tr>\n",
       "    <tr>\n",
       "      <th>4<\/th>\n",
       "      <td>5.0<\/td>\n",
       "      <td>3.6<\/td>\n",
       "      <td>1.4<\/td>\n",
       "      <td>0.2<\/td>\n",
       "      <td>Setosa<\/td>\n",
       "    <\/tr>\n",
       "    <tr>\n",
       "      <th>...<\/th>\n",
       "      <td>...<\/td>\n",
       "      <td>...<\/td>\n",
       "      <td>...<\/td>\n",
       "      <td>...<\/td>\n",
       "      <td>...<\/td>\n",
       "    <\/tr>\n",
       "    <tr>\n",
       "      <th>145<\/th>\n",
       "      <td>6.7<\/td>\n",
       "      <td>3.0<\/td>\n",
       "      <td>5.2<\/td>\n",
       "      <td>2.3<\/td>\n",
       "      <td>verginica<\/td>\n",
       "    <\/tr>\n",
       "    <tr>\n",
       "      <th>146<\/th>\n",
       "      <td>6.3<\/td>\n",
       "      <td>2.5<\/td>\n",
       "      <td>5.0<\/td>\n",
       "      <td>1.9<\/td>\n",
       "      <td>verginica<\/td>\n",
       "    <\/tr>\n",
       "    <tr>\n",
       "      <th>147<\/th>\n",
       "      <td>6.5<\/td>\n",
       "      <td>3.0<\/td>\n",
       "      <td>5.2<\/td>\n",
       "      <td>2.0<\/td>\n",
       "      <td>verginica<\/td>\n",
       "    <\/tr>\n",
       "    <tr>\n",
       "      <th>148<\/th>\n",
       "      <td>6.2<\/td>\n",
       "      <td>3.4<\/td>\n",
       "      <td>5.4<\/td>\n",
       "      <td>2.3<\/td>\n",
       "      <td>verginica<\/td>\n",
       "    <\/tr>\n",
       "    <tr>\n",
       "      <th>149<\/th>\n",
       "      <td>5.9<\/td>\n",
       "      <td>3.0<\/td>\n",
       "      <td>5.1<\/td>\n",
       "      <td>1.8<\/td>\n",
       "      <td>verginica<\/td>\n",
       "    <\/tr>\n",
       "  <\/tbody>\n",
       "<\/table>\n",
       "<p>150 rows × 5 columns<\/p>\n",
       "<\/div>"
      ]
     },
     "metadata":{
      
     },
     "output_type":"display_data"
    }
   ],
   "metadata":{
    "datalore":{
     "node_id":"upzubVdSlof9H1QdcqsEOP",
     "type":"CODE",
     "hide_input_from_viewers":false,
     "hide_output_from_viewers":false,
     "report_properties":{
      "rowId":"iG7Eo8EDpAraZMrLdcvD5V"
     }
    }
   }
  },
  {
   "cell_type":"markdown",
   "source":[
    "## Data visualization\n",
    "\n",
    "Data visualization will help us:\n",
    "- Confirming and observing things we already know\n",
    "- Learning new facts about the data\n",
    "\n",
    "In this section **keep in mind that the goal of machine learning algorithms would be to classify the different species of iris**."
   ],
   "attachments":{
    
   },
   "metadata":{
    "datalore":{
     "node_id":"bHEN3BCYuYLIToEba7JWfd",
     "type":"MD",
     "hide_input_from_viewers":false,
     "hide_output_from_viewers":false,
     "report_properties":{
      "rowId":"hH5ptkEwYTaNLuJH2go0MJ"
     }
    }
   }
  },
  {
   "cell_type":"markdown",
   "source":[
    "### Countplot\n",
    "What does a `countplot` show? With what other function did you get similar results earlier?\n",
    "Try experimenting with the parameters of the function."
   ],
   "attachments":{
    
   },
   "metadata":{
    "datalore":{
     "node_id":"ftH9U00MhyBHOC9jNlKD7S",
     "type":"MD",
     "hide_input_from_viewers":false,
     "hide_output_from_viewers":false,
     "report_properties":{
      "rowId":"ZYq0b18Mebr4szjC9W4vz6"
     }
    }
   }
  },
  {
   "cell_type":"code",
   "source":[
    "sns.countplot(x='species', data=df, )\n",
    "plt.show()"
   ],
   "execution_count":21,
   "outputs":[
    {
     "data":{
      "image\/png":"[encoded data removed]"
     },
     "metadata":{
      "image\/png":{
       
      }
     },
     "output_type":"display_data"
    }
   ],
   "metadata":{
    "datalore":{
     "node_id":"u1sdi3DAUkH9AVHoCCgPLL",
     "type":"CODE",
     "hide_input_from_viewers":false,
     "hide_output_from_viewers":false,
     "report_properties":{
      "rowId":"MhrZ591etdTPsrtRNOneml"
     }
    }
   }
  },
  {
   "cell_type":"code",
   "source":[
    "plt.hist(x='species', data=df,)\n",
    "plt.show()"
   ],
   "execution_count":33,
   "outputs":[
    {
     "data":{
      "image\/png":"[encoded data removed]"
     },
     "metadata":{
      "image\/png":{
       
      }
     },
     "output_type":"display_data"
    }
   ],
   "metadata":{
    "datalore":{
     "node_id":"HmFS5XjfQPcAasMyRphPXG",
     "type":"CODE",
     "hide_input_from_viewers":true,
     "hide_output_from_viewers":true
    }
   }
  },
  {
   "cell_type":"markdown",
   "source":[
    "### Boxplot\n",
    "What does a `boxplot` show? With what other function did you get similar results earlier?\n",
    "In your opinion, why would you need this type of graph?"
   ],
   "attachments":{
    
   },
   "metadata":{
    "datalore":{
     "node_id":"PtzEKWAqYYYHgFLXVapl1t",
     "type":"MD",
     "hide_input_from_viewers":false,
     "hide_output_from_viewers":false,
     "report_properties":{
      "rowId":"VpUiLhRYulrwpNbIa6R6fW"
     }
    }
   }
  },
  {
   "cell_type":"code",
   "source":[
    "# Utility function to simplify syntax later on\n",
    "def boxplot(y):\n",
    "    sns.boxplot(x=\"species\", y=y, data=df)\n",
    "\n",
    "# We define a figure where we will be adding our graphs\n",
    "plt.figure(figsize=(10,10))\n",
    "\n",
    "# And then add the plots to the grid on specific positions\n",
    "plt.subplot(221)\n",
    "boxplot('sepal_length')\n",
    "\n",
    "plt.subplot(222)\n",
    "boxplot('sepal_width')\n",
    "\n",
    "plt.subplot(223)\n",
    "boxplot('petal_length')\n",
    "\n",
    "plt.subplot(224)\n",
    "boxplot('petal_width')\n",
    "\n",
    "plt.show()"
   ],
   "execution_count":22,
   "outputs":[
    {
     "data":{
      "image\/png":"[encoded data removed]"
     },
     "metadata":{
      "image\/png":{
       
      }
     },
     "output_type":"display_data"
    }
   ],
   "metadata":{
    "datalore":{
     "node_id":"VEbCy6supkMPKTD76nAxGJ",
     "type":"CODE",
     "hide_input_from_viewers":false,
     "hide_output_from_viewers":false,
     "report_properties":{
      "rowId":"PrXCVjzdaJdjaP5zzEcRok"
     }
    }
   }
  },
  {
   "cell_type":"markdown",
   "source":[
    "### Scatterplot\n",
    "What does a `scatterplot` show?\n",
    "What conclusions can you draw from this graph?\n",
    "Try changing the inputs of the function. Does this change your observations? What new conclusions can you draw from this?"
   ],
   "attachments":{
    
   },
   "metadata":{
    "datalore":{
     "node_id":"2lJbPybRxqbiHJ1lZSjrqL",
     "type":"MD",
     "hide_input_from_viewers":false,
     "hide_output_from_viewers":false,
     "report_properties":{
      "rowId":"X9ZAl6jsKoiYzDyy25mLms"
     }
    }
   }
  },
  {
   "cell_type":"code",
   "source":[
    "sns.scatterplot(x='sepal_length', y='sepal_width', hue='species', data=df, )\n",
    "plt.legend(bbox_to_anchor=(1, 1), loc=2) # Displays the legend outside the graph\n",
    "plt.show()"
   ],
   "execution_count":23,
   "outputs":[
    {
     "data":{
      "image\/png":"[encoded data removed]"
     },
     "metadata":{
      "image\/png":{
       
      }
     },
     "output_type":"display_data"
    }
   ],
   "metadata":{
    "datalore":{
     "node_id":"ZsdkqcS6xcvXe9tWRFIZUP",
     "type":"CODE",
     "hide_input_from_viewers":false,
     "hide_output_from_viewers":false,
     "report_properties":{
      "rowId":"mxOoW3oHhHRkg22mEPZN6K"
     }
    }
   }
  },
  {
   "cell_type":"code",
   "source":[
    "sns.scatterplot(x='petal_length', y='petal_width', hue='species', data=df, )\n",
    "plt.legend(bbox_to_anchor=(1, 1), loc=2) # Displays the legend outside the graph\n",
    "plt.show()"
   ],
   "execution_count":24,
   "outputs":[
    {
     "data":{
      "image\/png":"[encoded data removed]"
     },
     "metadata":{
      "image\/png":{
       
      }
     },
     "output_type":"display_data"
    }
   ],
   "metadata":{
    "datalore":{
     "node_id":"wfZJF1WO0ZSDDaKPqNiavh",
     "type":"CODE",
     "hide_input_from_viewers":true,
     "hide_output_from_viewers":true
    }
   }
  },
  {
   "cell_type":"markdown",
   "source":[
    "### Displot\n",
    "What does a `displot` show?\n",
    "In the documentation, find what the \"kind\" parameter does, and try all the kinds of plot.\n",
    "Can you imagine a use for the kde plots?"
   ],
   "attachments":{
    
   },
   "metadata":{
    "datalore":{
     "node_id":"yRMHsvceyjTeDb8bhBoDRU",
     "type":"MD",
     "hide_input_from_viewers":false,
     "hide_output_from_viewers":false,
     "report_properties":{
      "rowId":"LD2rfA2SyCVDv2V54MBVFT"
     }
    }
   }
  },
  {
   "cell_type":"code",
   "source":[
    "sns.displot(df, x=\"sepal_length\", kind=\"kde\", hue=\"species\")"
   ],
   "execution_count":25,
   "outputs":[
    {
     "data":{
      "text\/plain":[
       "<seaborn.axisgrid.FacetGrid at 0x7f4344a32c40>"
      ]
     },
     "metadata":{
      
     },
     "output_type":"display_data"
    },
    {
     "data":{
      "image\/png":"[encoded data removed]"
     },
     "metadata":{
      "image\/png":{
       
      }
     },
     "output_type":"display_data"
    }
   ],
   "metadata":{
    "datalore":{
     "node_id":"ZnqIIfMt5y1KsyvqkUHpuh",
     "type":"CODE",
     "hide_input_from_viewers":false,
     "hide_output_from_viewers":false,
     "report_properties":{
      "rowId":"eCkfhlcsXYuYFvlYUfeYlU"
     }
    }
   }
  },
  {
   "cell_type":"code",
   "source":[
    "sns.displot(df, x=\"petal_length\", kind=\"kde\", hue=\"species\")"
   ],
   "execution_count":26,
   "outputs":[
    {
     "data":{
      "text\/plain":[
       "<seaborn.axisgrid.FacetGrid at 0x7f43446bbbb0>"
      ]
     },
     "metadata":{
      
     },
     "output_type":"display_data"
    },
    {
     "data":{
      "image\/png":"[encoded data removed]"
     },
     "metadata":{
      "image\/png":{
       
      }
     },
     "output_type":"display_data"
    }
   ],
   "metadata":{
    "datalore":{
     "node_id":"GdOLLjGJqKOISapPPQ0eX0",
     "type":"CODE",
     "hide_input_from_viewers":true,
     "hide_output_from_viewers":true
    }
   }
  },
  {
   "cell_type":"markdown",
   "source":[
    "### Pairplot\n",
    "What does a `pairplot` show?\n",
    "Can you draw any new conclusions from it?\n",
    "In your opinion, what could be the uses of such a graph?"
   ],
   "attachments":{
    
   },
   "metadata":{
    "datalore":{
     "node_id":"CC8loQyqGtSich08dzj1de",
     "type":"MD",
     "hide_input_from_viewers":false,
     "hide_output_from_viewers":false,
     "report_properties":{
      "rowId":"N21WzcYXZzyhN59Z3TlWNb"
     }
    }
   }
  },
  {
   "cell_type":"code",
   "source":[
    "sns.pairplot(df, hue='species', height=2)"
   ],
   "execution_count":27,
   "outputs":[
    {
     "data":{
      "text\/plain":[
       "<seaborn.axisgrid.PairGrid at 0x7f43445fec40>"
      ]
     },
     "metadata":{
      
     },
     "output_type":"display_data"
    },
    {
     "data":{
      "image\/png":"[encoded data removed]"
     },
     "metadata":{
      "image\/png":{
       
      }
     },
     "output_type":"display_data"
    }
   ],
   "metadata":{
    "datalore":{
     "node_id":"WNqqM9lpZ73g9sqijcnU2s",
     "type":"CODE",
     "hide_input_from_viewers":false,
     "hide_output_from_viewers":false,
     "report_properties":{
      "rowId":"0f8pwvSOBiU3KPIt25xzuM"
     }
    }
   }
  },
  {
   "cell_type":"code",
   "source":[
    "sns.pairplot(df, hue='specices', height=1)"
   ],
   "execution_count":28,
   "outputs":[
    {
     "ename":"KeyError",
     "evalue":"KeyError: 'specices'",
     "traceback":[
      "\u001b[0;31m---------------------------------------------------------------------------",
      "Traceback (most recent call last)",
      "    at line 1 in <module>",
      "    at line 2114 in pairplot(data, hue, hue_order, palette, vars, x_vars, y_vars, kind, diag_kind, markers, height, aspect, corner, dropna, plot_kws, diag_kws, grid_kws, size)",
      "    at line 1321 in __init__(self, data, hue, vars, x_vars, y_vars, hue_order, palette, hue_kws, corner, diag_sharey, height, aspect, layout_pad, despine, dropna)",
      "    at line 3807 in __getitem__(self, key)",
      "    at line 3804 in get_loc(self, key, method, tolerance)",
      "KeyError: 'specices'"
     ],
     "output_type":"error"
    },
    {
     "data":{
      "image\/png":"[encoded data removed]"
     },
     "metadata":{
      "image\/png":{
       
      }
     },
     "output_type":"display_data"
    }
   ],
   "metadata":{
    "datalore":{
     "node_id":"7jvEiT5mHEpcgWSLJjqCNH",
     "type":"CODE",
     "hide_input_from_viewers":true,
     "hide_output_from_viewers":true
    }
   }
  },
  {
   "cell_type":"markdown",
   "source":[
    "### Histogram\n",
    "Histograms will not teach us anything new here, but they can be another way of visualizing data."
   ],
   "attachments":{
    
   },
   "metadata":{
    "datalore":{
     "node_id":"EJeDzk4GV37lHFVb0z9KFM",
     "type":"MD",
     "hide_input_from_viewers":false,
     "hide_output_from_viewers":false,
     "report_properties":{
      "rowId":"cg5LzcjPRlZr9GFkUaMMkq"
     }
    }
   }
  },
  {
   "cell_type":"code",
   "source":[
    "fig, axes = plt.subplots(2, 2, figsize=(10,10))\n",
    "\n",
    "axes[0,0].set_title(\"Sepal Length\")\n",
    "axes[0,0].hist(df['sepal_length'], bins=7)\n",
    "\n",
    "axes[0,1].set_title(\"Sepal Width\")\n",
    "axes[0,1].hist(df['sepal_width'], bins=5)\n",
    "\n",
    "axes[1,0].set_title(\"Petal Length\")\n",
    "axes[1,0].hist(df['petal_length'], bins=6)\n",
    "\n",
    "axes[1,1].set_title(\"Petal Width\")\n",
    "axes[1,1].hist(df['petal_width'], bins=6);"
   ],
   "execution_count":45,
   "outputs":[
    {
     "data":{
      "image\/png":"[encoded data removed]"
     },
     "metadata":{
      "image\/png":{
       
      }
     },
     "output_type":"display_data"
    }
   ],
   "metadata":{
    "datalore":{
     "node_id":"yI1ePdDzsziRMHlFa0MnxY",
     "type":"CODE",
     "hide_input_from_viewers":false,
     "hide_output_from_viewers":false,
     "report_properties":{
      "rowId":"PEd6qmPxeNZ9P4UX29pAG5"
     }
    }
   }
  },
  {
   "cell_type":"markdown",
   "source":[
    "### Correlation\n",
    "Correlation shows the relative importance of variables between each other. It can be computed directly with `pandas`."
   ],
   "attachments":{
    
   },
   "metadata":{
    "datalore":{
     "node_id":"NdZJLIBU1Ah1WH9WDRaL9c",
     "type":"MD",
     "hide_input_from_viewers":false,
     "hide_output_from_viewers":false,
     "report_properties":{
      "rowId":"qHNwm4iMwePkRigIMvOGYh"
     }
    }
   }
  },
  {
   "cell_type":"code",
   "source":[
    "df.corr(method='pearson')"
   ],
   "execution_count":46,
   "outputs":[
    {
     "name":"stderr",
     "text":[
      "<ipython-input-46-432dd9d4238b>:1: FutureWarning: The default value of numeric_only in DataFrame.corr is deprecated. In a future version, it will default to False. Select only valid columns or specify the value of numeric_only to silence this warning.\n",
      "  df.corr(method='pearson')\n"
     ],
     "output_type":"stream"
    },
    {
     "data":{
      "text\/html":[
       "<div>\n",
       "<style scoped>\n",
       "    .dataframe tbody tr th:only-of-type {\n",
       "        vertical-align: middle;\n",
       "    }\n",
       "\n",
       "    .dataframe tbody tr th {\n",
       "        vertical-align: top;\n",
       "    }\n",
       "\n",
       "    .dataframe thead th {\n",
       "        text-align: right;\n",
       "    }\n",
       "<\/style>\n",
       "<table border=\"1\" class=\"dataframe\">\n",
       "  <thead>\n",
       "    <tr style=\"text-align: right;\">\n",
       "      <th><\/th>\n",
       "      <th>sepal_length<\/th>\n",
       "      <th>sepal_width<\/th>\n",
       "      <th>petal_length<\/th>\n",
       "      <th>petal_width<\/th>\n",
       "    <\/tr>\n",
       "  <\/thead>\n",
       "  <tbody>\n",
       "    <tr>\n",
       "      <th>sepal_length<\/th>\n",
       "      <td>1.000000<\/td>\n",
       "      <td>-0.117570<\/td>\n",
       "      <td>0.871754<\/td>\n",
       "      <td>0.817941<\/td>\n",
       "    <\/tr>\n",
       "    <tr>\n",
       "      <th>sepal_width<\/th>\n",
       "      <td>-0.117570<\/td>\n",
       "      <td>1.000000<\/td>\n",
       "      <td>-0.428440<\/td>\n",
       "      <td>-0.366126<\/td>\n",
       "    <\/tr>\n",
       "    <tr>\n",
       "      <th>petal_length<\/th>\n",
       "      <td>0.871754<\/td>\n",
       "      <td>-0.428440<\/td>\n",
       "      <td>1.000000<\/td>\n",
       "      <td>0.962865<\/td>\n",
       "    <\/tr>\n",
       "    <tr>\n",
       "      <th>petal_width<\/th>\n",
       "      <td>0.817941<\/td>\n",
       "      <td>-0.366126<\/td>\n",
       "      <td>0.962865<\/td>\n",
       "      <td>1.000000<\/td>\n",
       "    <\/tr>\n",
       "  <\/tbody>\n",
       "<\/table>\n",
       "<\/div>"
      ]
     },
     "metadata":{
      
     },
     "output_type":"display_data"
    }
   ],
   "metadata":{
    "datalore":{
     "node_id":"mfKTWqRYM73zmivltQiKaV",
     "type":"CODE",
     "hide_input_from_viewers":false,
     "hide_output_from_viewers":false,
     "report_properties":{
      "rowId":"rDiq8QD2cKErBV70YJp50f"
     }
    }
   }
  },
  {
   "cell_type":"markdown",
   "source":[
    "`heatmaps` make it easier to see which correlations are the most important."
   ],
   "attachments":{
    
   },
   "metadata":{
    "datalore":{
     "node_id":"iSeJELw47MwB0hNjJyyXvR",
     "type":"MD",
     "hide_input_from_viewers":false,
     "hide_output_from_viewers":false,
     "report_properties":{
      "rowId":"H4NCsXK2KiYGEp8dfCHPRi"
     }
    }
   }
  },
  {
   "cell_type":"code",
   "source":[
    "sns.heatmap(df.corr(method='pearson'),annot = True)\n",
    "plt.show()"
   ],
   "execution_count":47,
   "outputs":[
    {
     "name":"stderr",
     "text":[
      "<ipython-input-47-4eb2f8f6d9ba>:1: FutureWarning: The default value of numeric_only in DataFrame.corr is deprecated. In a future version, it will default to False. Select only valid columns or specify the value of numeric_only to silence this warning.\n",
      "  sns.heatmap(df.corr(method='pearson'),annot = True)\n"
     ],
     "output_type":"stream"
    },
    {
     "data":{
      "image\/png":"[encoded data removed]"
     },
     "metadata":{
      "image\/png":{
       
      }
     },
     "output_type":"display_data"
    }
   ],
   "metadata":{
    "datalore":{
     "node_id":"8trwSII2NGz8gMn4IwHqr5",
     "type":"CODE",
     "hide_input_from_viewers":false,
     "hide_output_from_viewers":false,
     "report_properties":{
      "rowId":"YBtIxYYcFiXcqe42lpUAJC"
     }
    }
   }
  },
  {
   "cell_type":"markdown",
   "source":[
    "### Covariance\n",
    "In the same way, try displaying the covariance matrix with a `heatmap`!\n",
    "\n",
    "*Hint: You can access the covariance matrix with the `cov()` function.*"
   ],
   "attachments":{
    
   },
   "metadata":{
    "datalore":{
     "node_id":"dOwB6AKJ0uz0zdHOcyalFp",
     "type":"MD",
     "hide_input_from_viewers":false,
     "hide_output_from_viewers":false,
     "report_properties":{
      "rowId":"Mxx8IrxksBCSaV18TZoIAe"
     }
    }
   }
  },
  {
   "cell_type":"code",
   "source":[
    "sns.heatmap(df.cov(),annot = True)\n",
    "plt.show()"
   ],
   "execution_count":36,
   "outputs":[
    {
     "name":"stderr",
     "text":[
      "<ipython-input-36-efe015f87520>:1: FutureWarning: The default value of numeric_only in DataFrame.cov is deprecated. In a future version, it will default to False. Select only valid columns or specify the value of numeric_only to silence this warning.\n",
      "  sns.heatmap(df.cov(),annot = True)\n"
     ],
     "output_type":"stream"
    },
    {
     "data":{
      "image\/png":"[encoded data removed]"
     },
     "metadata":{
      "image\/png":{
       
      }
     },
     "output_type":"display_data"
    }
   ],
   "metadata":{
    "datalore":{
     "node_id":"cPXU82JcD8bYqNKfAFR8zD",
     "type":"CODE",
     "hide_input_from_viewers":false,
     "hide_output_from_viewers":false,
     "report_properties":{
      "rowId":"HCGF8LgygF3R95KMlGnJIB"
     }
    }
   }
  },
  {
   "cell_type":"markdown",
   "source":[
    "## Try it yourself!\n",
    "As an exercise, try analysing another dataset that you do no know. There are many datasets freely available on the internet. For example, try loading [another one of sklearn's toy datasets](https:\/\/scikit-learn.org\/stable\/datasets\/toy_dataset.html)!"
   ],
   "attachments":{
    
   },
   "metadata":{
    "datalore":{
     "node_id":"hITUiVqOJni738qI3WhHou",
     "type":"MD",
     "hide_input_from_viewers":false,
     "hide_output_from_viewers":false,
     "report_properties":{
      "rowId":"K05SLSV1jD5bOVLc6Vbzwc"
     }
    }
   }
  },
  {
   "cell_type":"code",
   "source":[
    "# Your code here"
   ],
   "execution_count":null,
   "outputs":[
    
   ],
   "metadata":{
    "datalore":{
     "node_id":"VmtinfT8JD825KkswcUq61",
     "type":"CODE",
     "hide_input_from_viewers":false,
     "hide_output_from_viewers":false,
     "report_properties":{
      "rowId":"Y86VzVe9Gddb4hBxa9oX91"
     }
    }
   }
  }
 ],
 "metadata":{
  "kernelspec":{
   "display_name":"Python",
   "language":"python",
   "name":"python"
  },
  "datalore":{
   "computation_mode":"JUPYTER",
   "package_manager":"pip",
   "base_environment":"default",
   "packages":[
    
   ],
   "report_row_ids":[
    "Jss1her3tt267pYC7LYaDm",
    "Uiucz4os0lTittjExQg24n",
    "WuOUZ5LOT4BAsvpGzbikXe",
    "MGkirnCOJ4QB7kgpJkRSMM",
    "ZF2NiV434mpNRZqL7uAUyw",
    "pwNDwmafn68Ttyuo1jxfJD",
    "mIE8UN0ZWeK8VBHI0ZsEWG",
    "Q315X3xWyj4s9cRMGxERPA",
    "J9TmZcguBFaRWyU2jQ7ZPG",
    "pTkmCcfRVYnlnt0rd2z7Jp",
    "OyU8mdBOeLqEaNUn8sJ7mT",
    "jqLLs4CHubkFXIxqOUGcbG",
    "giKmWgfRtEODofLZrF3gb7",
    "PBlh8ZMNYlhoyWIAMfGmWv",
    "g2lLbcgngGXI0JaHLab1c2",
    "eJc4XA3mNsixqhszfkLsfW",
    "di6gI3OZ0gCEQHPsttLFxS",
    "82FHV1PWWKKv1EdeUlkJ9E",
    "AhEucERHMF5d9JKN0hxwIK",
    "BmOedwwcieffLihfuTsRN5",
    "i9mJrSuMd4d9boU9XpljW6",
    "EoWP4DWeQ4WlIbQ0FNdnCH",
    "iG7Eo8EDpAraZMrLdcvD5V",
    "hH5ptkEwYTaNLuJH2go0MJ",
    "ZYq0b18Mebr4szjC9W4vz6",
    "MhrZ591etdTPsrtRNOneml",
    "VpUiLhRYulrwpNbIa6R6fW",
    "PrXCVjzdaJdjaP5zzEcRok",
    "X9ZAl6jsKoiYzDyy25mLms",
    "mxOoW3oHhHRkg22mEPZN6K",
    "LD2rfA2SyCVDv2V54MBVFT",
    "eCkfhlcsXYuYFvlYUfeYlU",
    "N21WzcYXZzyhN59Z3TlWNb",
    "0f8pwvSOBiU3KPIt25xzuM",
    "cg5LzcjPRlZr9GFkUaMMkq",
    "PEd6qmPxeNZ9P4UX29pAG5",
    "qHNwm4iMwePkRigIMvOGYh",
    "rDiq8QD2cKErBV70YJp50f",
    "H4NCsXK2KiYGEp8dfCHPRi",
    "YBtIxYYcFiXcqe42lpUAJC",
    "Mxx8IrxksBCSaV18TZoIAe",
    "HCGF8LgygF3R95KMlGnJIB",
    "K05SLSV1jD5bOVLc6Vbzwc",
    "Y86VzVe9Gddb4hBxa9oX91"
   ],
   "version":3
  }
 },
 "nbformat":4,
 "nbformat_minor":4
}